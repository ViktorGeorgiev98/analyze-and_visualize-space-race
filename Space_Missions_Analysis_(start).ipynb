{
  "cells": [
    {
      "cell_type": "markdown",
      "metadata": {
        "id": "ka_FkvXBiABo"
      },
      "source": [
        "# Introduction"
      ]
    },
    {
      "cell_type": "markdown",
      "metadata": {
        "id": "AWaMmfxXa-p0",
        "papermill": {
          "duration": 0.035434,
          "end_time": "2020-10-20T21:34:01.886225",
          "exception": false,
          "start_time": "2020-10-20T21:34:01.850791",
          "status": "completed"
        },
        "tags": []
      },
      "source": [
        "<center><img src=\"https://i.imgur.com/9hLRsjZ.jpg\" height=400></center>\n",
        "\n",
        "This dataset was scraped from [nextspaceflight.com](https://nextspaceflight.com/launches/past/?page=1) and includes all the space missions since the beginning of Space Race between the USA and the Soviet Union in 1957!"
      ]
    },
    {
      "cell_type": "markdown",
      "metadata": {
        "id": "ufzKRKS3bV0r"
      },
      "source": [
        "### Install Package with Country Codes"
      ]
    },
    {
      "cell_type": "code",
      "execution_count": 2,
      "metadata": {
        "colab": {
          "base_uri": "https://localhost:8080/"
        },
        "id": "0HxV9o6dbRUE",
        "outputId": "35464d43-d601-4b8f-81fd-6dbd400167f5"
      },
      "outputs": [
        {
          "name": "stdout",
          "output_type": "stream",
          "text": [
            "Collecting iso3166\n",
            "  Downloading iso3166-2.1.1-py3-none-any.whl.metadata (6.6 kB)\n",
            "Downloading iso3166-2.1.1-py3-none-any.whl (9.8 kB)\n",
            "Installing collected packages: iso3166\n",
            "Successfully installed iso3166-2.1.1\n",
            "Note: you may need to restart the kernel to use updated packages.\n"
          ]
        },
        {
          "name": "stderr",
          "output_type": "stream",
          "text": [
            "\n",
            "[notice] A new release of pip is available: 25.0.1 -> 25.1.1\n",
            "[notice] To update, run: python.exe -m pip install --upgrade pip\n"
          ]
        }
      ],
      "source": [
        "%pip install iso3166"
      ]
    },
    {
      "cell_type": "markdown",
      "metadata": {
        "id": "sghkhFoLbof8"
      },
      "source": [
        "### Upgrade Plotly\n",
        "\n",
        "Run the cell below if you are working with Google Colab."
      ]
    },
    {
      "cell_type": "code",
      "execution_count": null,
      "metadata": {
        "colab": {
          "base_uri": "https://localhost:8080/"
        },
        "id": "gQ61wy9gbmxd",
        "outputId": "99185d87-acb8-4237-c0f7-bfb18bfd4d39"
      },
      "outputs": [
        {
          "name": "stdout",
          "output_type": "stream",
          "text": [
            "Requirement already up-to-date: plotly in /usr/local/lib/python3.6/dist-packages (4.12.0)\n",
            "Requirement already satisfied, skipping upgrade: six in /usr/local/lib/python3.6/dist-packages (from plotly) (1.15.0)\n",
            "Requirement already satisfied, skipping upgrade: retrying>=1.3.3 in /usr/local/lib/python3.6/dist-packages (from plotly) (1.3.3)\n"
          ]
        }
      ],
      "source": [
        "%pip install --upgrade plotly"
      ]
    },
    {
      "cell_type": "markdown",
      "metadata": {
        "id": "ErFDBihUi1jN"
      },
      "source": [
        "### Import Statements"
      ]
    },
    {
      "cell_type": "code",
      "execution_count": 3,
      "metadata": {
        "_cell_guid": "b1076dfc-b9ad-4769-8c92-a6c4dae69d19",
        "_kg_hide-input": true,
        "_kg_hide-output": true,
        "_uuid": "8f2839f25d086af736a60e9eeb907d3b93b6e0e5",
        "colab": {
          "base_uri": "https://localhost:8080/"
        },
        "execution": {
          "iopub.execute_input": "2020-10-20T21:34:02.101551Z",
          "iopub.status.busy": "2020-10-20T21:34:02.101085Z",
          "iopub.status.idle": "2020-10-20T21:34:03.726868Z",
          "shell.execute_reply": "2020-10-20T21:34:03.725783Z"
        },
        "id": "xdolY0-Sa-p1",
        "outputId": "7142dedb-82e9-457d-db44-cea4e121bdfe",
        "papermill": {
          "duration": 1.665326,
          "end_time": "2020-10-20T21:34:03.726995",
          "exception": false,
          "start_time": "2020-10-20T21:34:02.061669",
          "status": "completed"
        },
        "tags": []
      },
      "outputs": [],
      "source": [
        "import numpy as np\n",
        "import pandas as pd\n",
        "import plotly.express as px\n",
        "import matplotlib.pyplot as plt\n",
        "import seaborn as sns\n",
        "\n",
        "# These might be helpful:\n",
        "from iso3166 import countries\n",
        "from datetime import datetime, timedelta"
      ]
    },
    {
      "cell_type": "markdown",
      "metadata": {
        "id": "lovGPRgKxIgo"
      },
      "source": [
        "### Notebook Presentation"
      ]
    },
    {
      "cell_type": "code",
      "execution_count": 4,
      "metadata": {
        "id": "DHEULCOjxIIm"
      },
      "outputs": [],
      "source": [
        "pd.options.display.float_format = '{:,.2f}'.format"
      ]
    },
    {
      "cell_type": "markdown",
      "metadata": {
        "id": "yaT3QbjEa-p4",
        "papermill": {
          "duration": 0.034606,
          "end_time": "2020-10-20T21:34:03.798396",
          "exception": false,
          "start_time": "2020-10-20T21:34:03.763790",
          "status": "completed"
        },
        "tags": []
      },
      "source": [
        "### Load the Data"
      ]
    },
    {
      "cell_type": "code",
      "execution_count": 5,
      "metadata": {
        "_cell_guid": "79c7e3d0-c299-4dcb-8224-4455121ee9b0",
        "_kg_hide-input": true,
        "_uuid": "d629ff2d2480ee46fbb7e2d37f6b5fab8052498a",
        "execution": {
          "iopub.execute_input": "2020-10-20T21:34:03.874195Z",
          "iopub.status.busy": "2020-10-20T21:34:03.873775Z",
          "iopub.status.idle": "2020-10-20T21:34:03.921919Z",
          "shell.execute_reply": "2020-10-20T21:34:03.921418Z"
        },
        "id": "0lDOu8aka-p4",
        "papermill": {
          "duration": 0.08876,
          "end_time": "2020-10-20T21:34:03.922028",
          "exception": false,
          "start_time": "2020-10-20T21:34:03.833268",
          "status": "completed"
        },
        "tags": []
      },
      "outputs": [],
      "source": [
        "df_data = pd.read_csv('mission_launches.csv')"
      ]
    },
    {
      "cell_type": "markdown",
      "metadata": {
        "id": "jAnMiVcVjuKB"
      },
      "source": [
        "# Preliminary Data Exploration\n",
        "\n",
        "* What is the shape of `df_data`? \n",
        "* How many rows and columns does it have?\n",
        "* What are the column names?\n",
        "* Are there any NaN values or duplicates?"
      ]
    },
    {
      "cell_type": "code",
      "execution_count": 11,
      "metadata": {
        "id": "0tIuYcYNlPFQ"
      },
      "outputs": [
        {
          "name": "stdout",
          "output_type": "stream",
          "text": [
            "The shape of the data is: (4324, 9)\n",
            "Given the shape of the data ((4324, 9)), we can see that it has 4324 rows and 9 columns\n",
            "Column names of the data:\n",
            " Index(['Unnamed: 0.1', 'Unnamed: 0', 'Organisation', 'Location', 'Date',\n",
            "       'Detail', 'Rocket_Status', 'Price', 'Mission_Status'],\n",
            "      dtype='object')\n"
          ]
        }
      ],
      "source": [
        "# Shape\n",
        "shape = df_data.shape\n",
        "print(f\"The shape of the data is: {shape}\")\n",
        "\n",
        "# How many rows and columns ? \n",
        "print(f\"Given the shape of the data ({shape}), we can see that it has 4324 rows and 9 columns\")\n",
        "print(f\"Column names of the data:\\n {df_data.columns}\")"
      ]
    },
    {
      "cell_type": "code",
      "execution_count": null,
      "metadata": {
        "id": "0dw2hd9UlPmP"
      },
      "outputs": [
        {
          "name": "stdout",
          "output_type": "stream",
          "text": [
            "Does the date have duplicates: No\n"
          ]
        }
      ],
      "source": [
        "# Nan values or duplicates\n",
        "data_has_duplicates = \"Yes\" if df_data.duplicated().any() else \"No\"\n",
        "print(f\"Does the date have duplicates: {data_has_duplicates}\")"
      ]
    },
    {
      "cell_type": "markdown",
      "metadata": {},
      "source": [
        "Code shows **No** duplicates, let us check for **NaN** values"
      ]
    },
    {
      "cell_type": "code",
      "execution_count": 14,
      "metadata": {},
      "outputs": [
        {
          "name": "stdout",
          "output_type": "stream",
          "text": [
            "Does the data have NaN values: Yes\n"
          ]
        }
      ],
      "source": [
        "data_has_nan_values = \"Yes\" if df_data.isna().any().any() else \"No\"\n",
        "print(f\"Does the data have NaN values: {data_has_nan_values}\")"
      ]
    },
    {
      "cell_type": "markdown",
      "metadata": {},
      "source": [
        "Seems the data does have **NaN** values, let us see them"
      ]
    },
    {
      "cell_type": "code",
      "execution_count": 15,
      "metadata": {},
      "outputs": [
        {
          "name": "stdout",
          "output_type": "stream",
          "text": [
            "NaN values:\n",
            "Unnamed: 0.1         0\n",
            "Unnamed: 0           0\n",
            "Organisation         0\n",
            "Location             0\n",
            "Date                 0\n",
            "Detail               0\n",
            "Rocket_Status        0\n",
            "Price             3360\n",
            "Mission_Status       0\n",
            "dtype: int64\n"
          ]
        }
      ],
      "source": [
        "print(f\"NaN values:\\n{df_data.isna().sum()}\")"
      ]
    },
    {
      "cell_type": "markdown",
      "metadata": {},
      "source": [
        "They are in the price column. Let us see"
      ]
    },
    {
      "cell_type": "code",
      "execution_count": null,
      "metadata": {},
      "outputs": [
        {
          "name": "stdout",
          "output_type": "stream",
          "text": [
            "NaN values:\n",
            "Unnamed: 0.1      0\n",
            "Unnamed: 0        0\n",
            "Organisation      0\n",
            "Location          0\n",
            "Date              0\n",
            "Detail            0\n",
            "Rocket_Status     0\n",
            "Price             0\n",
            "Mission_Status    0\n",
            "dtype: int64\n"
          ]
        },
        {
          "data": {
            "text/plain": [
              "0        50.0\n",
              "1       29.75\n",
              "2           0\n",
              "3        65.0\n",
              "4       145.0\n",
              "        ...  \n",
              "4319        0\n",
              "4320        0\n",
              "4321        0\n",
              "4322        0\n",
              "4323        0\n",
              "Name: Price, Length: 4324, dtype: object"
            ]
          },
          "execution_count": 18,
          "metadata": {},
          "output_type": "execute_result"
        }
      ],
      "source": [
        "df_data[\"Price\"][:5]\n",
        "\n",
        "# Change to 0\n",
        "df_data[\"Price\"] = df_data[\"Price\"].fillna(0)\n",
        "\n",
        "# Check again\n",
        "print(f\"NaN values:\\n{df_data.isna().sum()}\")"
      ]
    },
    {
      "cell_type": "markdown",
      "metadata": {},
      "source": [
        "Now there are no more **NaN** values"
      ]
    },
    {
      "cell_type": "markdown",
      "metadata": {
        "id": "KUN30y6ja-p9",
        "papermill": {
          "duration": 0.05406,
          "end_time": "2020-10-20T21:34:04.149973",
          "exception": false,
          "start_time": "2020-10-20T21:34:04.095913",
          "status": "completed"
        },
        "tags": []
      },
      "source": [
        "## Data Cleaning - Check for Missing Values and Duplicates\n",
        "\n",
        "Consider removing columns containing junk data. "
      ]
    },
    {
      "cell_type": "code",
      "execution_count": null,
      "metadata": {
        "id": "wWQvnJb0k2Ig"
      },
      "outputs": [],
      "source": []
    },
    {
      "cell_type": "code",
      "execution_count": null,
      "metadata": {
        "id": "SfxVooCYk2As"
      },
      "outputs": [],
      "source": []
    },
    {
      "cell_type": "markdown",
      "metadata": {
        "id": "QHon_T5sa-p_",
        "papermill": {
          "duration": 0.036712,
          "end_time": "2020-10-20T21:34:05.227032",
          "exception": false,
          "start_time": "2020-10-20T21:34:05.190320",
          "status": "completed"
        },
        "tags": []
      },
      "source": [
        "## Descriptive Statistics"
      ]
    },
    {
      "cell_type": "code",
      "execution_count": 22,
      "metadata": {
        "id": "Fh1-libjkJIK"
      },
      "outputs": [
        {
          "data": {
            "text/html": [
              "<div>\n",
              "<style scoped>\n",
              "    .dataframe tbody tr th:only-of-type {\n",
              "        vertical-align: middle;\n",
              "    }\n",
              "\n",
              "    .dataframe tbody tr th {\n",
              "        vertical-align: top;\n",
              "    }\n",
              "\n",
              "    .dataframe thead th {\n",
              "        text-align: right;\n",
              "    }\n",
              "</style>\n",
              "<table border=\"1\" class=\"dataframe\">\n",
              "  <thead>\n",
              "    <tr style=\"text-align: right;\">\n",
              "      <th></th>\n",
              "      <th>Unnamed: 0.1</th>\n",
              "      <th>Unnamed: 0</th>\n",
              "      <th>Organisation</th>\n",
              "      <th>Location</th>\n",
              "      <th>Date</th>\n",
              "      <th>Detail</th>\n",
              "      <th>Rocket_Status</th>\n",
              "      <th>Price</th>\n",
              "      <th>Mission_Status</th>\n",
              "    </tr>\n",
              "  </thead>\n",
              "  <tbody>\n",
              "    <tr>\n",
              "      <th>4319</th>\n",
              "      <td>4319</td>\n",
              "      <td>4319</td>\n",
              "      <td>US Navy</td>\n",
              "      <td>LC-18A, Cape Canaveral AFS, Florida, USA</td>\n",
              "      <td>Wed Feb 05, 1958 07:33 UTC</td>\n",
              "      <td>Vanguard | Vanguard TV3BU</td>\n",
              "      <td>StatusRetired</td>\n",
              "      <td>0</td>\n",
              "      <td>Failure</td>\n",
              "    </tr>\n",
              "    <tr>\n",
              "      <th>4320</th>\n",
              "      <td>4320</td>\n",
              "      <td>4320</td>\n",
              "      <td>AMBA</td>\n",
              "      <td>LC-26A, Cape Canaveral AFS, Florida, USA</td>\n",
              "      <td>Sat Feb 01, 1958 03:48 UTC</td>\n",
              "      <td>Juno I | Explorer 1</td>\n",
              "      <td>StatusRetired</td>\n",
              "      <td>0</td>\n",
              "      <td>Success</td>\n",
              "    </tr>\n",
              "    <tr>\n",
              "      <th>4321</th>\n",
              "      <td>4321</td>\n",
              "      <td>4321</td>\n",
              "      <td>US Navy</td>\n",
              "      <td>LC-18A, Cape Canaveral AFS, Florida, USA</td>\n",
              "      <td>Fri Dec 06, 1957 16:44 UTC</td>\n",
              "      <td>Vanguard | Vanguard TV3</td>\n",
              "      <td>StatusRetired</td>\n",
              "      <td>0</td>\n",
              "      <td>Failure</td>\n",
              "    </tr>\n",
              "    <tr>\n",
              "      <th>4322</th>\n",
              "      <td>4322</td>\n",
              "      <td>4322</td>\n",
              "      <td>RVSN USSR</td>\n",
              "      <td>Site 1/5, Baikonur Cosmodrome, Kazakhstan</td>\n",
              "      <td>Sun Nov 03, 1957 02:30 UTC</td>\n",
              "      <td>Sputnik 8K71PS | Sputnik-2</td>\n",
              "      <td>StatusRetired</td>\n",
              "      <td>0</td>\n",
              "      <td>Success</td>\n",
              "    </tr>\n",
              "    <tr>\n",
              "      <th>4323</th>\n",
              "      <td>4323</td>\n",
              "      <td>4323</td>\n",
              "      <td>RVSN USSR</td>\n",
              "      <td>Site 1/5, Baikonur Cosmodrome, Kazakhstan</td>\n",
              "      <td>Fri Oct 04, 1957 19:28 UTC</td>\n",
              "      <td>Sputnik 8K71PS | Sputnik-1</td>\n",
              "      <td>StatusRetired</td>\n",
              "      <td>0</td>\n",
              "      <td>Success</td>\n",
              "    </tr>\n",
              "  </tbody>\n",
              "</table>\n",
              "</div>"
            ],
            "text/plain": [
              "      Unnamed: 0.1  Unnamed: 0 Organisation  \\\n",
              "4319          4319        4319      US Navy   \n",
              "4320          4320        4320         AMBA   \n",
              "4321          4321        4321      US Navy   \n",
              "4322          4322        4322    RVSN USSR   \n",
              "4323          4323        4323    RVSN USSR   \n",
              "\n",
              "                                       Location                        Date  \\\n",
              "4319   LC-18A, Cape Canaveral AFS, Florida, USA  Wed Feb 05, 1958 07:33 UTC   \n",
              "4320   LC-26A, Cape Canaveral AFS, Florida, USA  Sat Feb 01, 1958 03:48 UTC   \n",
              "4321   LC-18A, Cape Canaveral AFS, Florida, USA  Fri Dec 06, 1957 16:44 UTC   \n",
              "4322  Site 1/5, Baikonur Cosmodrome, Kazakhstan  Sun Nov 03, 1957 02:30 UTC   \n",
              "4323  Site 1/5, Baikonur Cosmodrome, Kazakhstan  Fri Oct 04, 1957 19:28 UTC   \n",
              "\n",
              "                          Detail  Rocket_Status Price Mission_Status  \n",
              "4319   Vanguard | Vanguard TV3BU  StatusRetired     0        Failure  \n",
              "4320         Juno I | Explorer 1  StatusRetired     0        Success  \n",
              "4321     Vanguard | Vanguard TV3  StatusRetired     0        Failure  \n",
              "4322  Sputnik 8K71PS | Sputnik-2  StatusRetired     0        Success  \n",
              "4323  Sputnik 8K71PS | Sputnik-1  StatusRetired     0        Success  "
            ]
          },
          "execution_count": 22,
          "metadata": {},
          "output_type": "execute_result"
        }
      ],
      "source": [
        "df_data.tail()"
      ]
    },
    {
      "cell_type": "code",
      "execution_count": 23,
      "metadata": {
        "id": "dGZa5HdbkJBT"
      },
      "outputs": [
        {
          "data": {
            "text/html": [
              "<div>\n",
              "<style scoped>\n",
              "    .dataframe tbody tr th:only-of-type {\n",
              "        vertical-align: middle;\n",
              "    }\n",
              "\n",
              "    .dataframe tbody tr th {\n",
              "        vertical-align: top;\n",
              "    }\n",
              "\n",
              "    .dataframe thead th {\n",
              "        text-align: right;\n",
              "    }\n",
              "</style>\n",
              "<table border=\"1\" class=\"dataframe\">\n",
              "  <thead>\n",
              "    <tr style=\"text-align: right;\">\n",
              "      <th></th>\n",
              "      <th>Unnamed: 0.1</th>\n",
              "      <th>Unnamed: 0</th>\n",
              "      <th>Organisation</th>\n",
              "      <th>Location</th>\n",
              "      <th>Date</th>\n",
              "      <th>Detail</th>\n",
              "      <th>Rocket_Status</th>\n",
              "      <th>Price</th>\n",
              "      <th>Mission_Status</th>\n",
              "    </tr>\n",
              "  </thead>\n",
              "  <tbody>\n",
              "    <tr>\n",
              "      <th>0</th>\n",
              "      <td>0</td>\n",
              "      <td>0</td>\n",
              "      <td>SpaceX</td>\n",
              "      <td>LC-39A, Kennedy Space Center, Florida, USA</td>\n",
              "      <td>Fri Aug 07, 2020 05:12 UTC</td>\n",
              "      <td>Falcon 9 Block 5 | Starlink V1 L9 &amp; BlackSky</td>\n",
              "      <td>StatusActive</td>\n",
              "      <td>50.0</td>\n",
              "      <td>Success</td>\n",
              "    </tr>\n",
              "    <tr>\n",
              "      <th>1</th>\n",
              "      <td>1</td>\n",
              "      <td>1</td>\n",
              "      <td>CASC</td>\n",
              "      <td>Site 9401 (SLS-2), Jiuquan Satellite Launch Ce...</td>\n",
              "      <td>Thu Aug 06, 2020 04:01 UTC</td>\n",
              "      <td>Long March 2D | Gaofen-9 04 &amp; Q-SAT</td>\n",
              "      <td>StatusActive</td>\n",
              "      <td>29.75</td>\n",
              "      <td>Success</td>\n",
              "    </tr>\n",
              "    <tr>\n",
              "      <th>2</th>\n",
              "      <td>2</td>\n",
              "      <td>2</td>\n",
              "      <td>SpaceX</td>\n",
              "      <td>Pad A, Boca Chica, Texas, USA</td>\n",
              "      <td>Tue Aug 04, 2020 23:57 UTC</td>\n",
              "      <td>Starship Prototype | 150 Meter Hop</td>\n",
              "      <td>StatusActive</td>\n",
              "      <td>0</td>\n",
              "      <td>Success</td>\n",
              "    </tr>\n",
              "    <tr>\n",
              "      <th>3</th>\n",
              "      <td>3</td>\n",
              "      <td>3</td>\n",
              "      <td>Roscosmos</td>\n",
              "      <td>Site 200/39, Baikonur Cosmodrome, Kazakhstan</td>\n",
              "      <td>Thu Jul 30, 2020 21:25 UTC</td>\n",
              "      <td>Proton-M/Briz-M | Ekspress-80 &amp; Ekspress-103</td>\n",
              "      <td>StatusActive</td>\n",
              "      <td>65.0</td>\n",
              "      <td>Success</td>\n",
              "    </tr>\n",
              "    <tr>\n",
              "      <th>4</th>\n",
              "      <td>4</td>\n",
              "      <td>4</td>\n",
              "      <td>ULA</td>\n",
              "      <td>SLC-41, Cape Canaveral AFS, Florida, USA</td>\n",
              "      <td>Thu Jul 30, 2020 11:50 UTC</td>\n",
              "      <td>Atlas V 541 | Perseverance</td>\n",
              "      <td>StatusActive</td>\n",
              "      <td>145.0</td>\n",
              "      <td>Success</td>\n",
              "    </tr>\n",
              "  </tbody>\n",
              "</table>\n",
              "</div>"
            ],
            "text/plain": [
              "   Unnamed: 0.1  Unnamed: 0 Organisation  \\\n",
              "0             0           0       SpaceX   \n",
              "1             1           1         CASC   \n",
              "2             2           2       SpaceX   \n",
              "3             3           3    Roscosmos   \n",
              "4             4           4          ULA   \n",
              "\n",
              "                                            Location  \\\n",
              "0         LC-39A, Kennedy Space Center, Florida, USA   \n",
              "1  Site 9401 (SLS-2), Jiuquan Satellite Launch Ce...   \n",
              "2                      Pad A, Boca Chica, Texas, USA   \n",
              "3       Site 200/39, Baikonur Cosmodrome, Kazakhstan   \n",
              "4           SLC-41, Cape Canaveral AFS, Florida, USA   \n",
              "\n",
              "                         Date                                        Detail  \\\n",
              "0  Fri Aug 07, 2020 05:12 UTC  Falcon 9 Block 5 | Starlink V1 L9 & BlackSky   \n",
              "1  Thu Aug 06, 2020 04:01 UTC           Long March 2D | Gaofen-9 04 & Q-SAT   \n",
              "2  Tue Aug 04, 2020 23:57 UTC            Starship Prototype | 150 Meter Hop   \n",
              "3  Thu Jul 30, 2020 21:25 UTC  Proton-M/Briz-M | Ekspress-80 & Ekspress-103   \n",
              "4  Thu Jul 30, 2020 11:50 UTC                    Atlas V 541 | Perseverance   \n",
              "\n",
              "  Rocket_Status  Price Mission_Status  \n",
              "0  StatusActive   50.0        Success  \n",
              "1  StatusActive  29.75        Success  \n",
              "2  StatusActive      0        Success  \n",
              "3  StatusActive   65.0        Success  \n",
              "4  StatusActive  145.0        Success  "
            ]
          },
          "execution_count": 23,
          "metadata": {},
          "output_type": "execute_result"
        }
      ],
      "source": [
        "df_data.head()"
      ]
    },
    {
      "cell_type": "code",
      "execution_count": 31,
      "metadata": {},
      "outputs": [
        {
          "data": {
            "text/plain": [
              "0      2020-08-07 05:12:00+00:00\n",
              "1      2020-08-06 04:01:00+00:00\n",
              "2      2020-08-04 23:57:00+00:00\n",
              "3      2020-07-30 21:25:00+00:00\n",
              "4      2020-07-30 11:50:00+00:00\n",
              "                  ...           \n",
              "4319   1958-02-05 07:33:00+00:00\n",
              "4320   1958-02-01 03:48:00+00:00\n",
              "4321   1957-12-06 16:44:00+00:00\n",
              "4322   1957-11-03 02:30:00+00:00\n",
              "4323   1957-10-04 19:28:00+00:00\n",
              "Name: Date, Length: 4324, dtype: datetime64[ns, UTC]"
            ]
          },
          "execution_count": 31,
          "metadata": {},
          "output_type": "execute_result"
        }
      ],
      "source": [
        "# Change date\n",
        "df_data['Date'] = pd.to_datetime(df_data['Date'], format='%a %b %d, %Y %H:%M %Z', errors='coerce')\n",
        "df_data[\"Date\"]"
      ]
    },
    {
      "cell_type": "markdown",
      "metadata": {
        "id": "cgCjcpeUkKPW"
      },
      "source": [
        "# Number of Launches per Company\n",
        "\n",
        "Create a chart that shows the number of space mission launches by organisation."
      ]
    },
    {
      "cell_type": "code",
      "execution_count": 35,
      "metadata": {
        "id": "rxvcIrtskxYB"
      },
      "outputs": [
        {
          "name": "stdout",
          "output_type": "stream",
          "text": [
            "Number of launches per company: \n",
            "Organisation\n",
            "RVSN USSR           1777\n",
            "Arianespace          279\n",
            "General Dynamics     251\n",
            "CASC                 251\n",
            "NASA                 203\n",
            "VKS RF               201\n",
            "US Air Force         161\n",
            "ULA                  140\n",
            "Boeing               136\n",
            "Martin Marietta      114\n",
            "SpaceX               100\n",
            "MHI                   84\n",
            "Northrop              83\n",
            "Lockheed              79\n",
            "ISRO                  76\n",
            "Roscosmos             55\n",
            "ILS                   46\n",
            "Sea Launch            36\n",
            "ISAS                  30\n",
            "Kosmotras             22\n",
            "US Navy               17\n",
            "Rocket Lab            13\n",
            "ISA                   13\n",
            "Eurockot              13\n",
            "ESA                   13\n",
            "Blue Origin           12\n",
            "IAI                   11\n",
            "ExPace                10\n",
            "ASI                    9\n",
            "CNES                   8\n",
            "AMBA                   8\n",
            "JAXA                   7\n",
            "Land Launch            7\n",
            "MITT                   7\n",
            "UT                     5\n",
            "CASIC                  5\n",
            "KCST                   5\n",
            "Exos                   4\n",
            "CECLES                 4\n",
            "Arm??e de l'Air        4\n",
            "SRC                    3\n",
            "KARI                   3\n",
            "AEB                    3\n",
            "RAE                    2\n",
            "Yuzhmash               2\n",
            "OKB-586                2\n",
            "Virgin Orbit           1\n",
            "IRGC                   1\n",
            "OneSpace               1\n",
            "Landspace              1\n",
            "i-Space                1\n",
            "Sandia                 1\n",
            "Starsem                1\n",
            "Khrunichev             1\n",
            "Douglas                1\n",
            "EER                    1\n",
            "Name: count, dtype: int64\n"
          ]
        }
      ],
      "source": [
        "number_of_launches_per_company = df_data[\"Organisation\"].value_counts()\n",
        "print(f\"Number of launches per company: \\n{number_of_launches_per_company}\")"
      ]
    },
    {
      "cell_type": "markdown",
      "metadata": {},
      "source": [
        "Let us visualize it"
      ]
    },
    {
      "cell_type": "code",
      "execution_count": 40,
      "metadata": {
        "id": "qgneHUbWkw5v"
      },
      "outputs": [
        {
          "data": {
            "image/png": "[encoded data removed]",
            "text/plain": [
              "<Figure size 1200x600 with 1 Axes>"
            ]
          },
          "metadata": {},
          "output_type": "display_data"
        }
      ],
      "source": [
        "top_n = number_of_launches_per_company.head(20) # top 20 companies with the most launches\n",
        "plt.figure(figsize=(12, 6))\n",
        "plt.title(\"Number of launches per company\")\n",
        "plt.xlabel(\"Company\")\n",
        "plt.ylabel(\"Number of launches\")\n",
        "plt.xticks(rotation=45, ha='right')\n",
        "plt.tight_layout()\n",
        "plt.bar(top_n.index, top_n.values, color='skyblue')\n",
        "plt.show()\n"
      ]
    },
    {
      "cell_type": "markdown",
      "metadata": {
        "id": "7Gwteht2kR_h"
      },
      "source": [
        "# Number of Active versus Retired Rockets\n",
        "\n",
        "How many rockets are active compared to those that are decomissioned? "
      ]
    },
    {
      "cell_type": "code",
      "execution_count": 43,
      "metadata": {
        "id": "SxmOWS9cmTq6"
      },
      "outputs": [
        {
          "name": "stdout",
          "output_type": "stream",
          "text": [
            "Active vs not active rockets: \n",
            "Rocket_Status\n",
            "StatusRetired    3534\n",
            "StatusActive      790\n",
            "Name: count, dtype: int64\n",
            "Retired: 3534\n",
            "Active: 790\n"
          ]
        }
      ],
      "source": [
        "active_vs_decomissioned = df_data[\"Rocket_Status\"].value_counts()\n",
        "print(f\"Active vs not active rockets: \\n{active_vs_decomissioned}\")\n",
        "print(f\"Retired: {active_vs_decomissioned[\"StatusRetired\"]}\")\n",
        "print(f\"Active: {active_vs_decomissioned[\"StatusActive\"]}\")"
      ]
    },
    {
      "cell_type": "code",
      "execution_count": 45,
      "metadata": {
        "id": "ydj0-OZ6mToH"
      },
      "outputs": [
        {
          "data": {
            "image/png": "[encoded data removed]",
            "text/plain": [
              "<Figure size 1200x600 with 1 Axes>"
            ]
          },
          "metadata": {},
          "output_type": "display_data"
        }
      ],
      "source": [
        "# Make a bar chart\n",
        "plt.figure(figsize=(12, 6))\n",
        "plt.title(\"Active vs Decomissioned rockets\")\n",
        "plt.xlabel(\"Status\")\n",
        "plt.ylabel(\"Number of rockets\")\n",
        "plt.xticks(rotation=45, ha=\"right\")\n",
        "plt.bar(active_vs_decomissioned.index, active_vs_decomissioned.values, color=\"green\")\n",
        "plt.tight_layout()\n",
        "plt.show()"
      ]
    },
    {
      "cell_type": "markdown",
      "metadata": {
        "id": "y9WtP5xWkYkp"
      },
      "source": [
        "# Distribution of Mission Status\n",
        "\n",
        "How many missions were successful?\n",
        "How many missions failed?"
      ]
    },
    {
      "cell_type": "code",
      "execution_count": 47,
      "metadata": {
        "id": "83kY1alqmUhb"
      },
      "outputs": [
        {
          "name": "stdout",
          "output_type": "stream",
          "text": [
            "Mission status: Mission_Status\n",
            "Success              3879\n",
            "Failure               339\n",
            "Partial Failure       102\n",
            "Prelaunch Failure       4\n",
            "Name: count, dtype: int64\n",
            "Success: 3879\n",
            "Failure: 339\n",
            "Partial Failure: 102\n",
            "Prelaunch Failure: 4\n"
          ]
        }
      ],
      "source": [
        "mission_status = df_data[\"Mission_Status\"].value_counts()\n",
        "print(f\"Mission status: {mission_status}\")\n",
        "print(f\"Success: {mission_status[\"Success\"]}\")\n",
        "print(f\"Failure: {mission_status[\"Failure\"]}\")\n",
        "print(f\"Partial Failure: {mission_status[\"Partial Failure\"]}\")\n",
        "print(f\"Prelaunch Failure: {mission_status[\"Prelaunch Failure\"]}\")"
      ]
    },
    {
      "cell_type": "code",
      "execution_count": 48,
      "metadata": {
        "id": "bdmXcaopmUeZ"
      },
      "outputs": [
        {
          "data": {
            "image/png": "[encoded data removed]",
            "text/plain": [
              "<Figure size 1200x600 with 1 Axes>"
            ]
          },
          "metadata": {},
          "output_type": "display_data"
        }
      ],
      "source": [
        "# Plot the result\n",
        "plt.figure(figsize=(12, 6))\n",
        "plt.title(\"Mission status: Successful vs Failure\")\n",
        "plt.xlabel(\"Status\")\n",
        "plt.ylabel(\"Number of Missions\")\n",
        "plt.xticks(rotation=45, ha=\"right\")\n",
        "plt.bar(mission_status.index, mission_status.values, color=\"red\")\n",
        "plt.show()"
      ]
    },
    {
      "cell_type": "markdown",
      "metadata": {
        "id": "jgTCihuoa-qH",
        "papermill": {
          "duration": 0.03854,
          "end_time": "2020-10-20T21:34:05.968626",
          "exception": false,
          "start_time": "2020-10-20T21:34:05.930086",
          "status": "completed"
        },
        "tags": []
      },
      "source": [
        "# How Expensive are the Launches? \n",
        "\n",
        "Create a histogram and visualise the distribution. The price column is given in USD millions (careful of missing values). "
      ]
    },
    {
      "cell_type": "code",
      "execution_count": 60,
      "metadata": {
        "id": "PLOMhzZFnSCO"
      },
      "outputs": [
        {
          "name": "stdout",
          "output_type": "stream",
          "text": [
            "Prices in millions: \n",
            "[50.0, 29.75, 65.0, 145.0, 64.68, 48.5, 50.0, 90.0, 46.0, 28.3, 29.15, 29.75, 7.5, 64.68, 50.0, 29.15, 29.75, 50.0, 7.5, 30.8, 50.0, 29.75, 50.0, 5.3, 12.0, 112.5, 120.0, 48.5, 50.0, 29.15, 48.5, 153.0, 30.8, 48.5, 50.0, 29.15, 50.0, 48.5, 29.75, 200.0, 50.0, 85.0, 115.0, 90.0, 48.5, 7.5, 50.0, 50.0, 200.0, 29.75, 29.15, 50.0, 41.8, 65.0, 64.68, 50.0, 21.0, 48.5, 48.5, 7.5, 50.0, 64.68, 31.0, 200.0, 50.0, 29.15, 64.68, 85.0, 29.15, 7.5, 40.0, 65.0, 64.68, 48.5, 29.75, 112.5, 5.3, 64.68, 41.8, 164.0, 48.5, 7.5, 29.15, 7.5, 153.0, 50.0, 200.0, 65.0, 48.5, 48.5, 30.8, 50.0, 62.0, 65.0, 37.0, 7.5, 90.0, 29.15, 200.0, 50.0, 5.3, 65.0, 50.0, 64.68, 21.0, 7.5, 50.0, 64.68, 29.15, 85.0, 90.0, 48.5, 21.0, 29.15, 7.5, 37.0, 29.15, 50.0, 50.0, 200.0, 5.3, 350.0, 39.0, 50.0, 29.15, 48.5, 50.0, 5.3, 65.0, 47.0, 7.5, 29.15, 29.75, 50.0, 200.0, 50.0, 41.8, 21.0, 37.0, 29.75, 85.0, 50.0, 62.0, 7.5, 48.5, 29.15, 90.0, 30.8, 35.0, 64.68, 200.0, 153.0, 30.8, 50.0, 200.0, 112.5, 21.0, 50.0, 30.8, 37.0, 350.0, 50.0, 64.68, 50.0, 50.0, 48.5, 69.7, 30.8, 62.0, 30.8, 90.0, 69.7, 62.0, 29.75, 62.0, 85.0, 64.68, 50.0, 64.68, 109.0, 29.15, 5.3, 41.8, 62.0, 65.0, 153.0, 31.0, 64.68, 200.0, 62.0, 64.68, 62.0, 47.0, 29.75, 62.0, 145.0, 90.0, 62.0, 48.5, 90.0, 29.75, 48.5, 62.0, 200.0, 30.8, 7.5, 115.0, 5.3, 39.0, 29.75, 31.0, 29.75, 62.0, 30.8, 29.75, 62.0, 90.0, 62.0, 29.15, 29.75, 35.0, 30.8, 64.68, 85.0, 37.0, 45.0, 62.0, 123.0, 48.5, 41.8, 62.0, 90.0, 62.0, 29.75, 200.0, 30.8, 65.0, 145.0, 65.0, 62.0, 31.0, 46.0, 62.0, 109.0, 65.0, 62.0, 37.0, 48.5, 62.0, 200.0, 62.0, 62.0, 31.0, 29.15, 64.68, 48.5, 65.0, 62.0, 62.0, 200.0, 90.0, 7.5, 62.0, 47.0, 200.0, 62.0, 109.0, 29.15, 62.0, 90.0, 62.0, 37.0, 109.0, 62.0, 31.0, 200.0, 109.0, 62.0, 29.15, 29.75, 200.0, 29.75, 130.0, 40.0, 29.15, 112.5, 31.0, 37.0, 145.0, 29.75, 109.0, 5.3, 90.0, 85.0, 200.0, 25.0, 37.0, 115.0, 47.0, 62.0, 64.68, 200.0, 164.0, 29.75, 62.0, 64.68, 29.15, 123.0, 62.0, 64.68, 153.0, 31.0, 200.0, 62.0, 350.0, 65.0, 41.8, 64.68, 48.5, 62.0, 29.75, 62.0, 31.0, 62.0, 29.75, 48.5, 69.7, 48.5, 109.0, 65.0, 35.0, 31.0, 200.0, 62.0, 90.0, 41.8, 48.5, 109.0, 65.0, 200.0, 31.0, 56.5, 29.15, 62.0, 21.0, 109.0, 37.0, 200.0, 15.0, 109.0, 109.0, 123.0, 200.0, 31.0, 5.3, 41.8, 153.0, 47.0, 200.0, 112.5, 200.0, 109.0, 31.0, 56.5, 37.0, 200.0, 120.0, 56.5, 200.0, 56.5, 41.8, 31.0, 90.0, 29.0, 164.0, 123.0, 56.5, 56.5, 37.0, 90.0, 153.0, 56.5, 62.0, 145.0, 200.0, 350.0, 90.0, 29.0, 109.0, 80.0, 200.0, 31.0, 90.0, 56.5, 109.0, 200.0, 56.5, 109.0, 56.5, 109.0, 164.0, 56.5, 80.0, 41.8, 21.0, 29.0, 90.0, 41.8, 109.0, 164.0, 37.0, 56.5, 145.0, 31.0, 109.0, 200.0, 90.0, 164.0, 200.0, 109.0, 80.0, 56.5, 47.0, 41.8, 120.0, 56.5, 41.8, 29.0, 40.0, 109.0, 31.0, 56.5, 140.0, 80.0, 41.8, 55.0, 200.0, 350.0, 29.0, 112.5, 200.0, 153.0, 65.0, 31.0, 40.0, 109.0, 37.0, 80.0, 109.0, 59.5, 21.0, 109.0, 200.0, 109.0, 90.0, 41.8, 200.0, 120.0, 80.0, 200.0, 59.5, 164.0, 200.0, 109.0, 21.0, 109.0, 200.0, 41.8, 112.5, 200.0, 350.0, 109.0, 40.0, 59.5, 90.0, 200.0, 140.0, 31.0, 31.0, 153.0, 37.0, 80.0, 90.0, 145.0, 21.0, 46.0, 90.0, 200.0, 90.0, 29.0, 200.0, 153.0, 164.0, 31.0, 450.0, 40.0, 200.0, 450.0, 109.0, 200.0, 25.0, 115.0, 164.0, 120.0, 45.0, 450.0, 40.0, 41.8, 112.5, 350.0, 200.0, 47.0, 59.5, 200.0, 350.0, 46.0, 200.0, 46.0, 120.0, 41.8, 140.0, 200.0, 21.0, 200.0, 29.0, 29.0, 59.5, 41.8, 164.0, 200.0, 450.0, 90.0, 120.0, 47.0, 29.0, 450.0, 164.0, 109.0, 450.0, 90.0, 130.0, 450.0, 41.8, 200.0, 450.0, 109.0, 200.0, 21.0, 112.5, 109.0, 450.0, 200.0, 29.0, 450.0, 7.0, 41.8, 200.0, 164.0, 123.0, 40.0, 200.0, 450.0, 21.0, 123.0, 41.8, 450.0, 45.0, 200.0, 90.0, 350.0, 200.0, 450.0, 29.75, 29.75, 29.15, 64.68, 31.0, 40.0, 29.0, 7.0, 29.0, 200.0, 7.0, 200.0, 200.0, 450.0, 64.68, 41.8, 21.0, 20.14, 200.0, 40.0, 123.0, 115.0, 450.0, 90.0, 450.0, 21.0, 109.0, 200.0, 64.68, 350.0, 450.0, 123.0, 64.68, 47.0, 200.0, 450.0, 29.0, 109.0, 29.0, 450.0, 69.7, 29.75, 29.15, 200.0, 40.0, 40.0, 21.0, 29.0, 69.7, 30.8, 7.0, 200.0, 109.0, 69.7, 25.0, 40.0, 450.0, 200.0, 69.7, 133.0, 64.68, 200.0, 69.7, 90.0, 450.0, 30.8, 200.0, 41.8, 29.0, 29.0, 47.0, 450.0, 164.0, 200.0, 164.0, 64.68, 115.0, 40.0, 40.0, 7.0, 200.0, 153.0, 200.0, 41.8, 40.0, 29.75, 41.8, 29.0, 109.0, 30.8, 450.0, 29.75, 25.0, 40.0, 40.0, 130.0, 200.0, 350.0, 190.0, 135.0, 30.8, 48.5, 64.68, 69.7, 29.75, 47.0, 64.68, 30.8, 30.8, 190.0, 29.0, 45.0, 30.8, 190.0, 30.8, 69.7, 29.75, 41.8, 64.68, 35.0, 25.0, 133.0, 40.0, 135.0, 41.8, 40.0, 69.7, 109.0, 47.0, 40.0, 133.0, 40.0, 450.0, 35.0, 29.0, 90.0, 200.0, 450.0, 164.0, 64.68, 450.0, 25.0, 109.0, 35.0, 41.8, 450.0, 64.68, 450.0, 41.8, 450.0, 40.0, 450.0, 25.0, 45.0, 90.0, 450.0, 450.0, 450.0, 47.0, 450.0, 450.0, 69.7, 450.0, 69.7, 450.0, 40.0, 29.0, 35.0, 450.0, 40.0, 40.0, 450.0, 41.8, 45.0, 450.0, 40.0, 69.7, 45.0, 450.0, 35.0, 40.0, 64.68, 450.0, 35.0, 30.8, 25.0, 450.0, 40.0, 64.68, 29.0, 40.0, 30.8, 40.0, 450.0, 450.0, 40.0, 45.0, 40.0, 30.8, 40.0, 450.0, 35.0, 30.8, 450.0, 40.0, 30.8, 40.0, 45.0, 450.0, 40.0, 30.8, 450.0, 40.0, 25.0, 450.0, 30.8, 40.0, 450.0, 40.0, 450.0, 450.0, 69.7, 40.0, 450.0, 35.0, 450.0, 450.0, 450.0, 40.0, 29.75, 450.0, 40.0, 40.0, 450.0, 450.0, 40.0, 450.0, 25.0, 40.0, 450.0, 450.0, 450.0, 20.0, 450.0, 450.0, 450.0, 450.0, 40.0, 40.0, 450.0, 450.0, 69.7, 450.0, 25.0, 450.0, 450.0, 40.0, 450.0, 29.75, 40.0, 40.0, 450.0, 45.0, 450.0, 69.7, 450.0, 35.0, 450.0, 450.0, 30.8, 35.0, 25.0, 450.0, 450.0, 450.0, 40.0, 450.0, 40.0, 450.0, 450.0, 450.0, 30.8, 136.6, 450.0, 29.75, 450.0, 450.0, 450.0, 35.0, 450.0, 450.0, 450.0, 450.0, 450.0, 40.0, 450.0, 450.0, 450.0, 450.0, 450.0, 450.0, 30.8, 136.6, 450.0, 40.0, 136.6, 450.0, 450.0, 136.6, 450.0, 450.0, 35.0, 450.0, 450.0, 450.0, 450.0, 450.0, 35.0, 30.8, 30.8, 30.8, 30.8, 450.0, 450.0, 450.0, 450.0, 30.8, 450.0, 450.0, 450.0, 450.0, 450.0, 450.0, 450.0, 450.0, 450.0, 30.8, 450.0, 450.0, 450.0, 450.0, 450.0, 30.8, 450.0, 450.0, 450.0, 30.8, 450.0, 450.0, 450.0, 450.0, 59.0, 59.0, 59.0, 59.0, 59.0, 59.0, 59.0, 59.0, 59.0, 59.0, 59.0, 59.0, 59.0, 59.0, 59.0, 59.0, 59.0, 59.0, 59.0, 59.0, 59.0, 59.0, 63.23, 63.23, 63.23, 63.23]\n"
          ]
        }
      ],
      "source": [
        "# Remove 0 values, they are not needed\n",
        "df_data[\"Price\"] = pd.to_numeric(df_data[\"Price\"], errors='coerce')\n",
        "prices_above_0 = [price for price in df_data[\"Price\"] if price > 0]\n",
        "print(f\"Prices in millions: \\n{prices_above_0}\")"
      ]
    },
    {
      "cell_type": "code",
      "execution_count": 62,
      "metadata": {
        "id": "ru0IcY4nnSFU"
      },
      "outputs": [
        {
          "data": {
            "image/png": "[encoded data removed]",
            "text/plain": [
              "<Figure size 1200x600 with 1 Axes>"
            ]
          },
          "metadata": {},
          "output_type": "display_data"
        }
      ],
      "source": [
        "# make a histogram\n",
        "plt.figure(figsize=(12, 6))\n",
        "plt.title(\"Launch prices\")\n",
        "# plt.xlabel(\"Price in millions\")\n",
        "plt.ylabel(\"Price in millions\")\n",
        "plt.grid(True)\n",
        "plt.hist(prices_above_0, bins=20, edgecolor=\"black\", color=\"blue\")\n",
        "plt.show()"
      ]
    },
    {
      "cell_type": "markdown",
      "metadata": {
        "id": "QiNtigQDne3E"
      },
      "source": [
        "# Use a Choropleth Map to Show the Number of Launches by Country\n",
        "\n",
        "* Create a choropleth map using [the plotly documentation](https://plotly.com/python/choropleth-maps/)\n",
        "* Experiment with [plotly's available colours](https://plotly.com/python/builtin-colorscales/). I quite like the sequential colour `matter` on this map. \n",
        "* You'll need to extract a `country` feature as well as change the country names that no longer exist.\n",
        "\n",
        "Wrangle the Country Names\n",
        "\n",
        "You'll need to use a 3 letter country code for each country. You might have to change some country names.\n",
        "\n",
        "* Russia is the Russian Federation\n",
        "* New Mexico should be USA\n",
        "* Yellow Sea refers to China\n",
        "* Shahrud Missile Test Site should be Iran\n",
        "* Pacific Missile Range Facility should be USA\n",
        "* Barents Sea should be Russian Federation\n",
        "* Gran Canaria should be USA\n",
        "\n",
        "\n",
        "You can use the iso3166 package to convert the country names to Alpha3 format."
      ]
    },
    {
      "cell_type": "code",
      "execution_count": 63,
      "metadata": {
        "id": "Y46-4GHrozhF"
      },
      "outputs": [
        {
          "data": {
            "text/html": [
              "<div>\n",
              "<style scoped>\n",
              "    .dataframe tbody tr th:only-of-type {\n",
              "        vertical-align: middle;\n",
              "    }\n",
              "\n",
              "    .dataframe tbody tr th {\n",
              "        vertical-align: top;\n",
              "    }\n",
              "\n",
              "    .dataframe thead th {\n",
              "        text-align: right;\n",
              "    }\n",
              "</style>\n",
              "<table border=\"1\" class=\"dataframe\">\n",
              "  <thead>\n",
              "    <tr style=\"text-align: right;\">\n",
              "      <th></th>\n",
              "      <th>Unnamed: 0.1</th>\n",
              "      <th>Unnamed: 0</th>\n",
              "      <th>Organisation</th>\n",
              "      <th>Location</th>\n",
              "      <th>Date</th>\n",
              "      <th>Detail</th>\n",
              "      <th>Rocket_Status</th>\n",
              "      <th>Price</th>\n",
              "      <th>Mission_Status</th>\n",
              "    </tr>\n",
              "  </thead>\n",
              "  <tbody>\n",
              "    <tr>\n",
              "      <th>0</th>\n",
              "      <td>0</td>\n",
              "      <td>0</td>\n",
              "      <td>SpaceX</td>\n",
              "      <td>LC-39A, Kennedy Space Center, Florida, USA</td>\n",
              "      <td>2020-08-07 05:12:00+00:00</td>\n",
              "      <td>Falcon 9 Block 5 | Starlink V1 L9 &amp; BlackSky</td>\n",
              "      <td>StatusActive</td>\n",
              "      <td>50.00</td>\n",
              "      <td>Success</td>\n",
              "    </tr>\n",
              "    <tr>\n",
              "      <th>1</th>\n",
              "      <td>1</td>\n",
              "      <td>1</td>\n",
              "      <td>CASC</td>\n",
              "      <td>Site 9401 (SLS-2), Jiuquan Satellite Launch Ce...</td>\n",
              "      <td>2020-08-06 04:01:00+00:00</td>\n",
              "      <td>Long March 2D | Gaofen-9 04 &amp; Q-SAT</td>\n",
              "      <td>StatusActive</td>\n",
              "      <td>29.75</td>\n",
              "      <td>Success</td>\n",
              "    </tr>\n",
              "    <tr>\n",
              "      <th>2</th>\n",
              "      <td>2</td>\n",
              "      <td>2</td>\n",
              "      <td>SpaceX</td>\n",
              "      <td>Pad A, Boca Chica, Texas, USA</td>\n",
              "      <td>2020-08-04 23:57:00+00:00</td>\n",
              "      <td>Starship Prototype | 150 Meter Hop</td>\n",
              "      <td>StatusActive</td>\n",
              "      <td>0.00</td>\n",
              "      <td>Success</td>\n",
              "    </tr>\n",
              "    <tr>\n",
              "      <th>3</th>\n",
              "      <td>3</td>\n",
              "      <td>3</td>\n",
              "      <td>Roscosmos</td>\n",
              "      <td>Site 200/39, Baikonur Cosmodrome, Kazakhstan</td>\n",
              "      <td>2020-07-30 21:25:00+00:00</td>\n",
              "      <td>Proton-M/Briz-M | Ekspress-80 &amp; Ekspress-103</td>\n",
              "      <td>StatusActive</td>\n",
              "      <td>65.00</td>\n",
              "      <td>Success</td>\n",
              "    </tr>\n",
              "    <tr>\n",
              "      <th>4</th>\n",
              "      <td>4</td>\n",
              "      <td>4</td>\n",
              "      <td>ULA</td>\n",
              "      <td>SLC-41, Cape Canaveral AFS, Florida, USA</td>\n",
              "      <td>2020-07-30 11:50:00+00:00</td>\n",
              "      <td>Atlas V 541 | Perseverance</td>\n",
              "      <td>StatusActive</td>\n",
              "      <td>145.00</td>\n",
              "      <td>Success</td>\n",
              "    </tr>\n",
              "  </tbody>\n",
              "</table>\n",
              "</div>"
            ],
            "text/plain": [
              "   Unnamed: 0.1  Unnamed: 0 Organisation  \\\n",
              "0             0           0       SpaceX   \n",
              "1             1           1         CASC   \n",
              "2             2           2       SpaceX   \n",
              "3             3           3    Roscosmos   \n",
              "4             4           4          ULA   \n",
              "\n",
              "                                            Location  \\\n",
              "0         LC-39A, Kennedy Space Center, Florida, USA   \n",
              "1  Site 9401 (SLS-2), Jiuquan Satellite Launch Ce...   \n",
              "2                      Pad A, Boca Chica, Texas, USA   \n",
              "3       Site 200/39, Baikonur Cosmodrome, Kazakhstan   \n",
              "4           SLC-41, Cape Canaveral AFS, Florida, USA   \n",
              "\n",
              "                       Date                                        Detail  \\\n",
              "0 2020-08-07 05:12:00+00:00  Falcon 9 Block 5 | Starlink V1 L9 & BlackSky   \n",
              "1 2020-08-06 04:01:00+00:00           Long March 2D | Gaofen-9 04 & Q-SAT   \n",
              "2 2020-08-04 23:57:00+00:00            Starship Prototype | 150 Meter Hop   \n",
              "3 2020-07-30 21:25:00+00:00  Proton-M/Briz-M | Ekspress-80 & Ekspress-103   \n",
              "4 2020-07-30 11:50:00+00:00                    Atlas V 541 | Perseverance   \n",
              "\n",
              "  Rocket_Status  Price Mission_Status  \n",
              "0  StatusActive  50.00        Success  \n",
              "1  StatusActive  29.75        Success  \n",
              "2  StatusActive   0.00        Success  \n",
              "3  StatusActive  65.00        Success  \n",
              "4  StatusActive 145.00        Success  "
            ]
          },
          "execution_count": 63,
          "metadata": {},
          "output_type": "execute_result"
        }
      ],
      "source": [
        "df_data.head(5)"
      ]
    },
    {
      "cell_type": "code",
      "execution_count": 65,
      "metadata": {
        "id": "ESGRWiX6ozZG"
      },
      "outputs": [
        {
          "data": {
            "application/vnd.plotly.v1+json": {
              "config": {
                "plotlyServerURL": "https://plot.ly"
              },
              "data": [
                {
                  "coloraxis": "coloraxis",
                  "geo": "geo",
                  "hovertemplate": "ISO3=%{location}<br>Launch_Count=%{z}<extra></extra>",
                  "locations": [
                    "RUS",
                    "USA",
                    "KAZ",
                    "FRA",
                    "CHN",
                    "JPN",
                    "IND",
                    "NZL",
                    "ISR",
                    "KEN",
                    "AUS",
                    "BRA"
                  ],
                  "name": "",
                  "type": "choropleth",
                  "z": {
                    "bdata": "dgVHBb0CLwENAX4ATAANAAsACQAGAAMA",
                    "dtype": "i2"
                  }
                }
              ],
              "layout": {
                "coloraxis": {
                  "colorbar": {
                    "title": {
                      "text": "Launch_Count"
                    }
                  },
                  "colorscale": [
                    [
                      0,
                      "rgb(253, 237, 176)"
                    ],
                    [
                      0.09090909090909091,
                      "rgb(250, 205, 145)"
                    ],
                    [
                      0.18181818181818182,
                      "rgb(246, 173, 119)"
                    ],
                    [
                      0.2727272727272727,
                      "rgb(240, 142, 98)"
                    ],
                    [
                      0.36363636363636365,
                      "rgb(231, 109, 84)"
                    ],
                    [
                      0.45454545454545453,
                      "rgb(216, 80, 83)"
                    ],
                    [
                      0.5454545454545454,
                      "rgb(195, 56, 90)"
                    ],
                    [
                      0.6363636363636364,
                      "rgb(168, 40, 96)"
                    ],
                    [
                      0.7272727272727273,
                      "rgb(138, 29, 99)"
                    ],
                    [
                      0.8181818181818182,
                      "rgb(107, 24, 93)"
                    ],
                    [
                      0.9090909090909091,
                      "rgb(76, 21, 80)"
                    ],
                    [
                      1,
                      "rgb(47, 15, 61)"
                    ]
                  ]
                },
                "geo": {
                  "center": {},
                  "domain": {
                    "x": [
                      0,
                      1
                    ],
                    "y": [
                      0,
                      1
                    ]
                  },
                  "showcoastlines": true,
                  "showframe": false
                },
                "legend": {
                  "tracegroupgap": 0
                },
                "template": {
                  "data": {
                    "bar": [
                      {
                        "error_x": {
                          "color": "#2a3f5f"
                        },
                        "error_y": {
                          "color": "#2a3f5f"
                        },
                        "marker": {
                          "line": {
                            "color": "#E5ECF6",
                            "width": 0.5
                          },
                          "pattern": {
                            "fillmode": "overlay",
                            "size": 10,
                            "solidity": 0.2
                          }
                        },
                        "type": "bar"
                      }
                    ],
                    "barpolar": [
                      {
                        "marker": {
                          "line": {
                            "color": "#E5ECF6",
                            "width": 0.5
                          },
                          "pattern": {
                            "fillmode": "overlay",
                            "size": 10,
                            "solidity": 0.2
                          }
                        },
                        "type": "barpolar"
                      }
                    ],
                    "carpet": [
                      {
                        "aaxis": {
                          "endlinecolor": "#2a3f5f",
                          "gridcolor": "white",
                          "linecolor": "white",
                          "minorgridcolor": "white",
                          "startlinecolor": "#2a3f5f"
                        },
                        "baxis": {
                          "endlinecolor": "#2a3f5f",
                          "gridcolor": "white",
                          "linecolor": "white",
                          "minorgridcolor": "white",
                          "startlinecolor": "#2a3f5f"
                        },
                        "type": "carpet"
                      }
                    ],
                    "choropleth": [
                      {
                        "colorbar": {
                          "outlinewidth": 0,
                          "ticks": ""
                        },
                        "type": "choropleth"
                      }
                    ],
                    "contour": [
                      {
                        "colorbar": {
                          "outlinewidth": 0,
                          "ticks": ""
                        },
                        "colorscale": [
                          [
                            0,
                            "#0d0887"
                          ],
                          [
                            0.1111111111111111,
                            "#46039f"
                          ],
                          [
                            0.2222222222222222,
                            "#7201a8"
                          ],
                          [
                            0.3333333333333333,
                            "#9c179e"
                          ],
                          [
                            0.4444444444444444,
                            "#bd3786"
                          ],
                          [
                            0.5555555555555556,
                            "#d8576b"
                          ],
                          [
                            0.6666666666666666,
                            "#ed7953"
                          ],
                          [
                            0.7777777777777778,
                            "#fb9f3a"
                          ],
                          [
                            0.8888888888888888,
                            "#fdca26"
                          ],
                          [
                            1,
                            "#f0f921"
                          ]
                        ],
                        "type": "contour"
                      }
                    ],
                    "contourcarpet": [
                      {
                        "colorbar": {
                          "outlinewidth": 0,
                          "ticks": ""
                        },
                        "type": "contourcarpet"
                      }
                    ],
                    "heatmap": [
                      {
                        "colorbar": {
                          "outlinewidth": 0,
                          "ticks": ""
                        },
                        "colorscale": [
                          [
                            0,
                            "#0d0887"
                          ],
                          [
                            0.1111111111111111,
                            "#46039f"
                          ],
                          [
                            0.2222222222222222,
                            "#7201a8"
                          ],
                          [
                            0.3333333333333333,
                            "#9c179e"
                          ],
                          [
                            0.4444444444444444,
                            "#bd3786"
                          ],
                          [
                            0.5555555555555556,
                            "#d8576b"
                          ],
                          [
                            0.6666666666666666,
                            "#ed7953"
                          ],
                          [
                            0.7777777777777778,
                            "#fb9f3a"
                          ],
                          [
                            0.8888888888888888,
                            "#fdca26"
                          ],
                          [
                            1,
                            "#f0f921"
                          ]
                        ],
                        "type": "heatmap"
                      }
                    ],
                    "histogram": [
                      {
                        "marker": {
                          "pattern": {
                            "fillmode": "overlay",
                            "size": 10,
                            "solidity": 0.2
                          }
                        },
                        "type": "histogram"
                      }
                    ],
                    "histogram2d": [
                      {
                        "colorbar": {
                          "outlinewidth": 0,
                          "ticks": ""
                        },
                        "colorscale": [
                          [
                            0,
                            "#0d0887"
                          ],
                          [
                            0.1111111111111111,
                            "#46039f"
                          ],
                          [
                            0.2222222222222222,
                            "#7201a8"
                          ],
                          [
                            0.3333333333333333,
                            "#9c179e"
                          ],
                          [
                            0.4444444444444444,
                            "#bd3786"
                          ],
                          [
                            0.5555555555555556,
                            "#d8576b"
                          ],
                          [
                            0.6666666666666666,
                            "#ed7953"
                          ],
                          [
                            0.7777777777777778,
                            "#fb9f3a"
                          ],
                          [
                            0.8888888888888888,
                            "#fdca26"
                          ],
                          [
                            1,
                            "#f0f921"
                          ]
                        ],
                        "type": "histogram2d"
                      }
                    ],
                    "histogram2dcontour": [
                      {
                        "colorbar": {
                          "outlinewidth": 0,
                          "ticks": ""
                        },
                        "colorscale": [
                          [
                            0,
                            "#0d0887"
                          ],
                          [
                            0.1111111111111111,
                            "#46039f"
                          ],
                          [
                            0.2222222222222222,
                            "#7201a8"
                          ],
                          [
                            0.3333333333333333,
                            "#9c179e"
                          ],
                          [
                            0.4444444444444444,
                            "#bd3786"
                          ],
                          [
                            0.5555555555555556,
                            "#d8576b"
                          ],
                          [
                            0.6666666666666666,
                            "#ed7953"
                          ],
                          [
                            0.7777777777777778,
                            "#fb9f3a"
                          ],
                          [
                            0.8888888888888888,
                            "#fdca26"
                          ],
                          [
                            1,
                            "#f0f921"
                          ]
                        ],
                        "type": "histogram2dcontour"
                      }
                    ],
                    "mesh3d": [
                      {
                        "colorbar": {
                          "outlinewidth": 0,
                          "ticks": ""
                        },
                        "type": "mesh3d"
                      }
                    ],
                    "parcoords": [
                      {
                        "line": {
                          "colorbar": {
                            "outlinewidth": 0,
                            "ticks": ""
                          }
                        },
                        "type": "parcoords"
                      }
                    ],
                    "pie": [
                      {
                        "automargin": true,
                        "type": "pie"
                      }
                    ],
                    "scatter": [
                      {
                        "fillpattern": {
                          "fillmode": "overlay",
                          "size": 10,
                          "solidity": 0.2
                        },
                        "type": "scatter"
                      }
                    ],
                    "scatter3d": [
                      {
                        "line": {
                          "colorbar": {
                            "outlinewidth": 0,
                            "ticks": ""
                          }
                        },
                        "marker": {
                          "colorbar": {
                            "outlinewidth": 0,
                            "ticks": ""
                          }
                        },
                        "type": "scatter3d"
                      }
                    ],
                    "scattercarpet": [
                      {
                        "marker": {
                          "colorbar": {
                            "outlinewidth": 0,
                            "ticks": ""
                          }
                        },
                        "type": "scattercarpet"
                      }
                    ],
                    "scattergeo": [
                      {
                        "marker": {
                          "colorbar": {
                            "outlinewidth": 0,
                            "ticks": ""
                          }
                        },
                        "type": "scattergeo"
                      }
                    ],
                    "scattergl": [
                      {
                        "marker": {
                          "colorbar": {
                            "outlinewidth": 0,
                            "ticks": ""
                          }
                        },
                        "type": "scattergl"
                      }
                    ],
                    "scattermap": [
                      {
                        "marker": {
                          "colorbar": {
                            "outlinewidth": 0,
                            "ticks": ""
                          }
                        },
                        "type": "scattermap"
                      }
                    ],
                    "scattermapbox": [
                      {
                        "marker": {
                          "colorbar": {
                            "outlinewidth": 0,
                            "ticks": ""
                          }
                        },
                        "type": "scattermapbox"
                      }
                    ],
                    "scatterpolar": [
                      {
                        "marker": {
                          "colorbar": {
                            "outlinewidth": 0,
                            "ticks": ""
                          }
                        },
                        "type": "scatterpolar"
                      }
                    ],
                    "scatterpolargl": [
                      {
                        "marker": {
                          "colorbar": {
                            "outlinewidth": 0,
                            "ticks": ""
                          }
                        },
                        "type": "scatterpolargl"
                      }
                    ],
                    "scatterternary": [
                      {
                        "marker": {
                          "colorbar": {
                            "outlinewidth": 0,
                            "ticks": ""
                          }
                        },
                        "type": "scatterternary"
                      }
                    ],
                    "surface": [
                      {
                        "colorbar": {
                          "outlinewidth": 0,
                          "ticks": ""
                        },
                        "colorscale": [
                          [
                            0,
                            "#0d0887"
                          ],
                          [
                            0.1111111111111111,
                            "#46039f"
                          ],
                          [
                            0.2222222222222222,
                            "#7201a8"
                          ],
                          [
                            0.3333333333333333,
                            "#9c179e"
                          ],
                          [
                            0.4444444444444444,
                            "#bd3786"
                          ],
                          [
                            0.5555555555555556,
                            "#d8576b"
                          ],
                          [
                            0.6666666666666666,
                            "#ed7953"
                          ],
                          [
                            0.7777777777777778,
                            "#fb9f3a"
                          ],
                          [
                            0.8888888888888888,
                            "#fdca26"
                          ],
                          [
                            1,
                            "#f0f921"
                          ]
                        ],
                        "type": "surface"
                      }
                    ],
                    "table": [
                      {
                        "cells": {
                          "fill": {
                            "color": "#EBF0F8"
                          },
                          "line": {
                            "color": "white"
                          }
                        },
                        "header": {
                          "fill": {
                            "color": "#C8D4E3"
                          },
                          "line": {
                            "color": "white"
                          }
                        },
                        "type": "table"
                      }
                    ]
                  },
                  "layout": {
                    "annotationdefaults": {
                      "arrowcolor": "#2a3f5f",
                      "arrowhead": 0,
                      "arrowwidth": 1
                    },
                    "autotypenumbers": "strict",
                    "coloraxis": {
                      "colorbar": {
                        "outlinewidth": 0,
                        "ticks": ""
                      }
                    },
                    "colorscale": {
                      "diverging": [
                        [
                          0,
                          "#8e0152"
                        ],
                        [
                          0.1,
                          "#c51b7d"
                        ],
                        [
                          0.2,
                          "#de77ae"
                        ],
                        [
                          0.3,
                          "#f1b6da"
                        ],
                        [
                          0.4,
                          "#fde0ef"
                        ],
                        [
                          0.5,
                          "#f7f7f7"
                        ],
                        [
                          0.6,
                          "#e6f5d0"
                        ],
                        [
                          0.7,
                          "#b8e186"
                        ],
                        [
                          0.8,
                          "#7fbc41"
                        ],
                        [
                          0.9,
                          "#4d9221"
                        ],
                        [
                          1,
                          "#276419"
                        ]
                      ],
                      "sequential": [
                        [
                          0,
                          "#0d0887"
                        ],
                        [
                          0.1111111111111111,
                          "#46039f"
                        ],
                        [
                          0.2222222222222222,
                          "#7201a8"
                        ],
                        [
                          0.3333333333333333,
                          "#9c179e"
                        ],
                        [
                          0.4444444444444444,
                          "#bd3786"
                        ],
                        [
                          0.5555555555555556,
                          "#d8576b"
                        ],
                        [
                          0.6666666666666666,
                          "#ed7953"
                        ],
                        [
                          0.7777777777777778,
                          "#fb9f3a"
                        ],
                        [
                          0.8888888888888888,
                          "#fdca26"
                        ],
                        [
                          1,
                          "#f0f921"
                        ]
                      ],
                      "sequentialminus": [
                        [
                          0,
                          "#0d0887"
                        ],
                        [
                          0.1111111111111111,
                          "#46039f"
                        ],
                        [
                          0.2222222222222222,
                          "#7201a8"
                        ],
                        [
                          0.3333333333333333,
                          "#9c179e"
                        ],
                        [
                          0.4444444444444444,
                          "#bd3786"
                        ],
                        [
                          0.5555555555555556,
                          "#d8576b"
                        ],
                        [
                          0.6666666666666666,
                          "#ed7953"
                        ],
                        [
                          0.7777777777777778,
                          "#fb9f3a"
                        ],
                        [
                          0.8888888888888888,
                          "#fdca26"
                        ],
                        [
                          1,
                          "#f0f921"
                        ]
                      ]
                    },
                    "colorway": [
                      "#636efa",
                      "#EF553B",
                      "#00cc96",
                      "#ab63fa",
                      "#FFA15A",
                      "#19d3f3",
                      "#FF6692",
                      "#B6E880",
                      "#FF97FF",
                      "#FECB52"
                    ],
                    "font": {
                      "color": "#2a3f5f"
                    },
                    "geo": {
                      "bgcolor": "white",
                      "lakecolor": "white",
                      "landcolor": "#E5ECF6",
                      "showlakes": true,
                      "showland": true,
                      "subunitcolor": "white"
                    },
                    "hoverlabel": {
                      "align": "left"
                    },
                    "hovermode": "closest",
                    "mapbox": {
                      "style": "light"
                    },
                    "paper_bgcolor": "white",
                    "plot_bgcolor": "#E5ECF6",
                    "polar": {
                      "angularaxis": {
                        "gridcolor": "white",
                        "linecolor": "white",
                        "ticks": ""
                      },
                      "bgcolor": "#E5ECF6",
                      "radialaxis": {
                        "gridcolor": "white",
                        "linecolor": "white",
                        "ticks": ""
                      }
                    },
                    "scene": {
                      "xaxis": {
                        "backgroundcolor": "#E5ECF6",
                        "gridcolor": "white",
                        "gridwidth": 2,
                        "linecolor": "white",
                        "showbackground": true,
                        "ticks": "",
                        "zerolinecolor": "white"
                      },
                      "yaxis": {
                        "backgroundcolor": "#E5ECF6",
                        "gridcolor": "white",
                        "gridwidth": 2,
                        "linecolor": "white",
                        "showbackground": true,
                        "ticks": "",
                        "zerolinecolor": "white"
                      },
                      "zaxis": {
                        "backgroundcolor": "#E5ECF6",
                        "gridcolor": "white",
                        "gridwidth": 2,
                        "linecolor": "white",
                        "showbackground": true,
                        "ticks": "",
                        "zerolinecolor": "white"
                      }
                    },
                    "shapedefaults": {
                      "line": {
                        "color": "#2a3f5f"
                      }
                    },
                    "ternary": {
                      "aaxis": {
                        "gridcolor": "white",
                        "linecolor": "white",
                        "ticks": ""
                      },
                      "baxis": {
                        "gridcolor": "white",
                        "linecolor": "white",
                        "ticks": ""
                      },
                      "bgcolor": "#E5ECF6",
                      "caxis": {
                        "gridcolor": "white",
                        "linecolor": "white",
                        "ticks": ""
                      }
                    },
                    "title": {
                      "x": 0.05
                    },
                    "xaxis": {
                      "automargin": true,
                      "gridcolor": "white",
                      "linecolor": "white",
                      "ticks": "",
                      "title": {
                        "standoff": 15
                      },
                      "zerolinecolor": "white",
                      "zerolinewidth": 2
                    },
                    "yaxis": {
                      "automargin": true,
                      "gridcolor": "white",
                      "linecolor": "white",
                      "ticks": "",
                      "title": {
                        "standoff": 15
                      },
                      "zerolinecolor": "white",
                      "zerolinewidth": 2
                    }
                  }
                },
                "title": {
                  "text": "Number of Launches by Country"
                }
              }
            }
          },
          "metadata": {},
          "output_type": "display_data"
        }
      ],
      "source": [
        "df_data[\"Country\"] = df_data[\"Location\"].apply(lambda x: x.split(\",\")[-1].strip())\n",
        "replace_dict = {\n",
        "    \"Russia\": \"Russian Federation\",\n",
        "    \"New Mexico\": \"USA\",\n",
        "    \"Yellow Sea\": \"China\",\n",
        "    \"Shahrud Missile Test Site\": \"Iran\",\n",
        "    \"Pacific Missile Range Facility\": \"USA\",\n",
        "    \"Barents Sea\": \"Russian Federation\",\n",
        "    \"Gran Canaria\": \"USA\"\n",
        "}\n",
        "df_data[\"Country\"] = df_data[\"Country\"].replace(replace_dict)\n",
        "\n",
        "def get_alpha3(country_name):\n",
        "    try:\n",
        "        return countries.get(country_name).alpha3\n",
        "    except:\n",
        "        return None\n",
        "\n",
        "df_data[\"ISO3\"] = df_data[\"Country\"].apply(get_alpha3)\n",
        "\n",
        "country_counts = df_data[\"ISO3\"].value_counts().reset_index()\n",
        "country_counts.columns = [\"ISO3\", \"Launch_Count\"]\n",
        "\n",
        "fig = px.choropleth(\n",
        "    country_counts,\n",
        "    locations=\"ISO3\",\n",
        "    color=\"Launch_Count\",\n",
        "    color_continuous_scale=\"matter\",\n",
        "    title=\"Number of Launches by Country\",\n",
        ")\n",
        "\n",
        "fig.update_layout(geo=dict(showframe=False, showcoastlines=True))\n",
        "fig.show()"
      ]
    },
    {
      "cell_type": "markdown",
      "metadata": {
        "id": "F3pwYSUlo_AK"
      },
      "source": [
        "# Use a Choropleth Map to Show the Number of Failures by Country\n"
      ]
    },
    {
      "cell_type": "code",
      "execution_count": 66,
      "metadata": {
        "id": "8BH4ICtro9I0"
      },
      "outputs": [
        {
          "name": "stderr",
          "output_type": "stream",
          "text": [
            "C:\\Users\\admin\\AppData\\Local\\Temp\\ipykernel_18052\\1262649670.py:2: SettingWithCopyWarning:\n",
            "\n",
            "\n",
            "A value is trying to be set on a copy of a slice from a DataFrame.\n",
            "Try using .loc[row_indexer,col_indexer] = value instead\n",
            "\n",
            "See the caveats in the documentation: https://pandas.pydata.org/pandas-docs/stable/user_guide/indexing.html#returning-a-view-versus-a-copy\n",
            "\n",
            "C:\\Users\\admin\\AppData\\Local\\Temp\\ipykernel_18052\\1262649670.py:14: SettingWithCopyWarning:\n",
            "\n",
            "\n",
            "A value is trying to be set on a copy of a slice from a DataFrame.\n",
            "Try using .loc[row_indexer,col_indexer] = value instead\n",
            "\n",
            "See the caveats in the documentation: https://pandas.pydata.org/pandas-docs/stable/user_guide/indexing.html#returning-a-view-versus-a-copy\n",
            "\n",
            "C:\\Users\\admin\\AppData\\Local\\Temp\\ipykernel_18052\\1262649670.py:17: SettingWithCopyWarning:\n",
            "\n",
            "\n",
            "A value is trying to be set on a copy of a slice from a DataFrame.\n",
            "Try using .loc[row_indexer,col_indexer] = value instead\n",
            "\n",
            "See the caveats in the documentation: https://pandas.pydata.org/pandas-docs/stable/user_guide/indexing.html#returning-a-view-versus-a-copy\n",
            "\n"
          ]
        },
        {
          "data": {
            "application/vnd.plotly.v1+json": {
              "config": {
                "plotlyServerURL": "https://plot.ly"
              },
              "data": [
                {
                  "coloraxis": "coloraxis",
                  "geo": "geo",
                  "hovertemplate": "ISO3=%{location}<br>Failure_Count=%{z}<extra></extra>",
                  "locations": [
                    "USA",
                    "KAZ",
                    "RUS",
                    "CHN",
                    "FRA",
                    "JPN",
                    "IND",
                    "AUS",
                    "NZL",
                    "ISR",
                    "BRA"
                  ],
                  "name": "",
                  "type": "choropleth",
                  "z": {
                    "bdata": "gQBIAD8AEwANAAoACAADAAIAAgACAA==",
                    "dtype": "i2"
                  }
                }
              ],
              "layout": {
                "coloraxis": {
                  "colorbar": {
                    "title": {
                      "text": "Failure_Count"
                    }
                  },
                  "colorscale": [
                    [
                      0,
                      "rgb(253, 237, 176)"
                    ],
                    [
                      0.09090909090909091,
                      "rgb(250, 205, 145)"
                    ],
                    [
                      0.18181818181818182,
                      "rgb(246, 173, 119)"
                    ],
                    [
                      0.2727272727272727,
                      "rgb(240, 142, 98)"
                    ],
                    [
                      0.36363636363636365,
                      "rgb(231, 109, 84)"
                    ],
                    [
                      0.45454545454545453,
                      "rgb(216, 80, 83)"
                    ],
                    [
                      0.5454545454545454,
                      "rgb(195, 56, 90)"
                    ],
                    [
                      0.6363636363636364,
                      "rgb(168, 40, 96)"
                    ],
                    [
                      0.7272727272727273,
                      "rgb(138, 29, 99)"
                    ],
                    [
                      0.8181818181818182,
                      "rgb(107, 24, 93)"
                    ],
                    [
                      0.9090909090909091,
                      "rgb(76, 21, 80)"
                    ],
                    [
                      1,
                      "rgb(47, 15, 61)"
                    ]
                  ]
                },
                "geo": {
                  "center": {},
                  "domain": {
                    "x": [
                      0,
                      1
                    ],
                    "y": [
                      0,
                      1
                    ]
                  },
                  "showcoastlines": true,
                  "showframe": false
                },
                "legend": {
                  "tracegroupgap": 0
                },
                "template": {
                  "data": {
                    "bar": [
                      {
                        "error_x": {
                          "color": "#2a3f5f"
                        },
                        "error_y": {
                          "color": "#2a3f5f"
                        },
                        "marker": {
                          "line": {
                            "color": "#E5ECF6",
                            "width": 0.5
                          },
                          "pattern": {
                            "fillmode": "overlay",
                            "size": 10,
                            "solidity": 0.2
                          }
                        },
                        "type": "bar"
                      }
                    ],
                    "barpolar": [
                      {
                        "marker": {
                          "line": {
                            "color": "#E5ECF6",
                            "width": 0.5
                          },
                          "pattern": {
                            "fillmode": "overlay",
                            "size": 10,
                            "solidity": 0.2
                          }
                        },
                        "type": "barpolar"
                      }
                    ],
                    "carpet": [
                      {
                        "aaxis": {
                          "endlinecolor": "#2a3f5f",
                          "gridcolor": "white",
                          "linecolor": "white",
                          "minorgridcolor": "white",
                          "startlinecolor": "#2a3f5f"
                        },
                        "baxis": {
                          "endlinecolor": "#2a3f5f",
                          "gridcolor": "white",
                          "linecolor": "white",
                          "minorgridcolor": "white",
                          "startlinecolor": "#2a3f5f"
                        },
                        "type": "carpet"
                      }
                    ],
                    "choropleth": [
                      {
                        "colorbar": {
                          "outlinewidth": 0,
                          "ticks": ""
                        },
                        "type": "choropleth"
                      }
                    ],
                    "contour": [
                      {
                        "colorbar": {
                          "outlinewidth": 0,
                          "ticks": ""
                        },
                        "colorscale": [
                          [
                            0,
                            "#0d0887"
                          ],
                          [
                            0.1111111111111111,
                            "#46039f"
                          ],
                          [
                            0.2222222222222222,
                            "#7201a8"
                          ],
                          [
                            0.3333333333333333,
                            "#9c179e"
                          ],
                          [
                            0.4444444444444444,
                            "#bd3786"
                          ],
                          [
                            0.5555555555555556,
                            "#d8576b"
                          ],
                          [
                            0.6666666666666666,
                            "#ed7953"
                          ],
                          [
                            0.7777777777777778,
                            "#fb9f3a"
                          ],
                          [
                            0.8888888888888888,
                            "#fdca26"
                          ],
                          [
                            1,
                            "#f0f921"
                          ]
                        ],
                        "type": "contour"
                      }
                    ],
                    "contourcarpet": [
                      {
                        "colorbar": {
                          "outlinewidth": 0,
                          "ticks": ""
                        },
                        "type": "contourcarpet"
                      }
                    ],
                    "heatmap": [
                      {
                        "colorbar": {
                          "outlinewidth": 0,
                          "ticks": ""
                        },
                        "colorscale": [
                          [
                            0,
                            "#0d0887"
                          ],
                          [
                            0.1111111111111111,
                            "#46039f"
                          ],
                          [
                            0.2222222222222222,
                            "#7201a8"
                          ],
                          [
                            0.3333333333333333,
                            "#9c179e"
                          ],
                          [
                            0.4444444444444444,
                            "#bd3786"
                          ],
                          [
                            0.5555555555555556,
                            "#d8576b"
                          ],
                          [
                            0.6666666666666666,
                            "#ed7953"
                          ],
                          [
                            0.7777777777777778,
                            "#fb9f3a"
                          ],
                          [
                            0.8888888888888888,
                            "#fdca26"
                          ],
                          [
                            1,
                            "#f0f921"
                          ]
                        ],
                        "type": "heatmap"
                      }
                    ],
                    "histogram": [
                      {
                        "marker": {
                          "pattern": {
                            "fillmode": "overlay",
                            "size": 10,
                            "solidity": 0.2
                          }
                        },
                        "type": "histogram"
                      }
                    ],
                    "histogram2d": [
                      {
                        "colorbar": {
                          "outlinewidth": 0,
                          "ticks": ""
                        },
                        "colorscale": [
                          [
                            0,
                            "#0d0887"
                          ],
                          [
                            0.1111111111111111,
                            "#46039f"
                          ],
                          [
                            0.2222222222222222,
                            "#7201a8"
                          ],
                          [
                            0.3333333333333333,
                            "#9c179e"
                          ],
                          [
                            0.4444444444444444,
                            "#bd3786"
                          ],
                          [
                            0.5555555555555556,
                            "#d8576b"
                          ],
                          [
                            0.6666666666666666,
                            "#ed7953"
                          ],
                          [
                            0.7777777777777778,
                            "#fb9f3a"
                          ],
                          [
                            0.8888888888888888,
                            "#fdca26"
                          ],
                          [
                            1,
                            "#f0f921"
                          ]
                        ],
                        "type": "histogram2d"
                      }
                    ],
                    "histogram2dcontour": [
                      {
                        "colorbar": {
                          "outlinewidth": 0,
                          "ticks": ""
                        },
                        "colorscale": [
                          [
                            0,
                            "#0d0887"
                          ],
                          [
                            0.1111111111111111,
                            "#46039f"
                          ],
                          [
                            0.2222222222222222,
                            "#7201a8"
                          ],
                          [
                            0.3333333333333333,
                            "#9c179e"
                          ],
                          [
                            0.4444444444444444,
                            "#bd3786"
                          ],
                          [
                            0.5555555555555556,
                            "#d8576b"
                          ],
                          [
                            0.6666666666666666,
                            "#ed7953"
                          ],
                          [
                            0.7777777777777778,
                            "#fb9f3a"
                          ],
                          [
                            0.8888888888888888,
                            "#fdca26"
                          ],
                          [
                            1,
                            "#f0f921"
                          ]
                        ],
                        "type": "histogram2dcontour"
                      }
                    ],
                    "mesh3d": [
                      {
                        "colorbar": {
                          "outlinewidth": 0,
                          "ticks": ""
                        },
                        "type": "mesh3d"
                      }
                    ],
                    "parcoords": [
                      {
                        "line": {
                          "colorbar": {
                            "outlinewidth": 0,
                            "ticks": ""
                          }
                        },
                        "type": "parcoords"
                      }
                    ],
                    "pie": [
                      {
                        "automargin": true,
                        "type": "pie"
                      }
                    ],
                    "scatter": [
                      {
                        "fillpattern": {
                          "fillmode": "overlay",
                          "size": 10,
                          "solidity": 0.2
                        },
                        "type": "scatter"
                      }
                    ],
                    "scatter3d": [
                      {
                        "line": {
                          "colorbar": {
                            "outlinewidth": 0,
                            "ticks": ""
                          }
                        },
                        "marker": {
                          "colorbar": {
                            "outlinewidth": 0,
                            "ticks": ""
                          }
                        },
                        "type": "scatter3d"
                      }
                    ],
                    "scattercarpet": [
                      {
                        "marker": {
                          "colorbar": {
                            "outlinewidth": 0,
                            "ticks": ""
                          }
                        },
                        "type": "scattercarpet"
                      }
                    ],
                    "scattergeo": [
                      {
                        "marker": {
                          "colorbar": {
                            "outlinewidth": 0,
                            "ticks": ""
                          }
                        },
                        "type": "scattergeo"
                      }
                    ],
                    "scattergl": [
                      {
                        "marker": {
                          "colorbar": {
                            "outlinewidth": 0,
                            "ticks": ""
                          }
                        },
                        "type": "scattergl"
                      }
                    ],
                    "scattermap": [
                      {
                        "marker": {
                          "colorbar": {
                            "outlinewidth": 0,
                            "ticks": ""
                          }
                        },
                        "type": "scattermap"
                      }
                    ],
                    "scattermapbox": [
                      {
                        "marker": {
                          "colorbar": {
                            "outlinewidth": 0,
                            "ticks": ""
                          }
                        },
                        "type": "scattermapbox"
                      }
                    ],
                    "scatterpolar": [
                      {
                        "marker": {
                          "colorbar": {
                            "outlinewidth": 0,
                            "ticks": ""
                          }
                        },
                        "type": "scatterpolar"
                      }
                    ],
                    "scatterpolargl": [
                      {
                        "marker": {
                          "colorbar": {
                            "outlinewidth": 0,
                            "ticks": ""
                          }
                        },
                        "type": "scatterpolargl"
                      }
                    ],
                    "scatterternary": [
                      {
                        "marker": {
                          "colorbar": {
                            "outlinewidth": 0,
                            "ticks": ""
                          }
                        },
                        "type": "scatterternary"
                      }
                    ],
                    "surface": [
                      {
                        "colorbar": {
                          "outlinewidth": 0,
                          "ticks": ""
                        },
                        "colorscale": [
                          [
                            0,
                            "#0d0887"
                          ],
                          [
                            0.1111111111111111,
                            "#46039f"
                          ],
                          [
                            0.2222222222222222,
                            "#7201a8"
                          ],
                          [
                            0.3333333333333333,
                            "#9c179e"
                          ],
                          [
                            0.4444444444444444,
                            "#bd3786"
                          ],
                          [
                            0.5555555555555556,
                            "#d8576b"
                          ],
                          [
                            0.6666666666666666,
                            "#ed7953"
                          ],
                          [
                            0.7777777777777778,
                            "#fb9f3a"
                          ],
                          [
                            0.8888888888888888,
                            "#fdca26"
                          ],
                          [
                            1,
                            "#f0f921"
                          ]
                        ],
                        "type": "surface"
                      }
                    ],
                    "table": [
                      {
                        "cells": {
                          "fill": {
                            "color": "#EBF0F8"
                          },
                          "line": {
                            "color": "white"
                          }
                        },
                        "header": {
                          "fill": {
                            "color": "#C8D4E3"
                          },
                          "line": {
                            "color": "white"
                          }
                        },
                        "type": "table"
                      }
                    ]
                  },
                  "layout": {
                    "annotationdefaults": {
                      "arrowcolor": "#2a3f5f",
                      "arrowhead": 0,
                      "arrowwidth": 1
                    },
                    "autotypenumbers": "strict",
                    "coloraxis": {
                      "colorbar": {
                        "outlinewidth": 0,
                        "ticks": ""
                      }
                    },
                    "colorscale": {
                      "diverging": [
                        [
                          0,
                          "#8e0152"
                        ],
                        [
                          0.1,
                          "#c51b7d"
                        ],
                        [
                          0.2,
                          "#de77ae"
                        ],
                        [
                          0.3,
                          "#f1b6da"
                        ],
                        [
                          0.4,
                          "#fde0ef"
                        ],
                        [
                          0.5,
                          "#f7f7f7"
                        ],
                        [
                          0.6,
                          "#e6f5d0"
                        ],
                        [
                          0.7,
                          "#b8e186"
                        ],
                        [
                          0.8,
                          "#7fbc41"
                        ],
                        [
                          0.9,
                          "#4d9221"
                        ],
                        [
                          1,
                          "#276419"
                        ]
                      ],
                      "sequential": [
                        [
                          0,
                          "#0d0887"
                        ],
                        [
                          0.1111111111111111,
                          "#46039f"
                        ],
                        [
                          0.2222222222222222,
                          "#7201a8"
                        ],
                        [
                          0.3333333333333333,
                          "#9c179e"
                        ],
                        [
                          0.4444444444444444,
                          "#bd3786"
                        ],
                        [
                          0.5555555555555556,
                          "#d8576b"
                        ],
                        [
                          0.6666666666666666,
                          "#ed7953"
                        ],
                        [
                          0.7777777777777778,
                          "#fb9f3a"
                        ],
                        [
                          0.8888888888888888,
                          "#fdca26"
                        ],
                        [
                          1,
                          "#f0f921"
                        ]
                      ],
                      "sequentialminus": [
                        [
                          0,
                          "#0d0887"
                        ],
                        [
                          0.1111111111111111,
                          "#46039f"
                        ],
                        [
                          0.2222222222222222,
                          "#7201a8"
                        ],
                        [
                          0.3333333333333333,
                          "#9c179e"
                        ],
                        [
                          0.4444444444444444,
                          "#bd3786"
                        ],
                        [
                          0.5555555555555556,
                          "#d8576b"
                        ],
                        [
                          0.6666666666666666,
                          "#ed7953"
                        ],
                        [
                          0.7777777777777778,
                          "#fb9f3a"
                        ],
                        [
                          0.8888888888888888,
                          "#fdca26"
                        ],
                        [
                          1,
                          "#f0f921"
                        ]
                      ]
                    },
                    "colorway": [
                      "#636efa",
                      "#EF553B",
                      "#00cc96",
                      "#ab63fa",
                      "#FFA15A",
                      "#19d3f3",
                      "#FF6692",
                      "#B6E880",
                      "#FF97FF",
                      "#FECB52"
                    ],
                    "font": {
                      "color": "#2a3f5f"
                    },
                    "geo": {
                      "bgcolor": "white",
                      "lakecolor": "white",
                      "landcolor": "#E5ECF6",
                      "showlakes": true,
                      "showland": true,
                      "subunitcolor": "white"
                    },
                    "hoverlabel": {
                      "align": "left"
                    },
                    "hovermode": "closest",
                    "mapbox": {
                      "style": "light"
                    },
                    "paper_bgcolor": "white",
                    "plot_bgcolor": "#E5ECF6",
                    "polar": {
                      "angularaxis": {
                        "gridcolor": "white",
                        "linecolor": "white",
                        "ticks": ""
                      },
                      "bgcolor": "#E5ECF6",
                      "radialaxis": {
                        "gridcolor": "white",
                        "linecolor": "white",
                        "ticks": ""
                      }
                    },
                    "scene": {
                      "xaxis": {
                        "backgroundcolor": "#E5ECF6",
                        "gridcolor": "white",
                        "gridwidth": 2,
                        "linecolor": "white",
                        "showbackground": true,
                        "ticks": "",
                        "zerolinecolor": "white"
                      },
                      "yaxis": {
                        "backgroundcolor": "#E5ECF6",
                        "gridcolor": "white",
                        "gridwidth": 2,
                        "linecolor": "white",
                        "showbackground": true,
                        "ticks": "",
                        "zerolinecolor": "white"
                      },
                      "zaxis": {
                        "backgroundcolor": "#E5ECF6",
                        "gridcolor": "white",
                        "gridwidth": 2,
                        "linecolor": "white",
                        "showbackground": true,
                        "ticks": "",
                        "zerolinecolor": "white"
                      }
                    },
                    "shapedefaults": {
                      "line": {
                        "color": "#2a3f5f"
                      }
                    },
                    "ternary": {
                      "aaxis": {
                        "gridcolor": "white",
                        "linecolor": "white",
                        "ticks": ""
                      },
                      "baxis": {
                        "gridcolor": "white",
                        "linecolor": "white",
                        "ticks": ""
                      },
                      "bgcolor": "#E5ECF6",
                      "caxis": {
                        "gridcolor": "white",
                        "linecolor": "white",
                        "ticks": ""
                      }
                    },
                    "title": {
                      "x": 0.05
                    },
                    "xaxis": {
                      "automargin": true,
                      "gridcolor": "white",
                      "linecolor": "white",
                      "ticks": "",
                      "title": {
                        "standoff": 15
                      },
                      "zerolinecolor": "white",
                      "zerolinewidth": 2
                    },
                    "yaxis": {
                      "automargin": true,
                      "gridcolor": "white",
                      "linecolor": "white",
                      "ticks": "",
                      "title": {
                        "standoff": 15
                      },
                      "zerolinecolor": "white",
                      "zerolinewidth": 2
                    }
                  }
                },
                "title": {
                  "text": "Number of Rocket Launch Failures by Country"
                }
              }
            }
          },
          "metadata": {},
          "output_type": "display_data"
        }
      ],
      "source": [
        "df_failures = df_data[df_data[\"Mission_Status\"] == \"Failure\"]\n",
        "df_failures[\"Country\"] = df_failures[\"Location\"].apply(lambda x: x.split(\",\")[-1].strip())\n",
        "\n",
        "replace_dict = {\n",
        "    \"Russia\": \"Russian Federation\",\n",
        "    \"Yellow Sea\": \"China\",\n",
        "    \"New Mexico\": \"USA\",\n",
        "    \"Shahrud Missile Test Site\": \"Iran\",\n",
        "    \"Pacific Missile Range Facility\": \"USA\",\n",
        "    \"Barents Sea\": \"Russian Federation\",\n",
        "    \"Gran Canaria\": \"USA\"\n",
        "}\n",
        "\n",
        "df_failures[\"Country\"] = df_failures[\"Country\"].replace(replace_dict)\n",
        "\n",
        "\n",
        "df_failures[\"ISO3\"] = df_failures[\"Country\"].apply(get_alpha3)\n",
        "failure_counts = df_failures[\"ISO3\"].value_counts().reset_index()\n",
        "failure_counts.columns = [\"ISO3\", \"Failure_Count\"]\n",
        "\n",
        "fig = px.choropleth(\n",
        "    failure_counts,\n",
        "    locations=\"ISO3\",\n",
        "    color=\"Failure_Count\",\n",
        "    color_continuous_scale=\"matter\",  # You can change this to \"reds\" or \"magma\" if you want a more \"dangerous\" tone\n",
        "    title=\"Number of Rocket Launch Failures by Country\"\n",
        ")\n",
        "\n",
        "fig.update_layout(geo=dict(showframe=False, showcoastlines=True))\n",
        "fig.show()"
      ]
    },
    {
      "cell_type": "code",
      "execution_count": null,
      "metadata": {
        "id": "sfw-q7Obo9GM"
      },
      "outputs": [],
      "source": []
    },
    {
      "cell_type": "markdown",
      "metadata": {
        "id": "9LqcqSrKa-qN",
        "papermill": {
          "duration": 0.039343,
          "end_time": "2020-10-20T21:34:06.591694",
          "exception": false,
          "start_time": "2020-10-20T21:34:06.552351",
          "status": "completed"
        },
        "tags": []
      },
      "source": [
        "# Create a Plotly Sunburst Chart of the countries, organisations, and mission status. "
      ]
    },
    {
      "cell_type": "code",
      "execution_count": null,
      "metadata": {
        "id": "MwUfpoByo3_J"
      },
      "outputs": [],
      "source": [
        "# clean, transform the data\n",
        "\n",
        "df_data[\"Country\"] = df_data[\"Location\"].apply(lambda x: x.split(\",\")[-1].strip())\n",
        "\n",
        "replace_dict = {\n",
        "    \"Russia\": \"Russian Federation\",\n",
        "    \"Yellow Sea\": \"China\",\n",
        "    \"New Mexico\": \"USA\",\n",
        "    \"Shahrud Missile Test Site\": \"Iran\",\n",
        "    \"Pacific Missile Range Facility\": \"USA\",\n",
        "    \"Barents Sea\": \"Russian Federation\",\n",
        "    \"Gran Canaria\": \"USA\"\n",
        "}\n",
        "df_data[\"Country\"] = df_data[\"Country\"].replace(replace_dict)"
      ]
    },
    {
      "cell_type": "code",
      "execution_count": 68,
      "metadata": {
        "id": "-ZwZkx1ro4X9"
      },
      "outputs": [],
      "source": [
        "# group required data\n",
        "sunburst_data = df_data.groupby([\"Country\", \"Organisation\", \"Mission_Status\"]).size().reset_index(name=\"Count\")\n"
      ]
    },
    {
      "cell_type": "code",
      "execution_count": 69,
      "metadata": {
        "id": "VfTGp2hLo4Ok"
      },
      "outputs": [
        {
          "data": {
            "application/vnd.plotly.v1+json": {
              "config": {
                "plotlyServerURL": "https://plot.ly"
              },
              "data": [
                {
                  "branchvalues": "total",
                  "customdata": [
                    [
                      "(?)"
                    ],
                    [
                      "(?)"
                    ],
                    [
                      "(?)"
                    ],
                    [
                      "(?)"
                    ],
                    [
                      "(?)"
                    ],
                    [
                      "(?)"
                    ],
                    [
                      "(?)"
                    ],
                    [
                      "(?)"
                    ],
                    [
                      "(?)"
                    ],
                    [
                      "(?)"
                    ],
                    [
                      "(?)"
                    ],
                    [
                      "(?)"
                    ],
                    [
                      "(?)"
                    ],
                    [
                      "(?)"
                    ],
                    [
                      "(?)"
                    ],
                    [
                      "(?)"
                    ],
                    [
                      "(?)"
                    ],
                    [
                      "(?)"
                    ],
                    [
                      "(?)"
                    ],
                    [
                      "(?)"
                    ],
                    [
                      "(?)"
                    ],
                    [
                      "(?)"
                    ],
                    [
                      "(?)"
                    ],
                    [
                      "(?)"
                    ],
                    [
                      "(?)"
                    ],
                    [
                      "(?)"
                    ],
                    [
                      "(?)"
                    ],
                    [
                      "(?)"
                    ],
                    [
                      "(?)"
                    ],
                    [
                      "(?)"
                    ],
                    [
                      "(?)"
                    ],
                    [
                      "(?)"
                    ],
                    [
                      "(?)"
                    ],
                    [
                      "(?)"
                    ],
                    [
                      "(?)"
                    ],
                    [
                      "(?)"
                    ],
                    [
                      "(?)"
                    ],
                    [
                      "(?)"
                    ],
                    [
                      "(?)"
                    ],
                    [
                      "(?)"
                    ],
                    [
                      "(?)"
                    ],
                    [
                      "(?)"
                    ],
                    [
                      "(?)"
                    ],
                    [
                      "(?)"
                    ],
                    [
                      "(?)"
                    ],
                    [
                      "(?)"
                    ],
                    [
                      "(?)"
                    ],
                    [
                      "(?)"
                    ],
                    [
                      "(?)"
                    ],
                    [
                      "(?)"
                    ],
                    [
                      "(?)"
                    ],
                    [
                      "(?)"
                    ],
                    [
                      "(?)"
                    ],
                    [
                      "(?)"
                    ],
                    [
                      "(?)"
                    ],
                    [
                      "(?)"
                    ],
                    [
                      "(?)"
                    ],
                    [
                      "(?)"
                    ],
                    [
                      "(?)"
                    ],
                    [
                      "(?)"
                    ],
                    [
                      "Failure"
                    ],
                    [
                      "Failure"
                    ],
                    [
                      "Failure"
                    ],
                    [
                      "Failure"
                    ],
                    [
                      "Failure"
                    ],
                    [
                      "Failure"
                    ],
                    [
                      "Failure"
                    ],
                    [
                      "Failure"
                    ],
                    [
                      "Failure"
                    ],
                    [
                      "Failure"
                    ],
                    [
                      "Failure"
                    ],
                    [
                      "Failure"
                    ],
                    [
                      "Failure"
                    ],
                    [
                      "Failure"
                    ],
                    [
                      "Failure"
                    ],
                    [
                      "Failure"
                    ],
                    [
                      "Failure"
                    ],
                    [
                      "Failure"
                    ],
                    [
                      "Failure"
                    ],
                    [
                      "Failure"
                    ],
                    [
                      "Failure"
                    ],
                    [
                      "Failure"
                    ],
                    [
                      "Failure"
                    ],
                    [
                      "Failure"
                    ],
                    [
                      "Failure"
                    ],
                    [
                      "Failure"
                    ],
                    [
                      "Failure"
                    ],
                    [
                      "Failure"
                    ],
                    [
                      "Failure"
                    ],
                    [
                      "Failure"
                    ],
                    [
                      "Failure"
                    ],
                    [
                      "Failure"
                    ],
                    [
                      "Failure"
                    ],
                    [
                      "Failure"
                    ],
                    [
                      "Failure"
                    ],
                    [
                      "Failure"
                    ],
                    [
                      "Failure"
                    ],
                    [
                      "Failure"
                    ],
                    [
                      "Failure"
                    ],
                    [
                      "Failure"
                    ],
                    [
                      "Failure"
                    ],
                    [
                      "Failure"
                    ],
                    [
                      "Failure"
                    ],
                    [
                      "Failure"
                    ],
                    [
                      "Failure"
                    ],
                    [
                      "Failure"
                    ],
                    [
                      "Failure"
                    ],
                    [
                      "Failure"
                    ],
                    [
                      "Failure"
                    ],
                    [
                      "Failure"
                    ],
                    [
                      "Failure"
                    ],
                    [
                      "Failure"
                    ],
                    [
                      "Failure"
                    ],
                    [
                      "Partial Failure"
                    ],
                    [
                      "Partial Failure"
                    ],
                    [
                      "Partial Failure"
                    ],
                    [
                      "Partial Failure"
                    ],
                    [
                      "Partial Failure"
                    ],
                    [
                      "Partial Failure"
                    ],
                    [
                      "Partial Failure"
                    ],
                    [
                      "Partial Failure"
                    ],
                    [
                      "Partial Failure"
                    ],
                    [
                      "Partial Failure"
                    ],
                    [
                      "Partial Failure"
                    ],
                    [
                      "Partial Failure"
                    ],
                    [
                      "Partial Failure"
                    ],
                    [
                      "Partial Failure"
                    ],
                    [
                      "Partial Failure"
                    ],
                    [
                      "Partial Failure"
                    ],
                    [
                      "Partial Failure"
                    ],
                    [
                      "Partial Failure"
                    ],
                    [
                      "Partial Failure"
                    ],
                    [
                      "Partial Failure"
                    ],
                    [
                      "Partial Failure"
                    ],
                    [
                      "Partial Failure"
                    ],
                    [
                      "Partial Failure"
                    ],
                    [
                      "Partial Failure"
                    ],
                    [
                      "Prelaunch Failure"
                    ],
                    [
                      "Prelaunch Failure"
                    ],
                    [
                      "Prelaunch Failure"
                    ],
                    [
                      "Prelaunch Failure"
                    ],
                    [
                      "Success"
                    ],
                    [
                      "Success"
                    ],
                    [
                      "Success"
                    ],
                    [
                      "Success"
                    ],
                    [
                      "Success"
                    ],
                    [
                      "Success"
                    ],
                    [
                      "Success"
                    ],
                    [
                      "Success"
                    ],
                    [
                      "Success"
                    ],
                    [
                      "Success"
                    ],
                    [
                      "Success"
                    ],
                    [
                      "Success"
                    ],
                    [
                      "Success"
                    ],
                    [
                      "Success"
                    ],
                    [
                      "Success"
                    ],
                    [
                      "Success"
                    ],
                    [
                      "Success"
                    ],
                    [
                      "Success"
                    ],
                    [
                      "Success"
                    ],
                    [
                      "Success"
                    ],
                    [
                      "Success"
                    ],
                    [
                      "Success"
                    ],
                    [
                      "Success"
                    ],
                    [
                      "Success"
                    ],
                    [
                      "Success"
                    ],
                    [
                      "Success"
                    ],
                    [
                      "Success"
                    ],
                    [
                      "Success"
                    ],
                    [
                      "Success"
                    ],
                    [
                      "Success"
                    ],
                    [
                      "Success"
                    ],
                    [
                      "Success"
                    ],
                    [
                      "Success"
                    ],
                    [
                      "Success"
                    ],
                    [
                      "Success"
                    ],
                    [
                      "Success"
                    ],
                    [
                      "Success"
                    ],
                    [
                      "Success"
                    ],
                    [
                      "Success"
                    ],
                    [
                      "Success"
                    ],
                    [
                      "Success"
                    ],
                    [
                      "Success"
                    ],
                    [
                      "Success"
                    ],
                    [
                      "Success"
                    ],
                    [
                      "Success"
                    ],
                    [
                      "Success"
                    ],
                    [
                      "Success"
                    ],
                    [
                      "Success"
                    ],
                    [
                      "Success"
                    ],
                    [
                      "Success"
                    ],
                    [
                      "Success"
                    ],
                    [
                      "Success"
                    ],
                    [
                      "Success"
                    ],
                    [
                      "Success"
                    ],
                    [
                      "Success"
                    ],
                    [
                      "Success"
                    ],
                    [
                      "Success"
                    ],
                    [
                      "Success"
                    ],
                    [
                      "Success"
                    ],
                    [
                      "Success"
                    ],
                    [
                      "Success"
                    ],
                    [
                      "Success"
                    ],
                    [
                      "Success"
                    ],
                    [
                      "Success"
                    ],
                    [
                      "Success"
                    ],
                    [
                      "Success"
                    ],
                    [
                      "Success"
                    ],
                    [
                      "Success"
                    ],
                    [
                      "Success"
                    ],
                    [
                      "Success"
                    ],
                    [
                      "Success"
                    ],
                    [
                      "Success"
                    ]
                  ],
                  "domain": {
                    "x": [
                      0,
                      1
                    ],
                    "y": [
                      0,
                      1
                    ]
                  },
                  "hovertemplate": "labels=%{label}<br>Count=%{value}<br>parent=%{parent}<br>id=%{id}<br>Mission_Status=%{customdata[0]}<extra></extra>",
                  "ids": [
                    "USA",
                    "North Korea/KCST",
                    "Pacific Ocean/Sea Launch",
                    "Russian Federation/Eurockot",
                    "Russian Federation/MITT",
                    "Russian Federation/RVSN USSR",
                    "Russian Federation/Roscosmos",
                    "Russian Federation/SRC",
                    "Japan/ISAS",
                    "New Zealand/Rocket Lab",
                    "South Korea/KARI",
                    "USA/Boeing",
                    "USA/Exos",
                    "USA/General Dynamics",
                    "USA/Lockheed",
                    "USA/Martin Marietta",
                    "USA/NASA",
                    "USA/Northrop",
                    "USA/SpaceX",
                    "USA/AMBA",
                    "South Korea",
                    "Kazakhstan/VKS RF",
                    "Kazakhstan/Roscosmos",
                    "Israel/IAI",
                    "Iran/ISA",
                    "Japan/MHI",
                    "India/ISRO",
                    "France/ESA",
                    "France/CNES",
                    "France/Arm??e de l'Air",
                    "France/Arianespace",
                    "Japan/UT",
                    "China/ExPace",
                    "China/CASIC",
                    "China/CASC",
                    "Brazil/AEB",
                    "Australia/RAE",
                    "Australia/CECLES",
                    "Kazakhstan/ILS",
                    "Kazakhstan/Kosmotras",
                    "Kazakhstan/Land Launch",
                    "Kazakhstan/RVSN USSR",
                    "USA/ULA",
                    "USA/US Air Force",
                    "Russian Federation/VKS RF",
                    "Japan/JAXA",
                    "Kazakhstan",
                    "Israel",
                    "Australia",
                    "China",
                    "France",
                    "New Zealand",
                    "Brazil",
                    "North Korea",
                    "Japan",
                    "Iran",
                    "Pacific Ocean",
                    "India",
                    "Russian Federation",
                    "USA/US Navy",
                    "USA/Exos/Failure",
                    "USA/General Dynamics/Failure",
                    "USA/Boeing/Failure",
                    "USA/Lockheed/Failure",
                    "France/ESA/Failure",
                    "USA/Martin Marietta/Failure",
                    "USA/NASA/Failure",
                    "USA/Northrop/Failure",
                    "USA/EER/Failure",
                    "France/CECLES/Failure",
                    "France/Arianespace/Failure",
                    "USA/SpaceX/Failure",
                    "Australia/CECLES/Failure",
                    "Australia/RAE/Failure",
                    "Brazil/AEB/Failure",
                    "France/CECLES",
                    "China/CASC/Failure",
                    "China/OneSpace",
                    "China/Landspace",
                    "China/CASIC/Failure",
                    "China/ExPace/Failure",
                    "China/Landspace/Failure",
                    "China/OneSpace/Failure",
                    "USA/Virgin Orbit/Failure",
                    "USA/US Navy/Failure",
                    "USA/AMBA/Failure",
                    "USA/US Air Force/Failure",
                    "USA/Sandia/Failure",
                    "South Korea/KARI/Failure",
                    "Japan/UT/Failure",
                    "France/CNES/Failure",
                    "Kazakhstan/RVSN USSR/Failure",
                    "Kazakhstan/VKS RF/Failure",
                    "Israel/IAI/Failure",
                    "USA/EER",
                    "New Zealand/Rocket Lab/Failure",
                    "USA/Virgin Orbit",
                    "North Korea/KCST/Failure",
                    "Pacific Ocean/Sea Launch/Failure",
                    "Japan/JAXA/Failure",
                    "Kazakhstan/Roscosmos/Failure",
                    "Russian Federation/Eurockot/Failure",
                    "Kazakhstan/Kosmotras/Failure",
                    "Iran/ISA/Failure",
                    "USA/Sandia",
                    "Russian Federation/MITT/Failure",
                    "Japan/ISAS/Failure",
                    "India/ISRO/Failure",
                    "Russian Federation/Roscosmos/Failure",
                    "Japan/MHI/Failure",
                    "Russian Federation/VKS RF/Failure",
                    "Russian Federation/SRC/Failure",
                    "Russian Federation/RVSN USSR/Failure",
                    "Kazakhstan/RVSN USSR/Partial Failure",
                    "Kazakhstan/Roscosmos/Partial Failure",
                    "France/ESA/Partial Failure",
                    "Japan/ISAS/Partial Failure",
                    "Russian Federation/VKS RF/Partial Failure",
                    "USA/AMBA/Partial Failure",
                    "USA/US Navy/Partial Failure",
                    "China/CASC/Partial Failure",
                    "USA/US Air Force/Partial Failure",
                    "France/Arianespace/Partial Failure",
                    "Kazakhstan/ILS/Partial Failure",
                    "Kazakhstan/Land Launch/Partial Failure",
                    "USA/SpaceX/Partial Failure",
                    "USA/Boeing/Partial Failure",
                    "Japan/MHI/Partial Failure",
                    "USA/Northrop/Partial Failure",
                    "France/Arm??e de l'Air/Partial Failure",
                    "India/ISRO/Partial Failure",
                    "USA/Exos/Partial Failure",
                    "USA/Martin Marietta/Partial Failure",
                    "Russian Federation/RVSN USSR/Partial Failure",
                    "USA/General Dynamics/Partial Failure",
                    "USA/ULA/Partial Failure",
                    "USA/NASA/Partial Failure",
                    "Brazil/AEB/Prelaunch Failure",
                    "USA/SpaceX/Prelaunch Failure",
                    "Iran/ISA/Prelaunch Failure",
                    "Kazakhstan/RVSN USSR/Prelaunch Failure",
                    "Kenya",
                    "USA/ILS",
                    "Kazakhstan/Arianespace",
                    "USA/Douglas",
                    "Kazakhstan/OKB-586",
                    "Russian Federation/Khrunichev",
                    "USA/Blue Origin",
                    "Kazakhstan/Starsem",
                    "Russian Federation/Yuzhmash",
                    "Kazakhstan/Yuzhmash",
                    "Kenya/ASI",
                    "Russian Federation/Kosmotras",
                    "Australia/AMBA/Success",
                    "China/i-Space",
                    "Kazakhstan/Starsem/Success",
                    "Kazakhstan/Roscosmos/Success",
                    "Kazakhstan/RVSN USSR/Success",
                    "Kazakhstan/OKB-586/Success",
                    "Kazakhstan/Land Launch/Success",
                    "Kazakhstan/Kosmotras/Success",
                    "Kazakhstan/ILS/Success",
                    "Kazakhstan/Arianespace/Success",
                    "Japan/UT/Success",
                    "Japan/MHI/Success",
                    "Japan/JAXA/Success",
                    "Japan/ISAS/Success",
                    "Kazakhstan/VKS RF/Success",
                    "Israel/IAI/Success",
                    "Iran/IRGC/Success",
                    "India/ISRO/Success",
                    "France/ESA/Success",
                    "France/CNES/Success",
                    "France/Arm??e de l'Air/Success",
                    "France/Arianespace/Success",
                    "China/i-Space/Success",
                    "China/ExPace/Success",
                    "China/CASIC/Success",
                    "China/CASC/Success",
                    "Australia/RAE/Success",
                    "Australia/CECLES/Success",
                    "Iran/ISA/Success",
                    "Iran/IRGC",
                    "Kazakhstan/Yuzhmash/Success",
                    "New Zealand/Rocket Lab/Success",
                    "Australia/AMBA",
                    "USA/US Navy/Success",
                    "USA/US Air Force/Success",
                    "USA/ULA/Success",
                    "USA/SpaceX/Success",
                    "USA/Northrop/Success",
                    "USA/NASA/Success",
                    "USA/Martin Marietta/Success",
                    "USA/Lockheed/Success",
                    "USA/General Dynamics/Success",
                    "USA/Douglas/Success",
                    "USA/Boeing/Success",
                    "Kenya/ASI/Success",
                    "USA/Blue Origin/Success",
                    "South Korea/KARI/Success",
                    "Russian Federation/Yuzhmash/Success",
                    "Russian Federation/VKS RF/Success",
                    "Russian Federation/SRC/Success",
                    "Russian Federation/Roscosmos/Success",
                    "Russian Federation/RVSN USSR/Success",
                    "Russian Federation/MITT/Success",
                    "Russian Federation/Kosmotras/Success",
                    "Russian Federation/Khrunichev/Success",
                    "Russian Federation/Eurockot/Success",
                    "Pacific Ocean/Sea Launch/Success",
                    "North Korea/KCST/Success",
                    "USA/AMBA/Success",
                    "USA/ILS/Success"
                  ],
                  "labels": [
                    "USA",
                    "KCST",
                    "Sea Launch",
                    "Eurockot",
                    "MITT",
                    "RVSN USSR",
                    "Roscosmos",
                    "SRC",
                    "ISAS",
                    "Rocket Lab",
                    "KARI",
                    "Boeing",
                    "Exos",
                    "General Dynamics",
                    "Lockheed",
                    "Martin Marietta",
                    "NASA",
                    "Northrop",
                    "SpaceX",
                    "AMBA",
                    "South Korea",
                    "VKS RF",
                    "Roscosmos",
                    "IAI",
                    "ISA",
                    "MHI",
                    "ISRO",
                    "ESA",
                    "CNES",
                    "Arm??e de l'Air",
                    "Arianespace",
                    "UT",
                    "ExPace",
                    "CASIC",
                    "CASC",
                    "AEB",
                    "RAE",
                    "CECLES",
                    "ILS",
                    "Kosmotras",
                    "Land Launch",
                    "RVSN USSR",
                    "ULA",
                    "US Air Force",
                    "VKS RF",
                    "JAXA",
                    "Kazakhstan",
                    "Israel",
                    "Australia",
                    "China",
                    "France",
                    "New Zealand",
                    "Brazil",
                    "North Korea",
                    "Japan",
                    "Iran",
                    "Pacific Ocean",
                    "India",
                    "Russian Federation",
                    "US Navy",
                    "Failure",
                    "Failure",
                    "Failure",
                    "Failure",
                    "Failure",
                    "Failure",
                    "Failure",
                    "Failure",
                    "Failure",
                    "Failure",
                    "Failure",
                    "Failure",
                    "Failure",
                    "Failure",
                    "Failure",
                    "CECLES",
                    "Failure",
                    "OneSpace",
                    "Landspace",
                    "Failure",
                    "Failure",
                    "Failure",
                    "Failure",
                    "Failure",
                    "Failure",
                    "Failure",
                    "Failure",
                    "Failure",
                    "Failure",
                    "Failure",
                    "Failure",
                    "Failure",
                    "Failure",
                    "Failure",
                    "EER",
                    "Failure",
                    "Virgin Orbit",
                    "Failure",
                    "Failure",
                    "Failure",
                    "Failure",
                    "Failure",
                    "Failure",
                    "Failure",
                    "Sandia",
                    "Failure",
                    "Failure",
                    "Failure",
                    "Failure",
                    "Failure",
                    "Failure",
                    "Failure",
                    "Failure",
                    "Partial Failure",
                    "Partial Failure",
                    "Partial Failure",
                    "Partial Failure",
                    "Partial Failure",
                    "Partial Failure",
                    "Partial Failure",
                    "Partial Failure",
                    "Partial Failure",
                    "Partial Failure",
                    "Partial Failure",
                    "Partial Failure",
                    "Partial Failure",
                    "Partial Failure",
                    "Partial Failure",
                    "Partial Failure",
                    "Partial Failure",
                    "Partial Failure",
                    "Partial Failure",
                    "Partial Failure",
                    "Partial Failure",
                    "Partial Failure",
                    "Partial Failure",
                    "Partial Failure",
                    "Prelaunch Failure",
                    "Prelaunch Failure",
                    "Prelaunch Failure",
                    "Prelaunch Failure",
                    "Kenya",
                    "ILS",
                    "Arianespace",
                    "Douglas",
                    "OKB-586",
                    "Khrunichev",
                    "Blue Origin",
                    "Starsem",
                    "Yuzhmash",
                    "Yuzhmash",
                    "ASI",
                    "Kosmotras",
                    "Success",
                    "i-Space",
                    "Success",
                    "Success",
                    "Success",
                    "Success",
                    "Success",
                    "Success",
                    "Success",
                    "Success",
                    "Success",
                    "Success",
                    "Success",
                    "Success",
                    "Success",
                    "Success",
                    "Success",
                    "Success",
                    "Success",
                    "Success",
                    "Success",
                    "Success",
                    "Success",
                    "Success",
                    "Success",
                    "Success",
                    "Success",
                    "Success",
                    "Success",
                    "IRGC",
                    "Success",
                    "Success",
                    "AMBA",
                    "Success",
                    "Success",
                    "Success",
                    "Success",
                    "Success",
                    "Success",
                    "Success",
                    "Success",
                    "Success",
                    "Success",
                    "Success",
                    "Success",
                    "Success",
                    "Success",
                    "Success",
                    "Success",
                    "Success",
                    "Success",
                    "Success",
                    "Success",
                    "Success",
                    "Success",
                    "Success",
                    "Success",
                    "Success",
                    "Success",
                    "Success"
                  ],
                  "marker": {
                    "colors": [
                      "#ab63fa",
                      "#ab63fa",
                      "#ab63fa",
                      "#ab63fa",
                      "#ab63fa",
                      "#ab63fa",
                      "#ab63fa",
                      "#ab63fa",
                      "#ab63fa",
                      "#ab63fa",
                      "#ab63fa",
                      "#ab63fa",
                      "#ab63fa",
                      "#ab63fa",
                      "#ab63fa",
                      "#ab63fa",
                      "#ab63fa",
                      "#ab63fa",
                      "#ab63fa",
                      "#ab63fa",
                      "#ab63fa",
                      "#ab63fa",
                      "#ab63fa",
                      "#ab63fa",
                      "#ab63fa",
                      "#ab63fa",
                      "#ab63fa",
                      "#ab63fa",
                      "#ab63fa",
                      "#ab63fa",
                      "#ab63fa",
                      "#ab63fa",
                      "#ab63fa",
                      "#ab63fa",
                      "#ab63fa",
                      "#ab63fa",
                      "#ab63fa",
                      "#ab63fa",
                      "#ab63fa",
                      "#ab63fa",
                      "#ab63fa",
                      "#ab63fa",
                      "#ab63fa",
                      "#ab63fa",
                      "#ab63fa",
                      "#ab63fa",
                      "#ab63fa",
                      "#ab63fa",
                      "#ab63fa",
                      "#ab63fa",
                      "#ab63fa",
                      "#ab63fa",
                      "#ab63fa",
                      "#ab63fa",
                      "#ab63fa",
                      "#ab63fa",
                      "#ab63fa",
                      "#ab63fa",
                      "#ab63fa",
                      "#ab63fa",
                      "red",
                      "red",
                      "red",
                      "red",
                      "red",
                      "red",
                      "red",
                      "red",
                      "red",
                      "red",
                      "red",
                      "red",
                      "red",
                      "red",
                      "red",
                      "red",
                      "red",
                      "red",
                      "red",
                      "red",
                      "red",
                      "red",
                      "red",
                      "red",
                      "red",
                      "red",
                      "red",
                      "red",
                      "red",
                      "red",
                      "red",
                      "red",
                      "red",
                      "red",
                      "red",
                      "red",
                      "red",
                      "red",
                      "red",
                      "red",
                      "red",
                      "red",
                      "red",
                      "red",
                      "red",
                      "red",
                      "red",
                      "red",
                      "red",
                      "red",
                      "red",
                      "red",
                      "red",
                      "orange",
                      "orange",
                      "orange",
                      "orange",
                      "orange",
                      "orange",
                      "orange",
                      "orange",
                      "orange",
                      "orange",
                      "orange",
                      "orange",
                      "orange",
                      "orange",
                      "orange",
                      "orange",
                      "orange",
                      "orange",
                      "orange",
                      "orange",
                      "orange",
                      "orange",
                      "orange",
                      "orange",
                      "#FFA15A",
                      "#FFA15A",
                      "#FFA15A",
                      "#FFA15A",
                      "green",
                      "green",
                      "green",
                      "green",
                      "green",
                      "green",
                      "green",
                      "green",
                      "green",
                      "green",
                      "green",
                      "green",
                      "green",
                      "green",
                      "green",
                      "green",
                      "green",
                      "green",
                      "green",
                      "green",
                      "green",
                      "green",
                      "green",
                      "green",
                      "green",
                      "green",
                      "green",
                      "green",
                      "green",
                      "green",
                      "green",
                      "green",
                      "green",
                      "green",
                      "green",
                      "green",
                      "green",
                      "green",
                      "green",
                      "green",
                      "green",
                      "green",
                      "green",
                      "green",
                      "green",
                      "green",
                      "green",
                      "green",
                      "green",
                      "green",
                      "green",
                      "green",
                      "green",
                      "green",
                      "green",
                      "green",
                      "green",
                      "green",
                      "green",
                      "green",
                      "green",
                      "green",
                      "green",
                      "green",
                      "green",
                      "green",
                      "green",
                      "green",
                      "green",
                      "green",
                      "green",
                      "green"
                    ]
                  },
                  "name": "",
                  "parents": [
                    "",
                    "North Korea",
                    "Pacific Ocean",
                    "Russian Federation",
                    "Russian Federation",
                    "Russian Federation",
                    "Russian Federation",
                    "Russian Federation",
                    "Japan",
                    "New Zealand",
                    "South Korea",
                    "USA",
                    "USA",
                    "USA",
                    "USA",
                    "USA",
                    "USA",
                    "USA",
                    "USA",
                    "USA",
                    "",
                    "Kazakhstan",
                    "Kazakhstan",
                    "Israel",
                    "Iran",
                    "Japan",
                    "India",
                    "France",
                    "France",
                    "France",
                    "France",
                    "Japan",
                    "China",
                    "China",
                    "China",
                    "Brazil",
                    "Australia",
                    "Australia",
                    "Kazakhstan",
                    "Kazakhstan",
                    "Kazakhstan",
                    "Kazakhstan",
                    "USA",
                    "USA",
                    "Russian Federation",
                    "Japan",
                    "",
                    "",
                    "",
                    "",
                    "",
                    "",
                    "",
                    "",
                    "",
                    "",
                    "",
                    "",
                    "",
                    "USA",
                    "USA/Exos",
                    "USA/General Dynamics",
                    "USA/Boeing",
                    "USA/Lockheed",
                    "France/ESA",
                    "USA/Martin Marietta",
                    "USA/NASA",
                    "USA/Northrop",
                    "USA/EER",
                    "France/CECLES",
                    "France/Arianespace",
                    "USA/SpaceX",
                    "Australia/CECLES",
                    "Australia/RAE",
                    "Brazil/AEB",
                    "France",
                    "China/CASC",
                    "China",
                    "China",
                    "China/CASIC",
                    "China/ExPace",
                    "China/Landspace",
                    "China/OneSpace",
                    "USA/Virgin Orbit",
                    "USA/US Navy",
                    "USA/AMBA",
                    "USA/US Air Force",
                    "USA/Sandia",
                    "South Korea/KARI",
                    "Japan/UT",
                    "France/CNES",
                    "Kazakhstan/RVSN USSR",
                    "Kazakhstan/VKS RF",
                    "Israel/IAI",
                    "USA",
                    "New Zealand/Rocket Lab",
                    "USA",
                    "North Korea/KCST",
                    "Pacific Ocean/Sea Launch",
                    "Japan/JAXA",
                    "Kazakhstan/Roscosmos",
                    "Russian Federation/Eurockot",
                    "Kazakhstan/Kosmotras",
                    "Iran/ISA",
                    "USA",
                    "Russian Federation/MITT",
                    "Japan/ISAS",
                    "India/ISRO",
                    "Russian Federation/Roscosmos",
                    "Japan/MHI",
                    "Russian Federation/VKS RF",
                    "Russian Federation/SRC",
                    "Russian Federation/RVSN USSR",
                    "Kazakhstan/RVSN USSR",
                    "Kazakhstan/Roscosmos",
                    "France/ESA",
                    "Japan/ISAS",
                    "Russian Federation/VKS RF",
                    "USA/AMBA",
                    "USA/US Navy",
                    "China/CASC",
                    "USA/US Air Force",
                    "France/Arianespace",
                    "Kazakhstan/ILS",
                    "Kazakhstan/Land Launch",
                    "USA/SpaceX",
                    "USA/Boeing",
                    "Japan/MHI",
                    "USA/Northrop",
                    "France/Arm??e de l'Air",
                    "India/ISRO",
                    "USA/Exos",
                    "USA/Martin Marietta",
                    "Russian Federation/RVSN USSR",
                    "USA/General Dynamics",
                    "USA/ULA",
                    "USA/NASA",
                    "Brazil/AEB",
                    "USA/SpaceX",
                    "Iran/ISA",
                    "Kazakhstan/RVSN USSR",
                    "",
                    "USA",
                    "Kazakhstan",
                    "USA",
                    "Kazakhstan",
                    "Russian Federation",
                    "USA",
                    "Kazakhstan",
                    "Russian Federation",
                    "Kazakhstan",
                    "Kenya",
                    "Russian Federation",
                    "Australia/AMBA",
                    "China",
                    "Kazakhstan/Starsem",
                    "Kazakhstan/Roscosmos",
                    "Kazakhstan/RVSN USSR",
                    "Kazakhstan/OKB-586",
                    "Kazakhstan/Land Launch",
                    "Kazakhstan/Kosmotras",
                    "Kazakhstan/ILS",
                    "Kazakhstan/Arianespace",
                    "Japan/UT",
                    "Japan/MHI",
                    "Japan/JAXA",
                    "Japan/ISAS",
                    "Kazakhstan/VKS RF",
                    "Israel/IAI",
                    "Iran/IRGC",
                    "India/ISRO",
                    "France/ESA",
                    "France/CNES",
                    "France/Arm??e de l'Air",
                    "France/Arianespace",
                    "China/i-Space",
                    "China/ExPace",
                    "China/CASIC",
                    "China/CASC",
                    "Australia/RAE",
                    "Australia/CECLES",
                    "Iran/ISA",
                    "Iran",
                    "Kazakhstan/Yuzhmash",
                    "New Zealand/Rocket Lab",
                    "Australia",
                    "USA/US Navy",
                    "USA/US Air Force",
                    "USA/ULA",
                    "USA/SpaceX",
                    "USA/Northrop",
                    "USA/NASA",
                    "USA/Martin Marietta",
                    "USA/Lockheed",
                    "USA/General Dynamics",
                    "USA/Douglas",
                    "USA/Boeing",
                    "Kenya/ASI",
                    "USA/Blue Origin",
                    "South Korea/KARI",
                    "Russian Federation/Yuzhmash",
                    "Russian Federation/VKS RF",
                    "Russian Federation/SRC",
                    "Russian Federation/Roscosmos",
                    "Russian Federation/RVSN USSR",
                    "Russian Federation/MITT",
                    "Russian Federation/Kosmotras",
                    "Russian Federation/Khrunichev",
                    "Russian Federation/Eurockot",
                    "Pacific Ocean/Sea Launch",
                    "North Korea/KCST",
                    "USA/AMBA",
                    "USA/ILS"
                  ],
                  "type": "sunburst",
                  "values": {
                    "bdata": "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",
                    "dtype": "f8"
                  }
                }
              ],
              "layout": {
                "legend": {
                  "tracegroupgap": 0
                },
                "template": {
                  "data": {
                    "bar": [
                      {
                        "error_x": {
                          "color": "#2a3f5f"
                        },
                        "error_y": {
                          "color": "#2a3f5f"
                        },
                        "marker": {
                          "line": {
                            "color": "#E5ECF6",
                            "width": 0.5
                          },
                          "pattern": {
                            "fillmode": "overlay",
                            "size": 10,
                            "solidity": 0.2
                          }
                        },
                        "type": "bar"
                      }
                    ],
                    "barpolar": [
                      {
                        "marker": {
                          "line": {
                            "color": "#E5ECF6",
                            "width": 0.5
                          },
                          "pattern": {
                            "fillmode": "overlay",
                            "size": 10,
                            "solidity": 0.2
                          }
                        },
                        "type": "barpolar"
                      }
                    ],
                    "carpet": [
                      {
                        "aaxis": {
                          "endlinecolor": "#2a3f5f",
                          "gridcolor": "white",
                          "linecolor": "white",
                          "minorgridcolor": "white",
                          "startlinecolor": "#2a3f5f"
                        },
                        "baxis": {
                          "endlinecolor": "#2a3f5f",
                          "gridcolor": "white",
                          "linecolor": "white",
                          "minorgridcolor": "white",
                          "startlinecolor": "#2a3f5f"
                        },
                        "type": "carpet"
                      }
                    ],
                    "choropleth": [
                      {
                        "colorbar": {
                          "outlinewidth": 0,
                          "ticks": ""
                        },
                        "type": "choropleth"
                      }
                    ],
                    "contour": [
                      {
                        "colorbar": {
                          "outlinewidth": 0,
                          "ticks": ""
                        },
                        "colorscale": [
                          [
                            0,
                            "#0d0887"
                          ],
                          [
                            0.1111111111111111,
                            "#46039f"
                          ],
                          [
                            0.2222222222222222,
                            "#7201a8"
                          ],
                          [
                            0.3333333333333333,
                            "#9c179e"
                          ],
                          [
                            0.4444444444444444,
                            "#bd3786"
                          ],
                          [
                            0.5555555555555556,
                            "#d8576b"
                          ],
                          [
                            0.6666666666666666,
                            "#ed7953"
                          ],
                          [
                            0.7777777777777778,
                            "#fb9f3a"
                          ],
                          [
                            0.8888888888888888,
                            "#fdca26"
                          ],
                          [
                            1,
                            "#f0f921"
                          ]
                        ],
                        "type": "contour"
                      }
                    ],
                    "contourcarpet": [
                      {
                        "colorbar": {
                          "outlinewidth": 0,
                          "ticks": ""
                        },
                        "type": "contourcarpet"
                      }
                    ],
                    "heatmap": [
                      {
                        "colorbar": {
                          "outlinewidth": 0,
                          "ticks": ""
                        },
                        "colorscale": [
                          [
                            0,
                            "#0d0887"
                          ],
                          [
                            0.1111111111111111,
                            "#46039f"
                          ],
                          [
                            0.2222222222222222,
                            "#7201a8"
                          ],
                          [
                            0.3333333333333333,
                            "#9c179e"
                          ],
                          [
                            0.4444444444444444,
                            "#bd3786"
                          ],
                          [
                            0.5555555555555556,
                            "#d8576b"
                          ],
                          [
                            0.6666666666666666,
                            "#ed7953"
                          ],
                          [
                            0.7777777777777778,
                            "#fb9f3a"
                          ],
                          [
                            0.8888888888888888,
                            "#fdca26"
                          ],
                          [
                            1,
                            "#f0f921"
                          ]
                        ],
                        "type": "heatmap"
                      }
                    ],
                    "histogram": [
                      {
                        "marker": {
                          "pattern": {
                            "fillmode": "overlay",
                            "size": 10,
                            "solidity": 0.2
                          }
                        },
                        "type": "histogram"
                      }
                    ],
                    "histogram2d": [
                      {
                        "colorbar": {
                          "outlinewidth": 0,
                          "ticks": ""
                        },
                        "colorscale": [
                          [
                            0,
                            "#0d0887"
                          ],
                          [
                            0.1111111111111111,
                            "#46039f"
                          ],
                          [
                            0.2222222222222222,
                            "#7201a8"
                          ],
                          [
                            0.3333333333333333,
                            "#9c179e"
                          ],
                          [
                            0.4444444444444444,
                            "#bd3786"
                          ],
                          [
                            0.5555555555555556,
                            "#d8576b"
                          ],
                          [
                            0.6666666666666666,
                            "#ed7953"
                          ],
                          [
                            0.7777777777777778,
                            "#fb9f3a"
                          ],
                          [
                            0.8888888888888888,
                            "#fdca26"
                          ],
                          [
                            1,
                            "#f0f921"
                          ]
                        ],
                        "type": "histogram2d"
                      }
                    ],
                    "histogram2dcontour": [
                      {
                        "colorbar": {
                          "outlinewidth": 0,
                          "ticks": ""
                        },
                        "colorscale": [
                          [
                            0,
                            "#0d0887"
                          ],
                          [
                            0.1111111111111111,
                            "#46039f"
                          ],
                          [
                            0.2222222222222222,
                            "#7201a8"
                          ],
                          [
                            0.3333333333333333,
                            "#9c179e"
                          ],
                          [
                            0.4444444444444444,
                            "#bd3786"
                          ],
                          [
                            0.5555555555555556,
                            "#d8576b"
                          ],
                          [
                            0.6666666666666666,
                            "#ed7953"
                          ],
                          [
                            0.7777777777777778,
                            "#fb9f3a"
                          ],
                          [
                            0.8888888888888888,
                            "#fdca26"
                          ],
                          [
                            1,
                            "#f0f921"
                          ]
                        ],
                        "type": "histogram2dcontour"
                      }
                    ],
                    "mesh3d": [
                      {
                        "colorbar": {
                          "outlinewidth": 0,
                          "ticks": ""
                        },
                        "type": "mesh3d"
                      }
                    ],
                    "parcoords": [
                      {
                        "line": {
                          "colorbar": {
                            "outlinewidth": 0,
                            "ticks": ""
                          }
                        },
                        "type": "parcoords"
                      }
                    ],
                    "pie": [
                      {
                        "automargin": true,
                        "type": "pie"
                      }
                    ],
                    "scatter": [
                      {
                        "fillpattern": {
                          "fillmode": "overlay",
                          "size": 10,
                          "solidity": 0.2
                        },
                        "type": "scatter"
                      }
                    ],
                    "scatter3d": [
                      {
                        "line": {
                          "colorbar": {
                            "outlinewidth": 0,
                            "ticks": ""
                          }
                        },
                        "marker": {
                          "colorbar": {
                            "outlinewidth": 0,
                            "ticks": ""
                          }
                        },
                        "type": "scatter3d"
                      }
                    ],
                    "scattercarpet": [
                      {
                        "marker": {
                          "colorbar": {
                            "outlinewidth": 0,
                            "ticks": ""
                          }
                        },
                        "type": "scattercarpet"
                      }
                    ],
                    "scattergeo": [
                      {
                        "marker": {
                          "colorbar": {
                            "outlinewidth": 0,
                            "ticks": ""
                          }
                        },
                        "type": "scattergeo"
                      }
                    ],
                    "scattergl": [
                      {
                        "marker": {
                          "colorbar": {
                            "outlinewidth": 0,
                            "ticks": ""
                          }
                        },
                        "type": "scattergl"
                      }
                    ],
                    "scattermap": [
                      {
                        "marker": {
                          "colorbar": {
                            "outlinewidth": 0,
                            "ticks": ""
                          }
                        },
                        "type": "scattermap"
                      }
                    ],
                    "scattermapbox": [
                      {
                        "marker": {
                          "colorbar": {
                            "outlinewidth": 0,
                            "ticks": ""
                          }
                        },
                        "type": "scattermapbox"
                      }
                    ],
                    "scatterpolar": [
                      {
                        "marker": {
                          "colorbar": {
                            "outlinewidth": 0,
                            "ticks": ""
                          }
                        },
                        "type": "scatterpolar"
                      }
                    ],
                    "scatterpolargl": [
                      {
                        "marker": {
                          "colorbar": {
                            "outlinewidth": 0,
                            "ticks": ""
                          }
                        },
                        "type": "scatterpolargl"
                      }
                    ],
                    "scatterternary": [
                      {
                        "marker": {
                          "colorbar": {
                            "outlinewidth": 0,
                            "ticks": ""
                          }
                        },
                        "type": "scatterternary"
                      }
                    ],
                    "surface": [
                      {
                        "colorbar": {
                          "outlinewidth": 0,
                          "ticks": ""
                        },
                        "colorscale": [
                          [
                            0,
                            "#0d0887"
                          ],
                          [
                            0.1111111111111111,
                            "#46039f"
                          ],
                          [
                            0.2222222222222222,
                            "#7201a8"
                          ],
                          [
                            0.3333333333333333,
                            "#9c179e"
                          ],
                          [
                            0.4444444444444444,
                            "#bd3786"
                          ],
                          [
                            0.5555555555555556,
                            "#d8576b"
                          ],
                          [
                            0.6666666666666666,
                            "#ed7953"
                          ],
                          [
                            0.7777777777777778,
                            "#fb9f3a"
                          ],
                          [
                            0.8888888888888888,
                            "#fdca26"
                          ],
                          [
                            1,
                            "#f0f921"
                          ]
                        ],
                        "type": "surface"
                      }
                    ],
                    "table": [
                      {
                        "cells": {
                          "fill": {
                            "color": "#EBF0F8"
                          },
                          "line": {
                            "color": "white"
                          }
                        },
                        "header": {
                          "fill": {
                            "color": "#C8D4E3"
                          },
                          "line": {
                            "color": "white"
                          }
                        },
                        "type": "table"
                      }
                    ]
                  },
                  "layout": {
                    "annotationdefaults": {
                      "arrowcolor": "#2a3f5f",
                      "arrowhead": 0,
                      "arrowwidth": 1
                    },
                    "autotypenumbers": "strict",
                    "coloraxis": {
                      "colorbar": {
                        "outlinewidth": 0,
                        "ticks": ""
                      }
                    },
                    "colorscale": {
                      "diverging": [
                        [
                          0,
                          "#8e0152"
                        ],
                        [
                          0.1,
                          "#c51b7d"
                        ],
                        [
                          0.2,
                          "#de77ae"
                        ],
                        [
                          0.3,
                          "#f1b6da"
                        ],
                        [
                          0.4,
                          "#fde0ef"
                        ],
                        [
                          0.5,
                          "#f7f7f7"
                        ],
                        [
                          0.6,
                          "#e6f5d0"
                        ],
                        [
                          0.7,
                          "#b8e186"
                        ],
                        [
                          0.8,
                          "#7fbc41"
                        ],
                        [
                          0.9,
                          "#4d9221"
                        ],
                        [
                          1,
                          "#276419"
                        ]
                      ],
                      "sequential": [
                        [
                          0,
                          "#0d0887"
                        ],
                        [
                          0.1111111111111111,
                          "#46039f"
                        ],
                        [
                          0.2222222222222222,
                          "#7201a8"
                        ],
                        [
                          0.3333333333333333,
                          "#9c179e"
                        ],
                        [
                          0.4444444444444444,
                          "#bd3786"
                        ],
                        [
                          0.5555555555555556,
                          "#d8576b"
                        ],
                        [
                          0.6666666666666666,
                          "#ed7953"
                        ],
                        [
                          0.7777777777777778,
                          "#fb9f3a"
                        ],
                        [
                          0.8888888888888888,
                          "#fdca26"
                        ],
                        [
                          1,
                          "#f0f921"
                        ]
                      ],
                      "sequentialminus": [
                        [
                          0,
                          "#0d0887"
                        ],
                        [
                          0.1111111111111111,
                          "#46039f"
                        ],
                        [
                          0.2222222222222222,
                          "#7201a8"
                        ],
                        [
                          0.3333333333333333,
                          "#9c179e"
                        ],
                        [
                          0.4444444444444444,
                          "#bd3786"
                        ],
                        [
                          0.5555555555555556,
                          "#d8576b"
                        ],
                        [
                          0.6666666666666666,
                          "#ed7953"
                        ],
                        [
                          0.7777777777777778,
                          "#fb9f3a"
                        ],
                        [
                          0.8888888888888888,
                          "#fdca26"
                        ],
                        [
                          1,
                          "#f0f921"
                        ]
                      ]
                    },
                    "colorway": [
                      "#636efa",
                      "#EF553B",
                      "#00cc96",
                      "#ab63fa",
                      "#FFA15A",
                      "#19d3f3",
                      "#FF6692",
                      "#B6E880",
                      "#FF97FF",
                      "#FECB52"
                    ],
                    "font": {
                      "color": "#2a3f5f"
                    },
                    "geo": {
                      "bgcolor": "white",
                      "lakecolor": "white",
                      "landcolor": "#E5ECF6",
                      "showlakes": true,
                      "showland": true,
                      "subunitcolor": "white"
                    },
                    "hoverlabel": {
                      "align": "left"
                    },
                    "hovermode": "closest",
                    "mapbox": {
                      "style": "light"
                    },
                    "paper_bgcolor": "white",
                    "plot_bgcolor": "#E5ECF6",
                    "polar": {
                      "angularaxis": {
                        "gridcolor": "white",
                        "linecolor": "white",
                        "ticks": ""
                      },
                      "bgcolor": "#E5ECF6",
                      "radialaxis": {
                        "gridcolor": "white",
                        "linecolor": "white",
                        "ticks": ""
                      }
                    },
                    "scene": {
                      "xaxis": {
                        "backgroundcolor": "#E5ECF6",
                        "gridcolor": "white",
                        "gridwidth": 2,
                        "linecolor": "white",
                        "showbackground": true,
                        "ticks": "",
                        "zerolinecolor": "white"
                      },
                      "yaxis": {
                        "backgroundcolor": "#E5ECF6",
                        "gridcolor": "white",
                        "gridwidth": 2,
                        "linecolor": "white",
                        "showbackground": true,
                        "ticks": "",
                        "zerolinecolor": "white"
                      },
                      "zaxis": {
                        "backgroundcolor": "#E5ECF6",
                        "gridcolor": "white",
                        "gridwidth": 2,
                        "linecolor": "white",
                        "showbackground": true,
                        "ticks": "",
                        "zerolinecolor": "white"
                      }
                    },
                    "shapedefaults": {
                      "line": {
                        "color": "#2a3f5f"
                      }
                    },
                    "ternary": {
                      "aaxis": {
                        "gridcolor": "white",
                        "linecolor": "white",
                        "ticks": ""
                      },
                      "baxis": {
                        "gridcolor": "white",
                        "linecolor": "white",
                        "ticks": ""
                      },
                      "bgcolor": "#E5ECF6",
                      "caxis": {
                        "gridcolor": "white",
                        "linecolor": "white",
                        "ticks": ""
                      }
                    },
                    "title": {
                      "x": 0.05
                    },
                    "xaxis": {
                      "automargin": true,
                      "gridcolor": "white",
                      "linecolor": "white",
                      "ticks": "",
                      "title": {
                        "standoff": 15
                      },
                      "zerolinecolor": "white",
                      "zerolinewidth": 2
                    },
                    "yaxis": {
                      "automargin": true,
                      "gridcolor": "white",
                      "linecolor": "white",
                      "ticks": "",
                      "title": {
                        "standoff": 15
                      },
                      "zerolinecolor": "white",
                      "zerolinewidth": 2
                    }
                  }
                },
                "title": {
                  "text": "Rocket Launch Outcomes by Country and Organisation"
                }
              }
            }
          },
          "metadata": {},
          "output_type": "display_data"
        }
      ],
      "source": [
        "# make the figure\n",
        "fig = px.sunburst(\n",
        "    sunburst_data,\n",
        "    path=[\"Country\", \"Organisation\", \"Mission_Status\"], # hierarchy of levels\n",
        "    values=\"Count\",\n",
        "    color=\"Mission_Status\",\n",
        "    color_discrete_map={\"Success\": \"green\", \"Failure\": \"red\", \"Partial Failure\": \"orange\"},\n",
        "    title=\"Rocket Launch Outcomes by Country and Organisation\"\n",
        ")\n",
        "\n",
        "fig.show()"
      ]
    },
    {
      "cell_type": "markdown",
      "metadata": {
        "id": "70pG1BCZa-qY",
        "papermill": {
          "duration": 0.062712,
          "end_time": "2020-10-20T21:34:07.951200",
          "exception": false,
          "start_time": "2020-10-20T21:34:07.888488",
          "status": "completed"
        },
        "tags": []
      },
      "source": [
        "# Analyse the Total Amount of Money Spent by Organisation on Space Missions"
      ]
    },
    {
      "cell_type": "code",
      "execution_count": 70,
      "metadata": {
        "id": "IaJYxwEVpKHy"
      },
      "outputs": [],
      "source": [
        "# create a copy\n",
        "df_copy = df_data.copy()\n",
        "df_copy[\"Price\"] = pd.to_numeric(df_copy[\"Price\"], errors=\"coerce\")\n",
        "df_copy = df_copy[df_copy[\"Price\"] > 0]"
      ]
    },
    {
      "cell_type": "code",
      "execution_count": 71,
      "metadata": {
        "id": "orIFf-appPDL"
      },
      "outputs": [],
      "source": [
        "org_spending = df_copy.groupby(\"Organisation\")[\"Price\"].sum().reset_index()\n",
        "org_spending = org_spending.sort_values(by=\"Price\", ascending=False)\n"
      ]
    },
    {
      "cell_type": "code",
      "execution_count": 73,
      "metadata": {
        "id": "86OMPfpEpO7R"
      },
      "outputs": [
        {
          "data": {
            "image/png": "[encoded data removed]",
            "text/plain": [
              "<Figure size 1200x600 with 1 Axes>"
            ]
          },
          "metadata": {},
          "output_type": "display_data"
        }
      ],
      "source": [
        "# plot\n",
        "plt.figure(figsize=(12, 6))\n",
        "plt.title(\"Total spending by country\")\n",
        "plt.xlabel(\"Country\")\n",
        "plt.ylabel(\"Money spend in millions\")\n",
        "plt.xticks(rotation=45, ha=\"right\")\n",
        "plt.bar(org_spending[\"Organisation\"], org_spending[\"Price\"], color=\"green\")\n",
        "plt.show()"
      ]
    },
    {
      "cell_type": "markdown",
      "metadata": {
        "id": "DpsWkPxzpPXs"
      },
      "source": [
        "# Analyse the Amount of Money Spent by Organisation per Launch"
      ]
    },
    {
      "cell_type": "code",
      "execution_count": 76,
      "metadata": {
        "id": "opYJ6GiRpTk5"
      },
      "outputs": [
        {
          "data": {
            "text/html": [
              "<div>\n",
              "<style scoped>\n",
              "    .dataframe tbody tr th:only-of-type {\n",
              "        vertical-align: middle;\n",
              "    }\n",
              "\n",
              "    .dataframe tbody tr th {\n",
              "        vertical-align: top;\n",
              "    }\n",
              "\n",
              "    .dataframe thead th {\n",
              "        text-align: right;\n",
              "    }\n",
              "</style>\n",
              "<table border=\"1\" class=\"dataframe\">\n",
              "  <thead>\n",
              "    <tr style=\"text-align: right;\">\n",
              "      <th></th>\n",
              "      <th>Unnamed: 0.1</th>\n",
              "      <th>Unnamed: 0</th>\n",
              "      <th>Organisation</th>\n",
              "      <th>Location</th>\n",
              "      <th>Date</th>\n",
              "      <th>Detail</th>\n",
              "      <th>Rocket_Status</th>\n",
              "      <th>Price</th>\n",
              "      <th>Mission_Status</th>\n",
              "      <th>Country</th>\n",
              "      <th>ISO3</th>\n",
              "    </tr>\n",
              "  </thead>\n",
              "  <tbody>\n",
              "    <tr>\n",
              "      <th>0</th>\n",
              "      <td>0</td>\n",
              "      <td>0</td>\n",
              "      <td>SpaceX</td>\n",
              "      <td>LC-39A, Kennedy Space Center, Florida, USA</td>\n",
              "      <td>2020-08-07 05:12:00+00:00</td>\n",
              "      <td>Falcon 9 Block 5 | Starlink V1 L9 &amp; BlackSky</td>\n",
              "      <td>StatusActive</td>\n",
              "      <td>50.00</td>\n",
              "      <td>Success</td>\n",
              "      <td>USA</td>\n",
              "      <td>USA</td>\n",
              "    </tr>\n",
              "    <tr>\n",
              "      <th>1</th>\n",
              "      <td>1</td>\n",
              "      <td>1</td>\n",
              "      <td>CASC</td>\n",
              "      <td>Site 9401 (SLS-2), Jiuquan Satellite Launch Ce...</td>\n",
              "      <td>2020-08-06 04:01:00+00:00</td>\n",
              "      <td>Long March 2D | Gaofen-9 04 &amp; Q-SAT</td>\n",
              "      <td>StatusActive</td>\n",
              "      <td>29.75</td>\n",
              "      <td>Success</td>\n",
              "      <td>China</td>\n",
              "      <td>CHN</td>\n",
              "    </tr>\n",
              "    <tr>\n",
              "      <th>3</th>\n",
              "      <td>3</td>\n",
              "      <td>3</td>\n",
              "      <td>Roscosmos</td>\n",
              "      <td>Site 200/39, Baikonur Cosmodrome, Kazakhstan</td>\n",
              "      <td>2020-07-30 21:25:00+00:00</td>\n",
              "      <td>Proton-M/Briz-M | Ekspress-80 &amp; Ekspress-103</td>\n",
              "      <td>StatusActive</td>\n",
              "      <td>65.00</td>\n",
              "      <td>Success</td>\n",
              "      <td>Kazakhstan</td>\n",
              "      <td>KAZ</td>\n",
              "    </tr>\n",
              "    <tr>\n",
              "      <th>4</th>\n",
              "      <td>4</td>\n",
              "      <td>4</td>\n",
              "      <td>ULA</td>\n",
              "      <td>SLC-41, Cape Canaveral AFS, Florida, USA</td>\n",
              "      <td>2020-07-30 11:50:00+00:00</td>\n",
              "      <td>Atlas V 541 | Perseverance</td>\n",
              "      <td>StatusActive</td>\n",
              "      <td>145.00</td>\n",
              "      <td>Success</td>\n",
              "      <td>USA</td>\n",
              "      <td>USA</td>\n",
              "    </tr>\n",
              "    <tr>\n",
              "      <th>5</th>\n",
              "      <td>5</td>\n",
              "      <td>5</td>\n",
              "      <td>CASC</td>\n",
              "      <td>LC-9, Taiyuan Satellite Launch Center, China</td>\n",
              "      <td>2020-07-25 03:13:00+00:00</td>\n",
              "      <td>Long March 4B | Ziyuan-3 03, Apocalypse-10 &amp; N...</td>\n",
              "      <td>StatusActive</td>\n",
              "      <td>64.68</td>\n",
              "      <td>Success</td>\n",
              "      <td>China</td>\n",
              "      <td>CHN</td>\n",
              "    </tr>\n",
              "  </tbody>\n",
              "</table>\n",
              "</div>"
            ],
            "text/plain": [
              "   Unnamed: 0.1  Unnamed: 0 Organisation  \\\n",
              "0             0           0       SpaceX   \n",
              "1             1           1         CASC   \n",
              "3             3           3    Roscosmos   \n",
              "4             4           4          ULA   \n",
              "5             5           5         CASC   \n",
              "\n",
              "                                            Location  \\\n",
              "0         LC-39A, Kennedy Space Center, Florida, USA   \n",
              "1  Site 9401 (SLS-2), Jiuquan Satellite Launch Ce...   \n",
              "3       Site 200/39, Baikonur Cosmodrome, Kazakhstan   \n",
              "4           SLC-41, Cape Canaveral AFS, Florida, USA   \n",
              "5       LC-9, Taiyuan Satellite Launch Center, China   \n",
              "\n",
              "                       Date  \\\n",
              "0 2020-08-07 05:12:00+00:00   \n",
              "1 2020-08-06 04:01:00+00:00   \n",
              "3 2020-07-30 21:25:00+00:00   \n",
              "4 2020-07-30 11:50:00+00:00   \n",
              "5 2020-07-25 03:13:00+00:00   \n",
              "\n",
              "                                              Detail Rocket_Status  Price  \\\n",
              "0       Falcon 9 Block 5 | Starlink V1 L9 & BlackSky  StatusActive  50.00   \n",
              "1                Long March 2D | Gaofen-9 04 & Q-SAT  StatusActive  29.75   \n",
              "3       Proton-M/Briz-M | Ekspress-80 & Ekspress-103  StatusActive  65.00   \n",
              "4                         Atlas V 541 | Perseverance  StatusActive 145.00   \n",
              "5  Long March 4B | Ziyuan-3 03, Apocalypse-10 & N...  StatusActive  64.68   \n",
              "\n",
              "  Mission_Status     Country ISO3  \n",
              "0        Success         USA  USA  \n",
              "1        Success       China  CHN  \n",
              "3        Success  Kazakhstan  KAZ  \n",
              "4        Success         USA  USA  \n",
              "5        Success       China  CHN  "
            ]
          },
          "execution_count": 76,
          "metadata": {},
          "output_type": "execute_result"
        }
      ],
      "source": [
        "df_copy.head(5)"
      ]
    },
    {
      "cell_type": "code",
      "execution_count": null,
      "metadata": {
        "id": "VEkHzAk2pTvj"
      },
      "outputs": [],
      "source": []
    },
    {
      "cell_type": "code",
      "execution_count": null,
      "metadata": {
        "id": "R5rFf501pKXD"
      },
      "outputs": [],
      "source": []
    },
    {
      "cell_type": "markdown",
      "metadata": {
        "id": "yRa1BbPoa-qf",
        "papermill": {
          "duration": 0.042662,
          "end_time": "2020-10-20T21:34:09.943196",
          "exception": false,
          "start_time": "2020-10-20T21:34:09.900534",
          "status": "completed"
        },
        "tags": []
      },
      "source": [
        "# Chart the Number of Launches per Year"
      ]
    },
    {
      "cell_type": "code",
      "execution_count": 80,
      "metadata": {
        "id": "_9FohVh3pcAJ"
      },
      "outputs": [],
      "source": [
        "df_copy[\"Date\"] = pd.to_datetime(df_copy[\"Date\"], errors=\"coerce\")\n",
        "df_copy[\"Year\"] = df_copy[\"Date\"].dt.year\n",
        "launches_per_year = df_copy.groupby(\"Year\")[\"Date\"].count().reset_index(name=\"Number of Launches\")"
      ]
    },
    {
      "cell_type": "code",
      "execution_count": 81,
      "metadata": {
        "id": "b2pggcZBpb4x"
      },
      "outputs": [
        {
          "data": {
            "image/png": "[encoded data removed]",
            "text/plain": [
              "<Figure size 1000x600 with 1 Axes>"
            ]
          },
          "metadata": {},
          "output_type": "display_data"
        }
      ],
      "source": [
        "# Plot\n",
        "plt.figure(figsize=(10, 6))\n",
        "plt.bar(launches_per_year[\"Year\"], launches_per_year[\"Number of Launches\"], color=\"skyblue\")\n",
        "plt.title(\"Number of Launches per Year\")\n",
        "plt.xlabel(\"Year\")\n",
        "plt.ylabel(\"Number of Launches\")\n",
        "plt.xticks(rotation=45, ha=\"right\")\n",
        "plt.tight_layout()\n",
        "plt.show()"
      ]
    },
    {
      "cell_type": "markdown",
      "metadata": {
        "id": "NomJVLi3tIaM"
      },
      "source": [
        "# Chart the Number of Launches Month-on-Month until the Present\n",
        "\n",
        "Which month has seen the highest number of launches in all time? Superimpose a rolling average on the month on month time series chart. "
      ]
    },
    {
      "cell_type": "code",
      "execution_count": 83,
      "metadata": {
        "id": "H1N2aBs5tH9z"
      },
      "outputs": [
        {
          "name": "stderr",
          "output_type": "stream",
          "text": [
            "C:\\Users\\admin\\AppData\\Local\\Temp\\ipykernel_18052\\2192785204.py:1: UserWarning:\n",
            "\n",
            "Converting to PeriodArray/Index representation will drop timezone information.\n",
            "\n"
          ]
        },
        {
          "data": {
            "image/png": "[encoded data removed]",
            "text/plain": [
              "<Figure size 1200x600 with 1 Axes>"
            ]
          },
          "metadata": {},
          "output_type": "display_data"
        }
      ],
      "source": [
        "df_copy[\"Year_Month\"] = df_copy[\"Date\"].dt.to_period(\"M\")\n",
        "launches_per_month = df_copy.groupby(\"Year_Month\")[\"Date\"].count().reset_index(name=\"Number of Launches\")\n",
        "launches_per_month[\"Rolling Average\"] = launches_per_month[\"Number of Launches\"].rolling(window=3).mean()\n",
        "# Plotting the time series with the rolling average\n",
        "plt.figure(figsize=(12, 6))\n",
        "plt.plot(launches_per_month[\"Year_Month\"].astype(str), launches_per_month[\"Number of Launches\"], label=\"Monthly Launches\", color=\"blue\")\n",
        "plt.plot(launches_per_month[\"Year_Month\"].astype(str), launches_per_month[\"Rolling Average\"], label=\"Rolling Average (3 months)\", color=\"red\", linestyle=\"--\")\n",
        "\n",
        "plt.title(\"Number of Launches Month-on-Month with Rolling Average\")\n",
        "plt.xlabel(\"Month\")\n",
        "plt.ylabel(\"Number of Launches\")\n",
        "plt.xticks(rotation=45, ha=\"right\")\n",
        "plt.legend()\n",
        "plt.tight_layout()\n",
        "plt.show()"
      ]
    },
    {
      "cell_type": "code",
      "execution_count": 84,
      "metadata": {
        "id": "pfw0aX1lpdRv"
      },
      "outputs": [
        {
          "name": "stdout",
          "output_type": "stream",
          "text": [
            "Month with the highest number of launches: 2017-06\n",
            "Number of launches in that month: 12\n"
          ]
        }
      ],
      "source": [
        "max_launches_month = launches_per_month.loc[launches_per_month[\"Number of Launches\"].idxmax()]\n",
        "print(\"Month with the highest number of launches:\", max_launches_month[\"Year_Month\"])\n",
        "print(\"Number of launches in that month:\", max_launches_month[\"Number of Launches\"])"
      ]
    },
    {
      "cell_type": "markdown",
      "metadata": {
        "id": "t-avMIZoa-qh",
        "papermill": {
          "duration": 0.044409,
          "end_time": "2020-10-20T21:34:10.162592",
          "exception": false,
          "start_time": "2020-10-20T21:34:10.118183",
          "status": "completed"
        },
        "tags": []
      },
      "source": [
        "# Launches per Month: Which months are most popular and least popular for launches?\n",
        "\n",
        "Some months have better weather than others. Which time of year seems to be best for space missions?"
      ]
    },
    {
      "cell_type": "code",
      "execution_count": 85,
      "metadata": {
        "id": "zmtp5uBHppFG"
      },
      "outputs": [
        {
          "data": {
            "image/png": "[encoded data removed]",
            "text/plain": [
              "<Figure size 1000x600 with 1 Axes>"
            ]
          },
          "metadata": {},
          "output_type": "display_data"
        }
      ],
      "source": [
        "df_copy[\"Month\"] = df_copy[\"Date\"].dt.month_name()\n",
        "\n",
        "# Group by month and count the number of launches\n",
        "launches_per_month = df_copy.groupby(\"Month\")[\"Date\"].count().reset_index(name=\"Number of Launches\")\n",
        "\n",
        "# Reorder months to ensure the x-axis is in calendar order\n",
        "month_order = [\"January\", \"February\", \"March\", \"April\", \"May\", \"June\", \"July\", \"August\", \"September\", \"October\", \"November\", \"December\"]\n",
        "launches_per_month[\"Month\"] = pd.Categorical(launches_per_month[\"Month\"], categories=month_order, ordered=True)\n",
        "launches_per_month = launches_per_month.sort_values(\"Month\")\n",
        "\n",
        "# Plot the data\n",
        "plt.figure(figsize=(10, 6))\n",
        "plt.bar(launches_per_month[\"Month\"], launches_per_month[\"Number of Launches\"], color=\"skyblue\")\n",
        "plt.title(\"Number of Launches per Month\")\n",
        "plt.xlabel(\"Month\")\n",
        "plt.ylabel(\"Number of Launches\")\n",
        "plt.xticks(rotation=45, ha=\"right\")\n",
        "plt.tight_layout()\n",
        "plt.show()"
      ]
    },
    {
      "cell_type": "code",
      "execution_count": 86,
      "metadata": {
        "id": "fnk2m_cpppJo"
      },
      "outputs": [
        {
          "name": "stdout",
          "output_type": "stream",
          "text": [
            "Most popular month for launches: December with 89 launches\n",
            "Least popular month for launches: February with 60 launches\n"
          ]
        }
      ],
      "source": [
        "# Identify the most and least popular months\n",
        "most_popular_month = launches_per_month.loc[launches_per_month[\"Number of Launches\"].idxmax()]\n",
        "least_popular_month = launches_per_month.loc[launches_per_month[\"Number of Launches\"].idxmin()]\n",
        "\n",
        "print(f\"Most popular month for launches: {most_popular_month['Month']} with {most_popular_month['Number of Launches']} launches\")\n",
        "print(f\"Least popular month for launches: {least_popular_month['Month']} with {least_popular_month['Number of Launches']} launches\")"
      ]
    },
    {
      "cell_type": "markdown",
      "metadata": {
        "id": "dPQ_N_sfa-qo",
        "papermill": {
          "duration": 0.067915,
          "end_time": "2020-10-20T21:34:11.122539",
          "exception": false,
          "start_time": "2020-10-20T21:34:11.054624",
          "status": "completed"
        },
        "tags": []
      },
      "source": [
        "# How has the Launch Price varied Over Time? \n",
        "\n",
        "Create a line chart that shows the average price of rocket launches over time. "
      ]
    },
    {
      "cell_type": "code",
      "execution_count": null,
      "metadata": {
        "id": "hFc-2M5-qCrv"
      },
      "outputs": [],
      "source": []
    },
    {
      "cell_type": "code",
      "execution_count": null,
      "metadata": {
        "id": "ggYFiAsEqC6J"
      },
      "outputs": [],
      "source": []
    },
    {
      "cell_type": "markdown",
      "metadata": {
        "id": "8OYrWyiOa-qs",
        "papermill": {
          "duration": 0.047152,
          "end_time": "2020-10-20T21:34:11.681371",
          "exception": false,
          "start_time": "2020-10-20T21:34:11.634219",
          "status": "completed"
        },
        "tags": []
      },
      "source": [
        "# Chart the Number of Launches over Time by the Top 10 Organisations. \n",
        "\n",
        "How has the dominance of launches changed over time between the different players? "
      ]
    },
    {
      "cell_type": "code",
      "execution_count": null,
      "metadata": {
        "id": "RcsrPPpAqVFj"
      },
      "outputs": [],
      "source": []
    },
    {
      "cell_type": "code",
      "execution_count": null,
      "metadata": {
        "id": "1IgfafiyqWEe"
      },
      "outputs": [],
      "source": []
    },
    {
      "cell_type": "code",
      "execution_count": null,
      "metadata": {
        "id": "akCDKT8CqVjG"
      },
      "outputs": [],
      "source": []
    },
    {
      "cell_type": "markdown",
      "metadata": {
        "id": "6Cm8_ch6a-q7",
        "papermill": {
          "duration": 0.052399,
          "end_time": "2020-10-20T21:34:13.756781",
          "exception": false,
          "start_time": "2020-10-20T21:34:13.704382",
          "status": "completed"
        },
        "tags": []
      },
      "source": [
        "# Cold War Space Race: USA vs USSR\n",
        "\n",
        "The cold war lasted from the start of the dataset up until 1991. "
      ]
    },
    {
      "cell_type": "code",
      "execution_count": null,
      "metadata": {
        "id": "AcE_U8csrICL"
      },
      "outputs": [],
      "source": []
    },
    {
      "cell_type": "code",
      "execution_count": null,
      "metadata": {
        "id": "cOe_t4OmrHr9"
      },
      "outputs": [],
      "source": []
    },
    {
      "cell_type": "markdown",
      "metadata": {
        "id": "Os-3A5vLa-q9",
        "papermill": {
          "duration": 0.054318,
          "end_time": "2020-10-20T21:34:14.089604",
          "exception": false,
          "start_time": "2020-10-20T21:34:14.035286",
          "status": "completed"
        },
        "tags": []
      },
      "source": [
        "## Create a Plotly Pie Chart comparing the total number of launches of the USSR and the USA\n",
        "\n",
        "Hint: Remember to include former Soviet Republics like Kazakhstan when analysing the total number of launches. "
      ]
    },
    {
      "cell_type": "code",
      "execution_count": null,
      "metadata": {
        "id": "1irc6_W9rD59"
      },
      "outputs": [],
      "source": []
    },
    {
      "cell_type": "code",
      "execution_count": null,
      "metadata": {
        "id": "OhhuLQycrEE-"
      },
      "outputs": [],
      "source": []
    },
    {
      "cell_type": "markdown",
      "metadata": {
        "id": "0C29Zz4xa-rA",
        "papermill": {
          "duration": 0.052921,
          "end_time": "2020-10-20T21:34:14.340085",
          "exception": false,
          "start_time": "2020-10-20T21:34:14.287164",
          "status": "completed"
        },
        "tags": []
      },
      "source": [
        "## Create a Chart that Shows the Total Number of Launches Year-On-Year by the Two Superpowers"
      ]
    },
    {
      "cell_type": "code",
      "execution_count": null,
      "metadata": {
        "id": "9ISKvOiCrS73"
      },
      "outputs": [],
      "source": []
    },
    {
      "cell_type": "code",
      "execution_count": null,
      "metadata": {
        "id": "oCc7VTzGrTK-"
      },
      "outputs": [],
      "source": []
    },
    {
      "cell_type": "markdown",
      "metadata": {
        "id": "eWv4iZmra-rE",
        "papermill": {
          "duration": 0.079311,
          "end_time": "2020-10-20T21:34:14.933058",
          "exception": false,
          "start_time": "2020-10-20T21:34:14.853747",
          "status": "completed"
        },
        "tags": []
      },
      "source": [
        "## Chart the Total Number of Mission Failures Year on Year."
      ]
    },
    {
      "cell_type": "code",
      "execution_count": null,
      "metadata": {
        "id": "I-Zss5-Mre-4"
      },
      "outputs": [],
      "source": []
    },
    {
      "cell_type": "code",
      "execution_count": null,
      "metadata": {
        "id": "7Ps9Iq_crfYl"
      },
      "outputs": [],
      "source": []
    },
    {
      "cell_type": "markdown",
      "metadata": {
        "id": "XNp-NkrJriEF"
      },
      "source": [
        "## Chart the Percentage of Failures over Time\n",
        "\n",
        "Did failures go up or down over time? Did the countries get better at minimising risk and improving their chances of success over time? "
      ]
    },
    {
      "cell_type": "code",
      "execution_count": null,
      "metadata": {
        "id": "Kj3-zsI0rhOS"
      },
      "outputs": [],
      "source": []
    },
    {
      "cell_type": "code",
      "execution_count": null,
      "metadata": {
        "id": "nxnnzx89rwvH"
      },
      "outputs": [],
      "source": []
    },
    {
      "cell_type": "code",
      "execution_count": null,
      "metadata": {
        "id": "_TPWaaJ5r1Fz"
      },
      "outputs": [],
      "source": []
    },
    {
      "cell_type": "markdown",
      "metadata": {
        "id": "S5aOC7bGr2OX"
      },
      "source": [
        "# For Every Year Show which Country was in the Lead in terms of Total Number of Launches up to and including including 2020)\n",
        "\n",
        "Do the results change if we only look at the number of successful launches? "
      ]
    },
    {
      "cell_type": "code",
      "execution_count": null,
      "metadata": {
        "id": "_h0grIXKsOz_"
      },
      "outputs": [],
      "source": []
    },
    {
      "cell_type": "code",
      "execution_count": null,
      "metadata": {
        "id": "zgVysedmsOp4"
      },
      "outputs": [],
      "source": []
    },
    {
      "cell_type": "markdown",
      "metadata": {
        "id": "jQcqBfJ8serG"
      },
      "source": [
        "# Create a Year-on-Year Chart Showing the Organisation Doing the Most Number of Launches\n",
        "\n",
        "Which organisation was dominant in the 1970s and 1980s? Which organisation was dominant in 2018, 2019 and 2020? "
      ]
    },
    {
      "cell_type": "code",
      "execution_count": null,
      "metadata": {
        "id": "jc9ImQEWsztG"
      },
      "outputs": [],
      "source": []
    },
    {
      "cell_type": "code",
      "execution_count": null,
      "metadata": {
        "id": "r5frxzwlsz5W"
      },
      "outputs": [],
      "source": []
    },
    {
      "cell_type": "code",
      "execution_count": null,
      "metadata": {
        "id": "8vHKpuc5a-rc",
        "papermill": {
          "duration": 0.092403,
          "end_time": "2020-10-20T21:34:26.709168",
          "exception": false,
          "start_time": "2020-10-20T21:34:26.616765",
          "status": "completed"
        },
        "tags": []
      },
      "outputs": [],
      "source": []
    }
  ],
  "metadata": {
    "colab": {
      "name": "Space Missions Analysis (start).ipynb",
      "provenance": []
    },
    "kernelspec": {
      "display_name": "Python 3",
      "language": "python",
      "name": "python3"
    },
    "language_info": {
      "codemirror_mode": {
        "name": "ipython",
        "version": 3
      },
      "file_extension": ".py",
      "mimetype": "text/x-python",
      "name": "python",
      "nbconvert_exporter": "python",
      "pygments_lexer": "ipython3",
      "version": "3.13.2"
    },
    "papermill": {
      "duration": 28.468597,
      "end_time": "2020-10-20T21:34:26.910951",
      "environment_variables": {},
      "exception": null,
      "input_path": "__notebook__.ipynb",
      "output_path": "__notebook__.ipynb",
      "parameters": {},
      "start_time": "2020-10-20T21:33:58.442354",
      "version": "2.1.0"
    }
  },
  "nbformat": 4,
  "nbformat_minor": 0
}
