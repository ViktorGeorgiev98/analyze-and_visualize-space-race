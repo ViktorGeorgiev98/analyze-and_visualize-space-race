{
  "cells": [
    {
      "cell_type": "markdown",
      "metadata": {
        "id": "ka_FkvXBiABo"
      },
      "source": [
        "# Introduction"
      ]
    },
    {
      "cell_type": "markdown",
      "metadata": {
        "id": "AWaMmfxXa-p0",
        "papermill": {
          "duration": 0.035434,
          "end_time": "2020-10-20T21:34:01.886225",
          "exception": false,
          "start_time": "2020-10-20T21:34:01.850791",
          "status": "completed"
        },
        "tags": []
      },
      "source": [
        "<center><img src=\"https://i.imgur.com/9hLRsjZ.jpg\" height=400></center>\n",
        "\n",
        "This dataset was scraped from [nextspaceflight.com](https://nextspaceflight.com/launches/past/?page=1) and includes all the space missions since the beginning of Space Race between the USA and the Soviet Union in 1957!"
      ]
    },
    {
      "cell_type": "markdown",
      "metadata": {
        "id": "ufzKRKS3bV0r"
      },
      "source": [
        "### Install Package with Country Codes"
      ]
    },
    {
      "cell_type": "code",
      "execution_count": 2,
      "metadata": {
        "colab": {
          "base_uri": "https://localhost:8080/"
        },
        "id": "0HxV9o6dbRUE",
        "outputId": "35464d43-d601-4b8f-81fd-6dbd400167f5"
      },
      "outputs": [
        {
          "name": "stdout",
          "output_type": "stream",
          "text": [
            "Collecting iso3166\n",
            "  Downloading iso3166-2.1.1-py3-none-any.whl.metadata (6.6 kB)\n",
            "Downloading iso3166-2.1.1-py3-none-any.whl (9.8 kB)\n",
            "Installing collected packages: iso3166\n",
            "Successfully installed iso3166-2.1.1\n",
            "Note: you may need to restart the kernel to use updated packages.\n"
          ]
        },
        {
          "name": "stderr",
          "output_type": "stream",
          "text": [
            "\n",
            "[notice] A new release of pip is available: 25.0.1 -> 25.1.1\n",
            "[notice] To update, run: python.exe -m pip install --upgrade pip\n"
          ]
        }
      ],
      "source": [
        "%pip install iso3166"
      ]
    },
    {
      "cell_type": "markdown",
      "metadata": {
        "id": "sghkhFoLbof8"
      },
      "source": [
        "### Upgrade Plotly\n",
        "\n",
        "Run the cell below if you are working with Google Colab."
      ]
    },
    {
      "cell_type": "code",
      "execution_count": null,
      "metadata": {
        "colab": {
          "base_uri": "https://localhost:8080/"
        },
        "id": "gQ61wy9gbmxd",
        "outputId": "99185d87-acb8-4237-c0f7-bfb18bfd4d39"
      },
      "outputs": [
        {
          "name": "stdout",
          "output_type": "stream",
          "text": [
            "Requirement already up-to-date: plotly in /usr/local/lib/python3.6/dist-packages (4.12.0)\n",
            "Requirement already satisfied, skipping upgrade: six in /usr/local/lib/python3.6/dist-packages (from plotly) (1.15.0)\n",
            "Requirement already satisfied, skipping upgrade: retrying>=1.3.3 in /usr/local/lib/python3.6/dist-packages (from plotly) (1.3.3)\n"
          ]
        }
      ],
      "source": [
        "%pip install --upgrade plotly"
      ]
    },
    {
      "cell_type": "markdown",
      "metadata": {
        "id": "ErFDBihUi1jN"
      },
      "source": [
        "### Import Statements"
      ]
    },
    {
      "cell_type": "code",
      "execution_count": 3,
      "metadata": {
        "_cell_guid": "b1076dfc-b9ad-4769-8c92-a6c4dae69d19",
        "_kg_hide-input": true,
        "_kg_hide-output": true,
        "_uuid": "8f2839f25d086af736a60e9eeb907d3b93b6e0e5",
        "colab": {
          "base_uri": "https://localhost:8080/"
        },
        "execution": {
          "iopub.execute_input": "2020-10-20T21:34:02.101551Z",
          "iopub.status.busy": "2020-10-20T21:34:02.101085Z",
          "iopub.status.idle": "2020-10-20T21:34:03.726868Z",
          "shell.execute_reply": "2020-10-20T21:34:03.725783Z"
        },
        "id": "xdolY0-Sa-p1",
        "outputId": "7142dedb-82e9-457d-db44-cea4e121bdfe",
        "papermill": {
          "duration": 1.665326,
          "end_time": "2020-10-20T21:34:03.726995",
          "exception": false,
          "start_time": "2020-10-20T21:34:02.061669",
          "status": "completed"
        },
        "tags": []
      },
      "outputs": [],
      "source": [
        "import numpy as np\n",
        "import pandas as pd\n",
        "import plotly.express as px\n",
        "import matplotlib.pyplot as plt\n",
        "import seaborn as sns\n",
        "\n",
        "# These might be helpful:\n",
        "from iso3166 import countries\n",
        "from datetime import datetime, timedelta"
      ]
    },
    {
      "cell_type": "markdown",
      "metadata": {
        "id": "lovGPRgKxIgo"
      },
      "source": [
        "### Notebook Presentation"
      ]
    },
    {
      "cell_type": "code",
      "execution_count": 4,
      "metadata": {
        "id": "DHEULCOjxIIm"
      },
      "outputs": [],
      "source": [
        "pd.options.display.float_format = '{:,.2f}'.format"
      ]
    },
    {
      "cell_type": "markdown",
      "metadata": {
        "id": "yaT3QbjEa-p4",
        "papermill": {
          "duration": 0.034606,
          "end_time": "2020-10-20T21:34:03.798396",
          "exception": false,
          "start_time": "2020-10-20T21:34:03.763790",
          "status": "completed"
        },
        "tags": []
      },
      "source": [
        "### Load the Data"
      ]
    },
    {
      "cell_type": "code",
      "execution_count": 5,
      "metadata": {
        "_cell_guid": "79c7e3d0-c299-4dcb-8224-4455121ee9b0",
        "_kg_hide-input": true,
        "_uuid": "d629ff2d2480ee46fbb7e2d37f6b5fab8052498a",
        "execution": {
          "iopub.execute_input": "2020-10-20T21:34:03.874195Z",
          "iopub.status.busy": "2020-10-20T21:34:03.873775Z",
          "iopub.status.idle": "2020-10-20T21:34:03.921919Z",
          "shell.execute_reply": "2020-10-20T21:34:03.921418Z"
        },
        "id": "0lDOu8aka-p4",
        "papermill": {
          "duration": 0.08876,
          "end_time": "2020-10-20T21:34:03.922028",
          "exception": false,
          "start_time": "2020-10-20T21:34:03.833268",
          "status": "completed"
        },
        "tags": []
      },
      "outputs": [],
      "source": [
        "df_data = pd.read_csv('mission_launches.csv')"
      ]
    },
    {
      "cell_type": "markdown",
      "metadata": {
        "id": "jAnMiVcVjuKB"
      },
      "source": [
        "# Preliminary Data Exploration\n",
        "\n",
        "* What is the shape of `df_data`? \n",
        "* How many rows and columns does it have?\n",
        "* What are the column names?\n",
        "* Are there any NaN values or duplicates?"
      ]
    },
    {
      "cell_type": "code",
      "execution_count": 11,
      "metadata": {
        "id": "0tIuYcYNlPFQ"
      },
      "outputs": [
        {
          "name": "stdout",
          "output_type": "stream",
          "text": [
            "The shape of the data is: (4324, 9)\n",
            "Given the shape of the data ((4324, 9)), we can see that it has 4324 rows and 9 columns\n",
            "Column names of the data:\n",
            " Index(['Unnamed: 0.1', 'Unnamed: 0', 'Organisation', 'Location', 'Date',\n",
            "       'Detail', 'Rocket_Status', 'Price', 'Mission_Status'],\n",
            "      dtype='object')\n"
          ]
        }
      ],
      "source": [
        "# Shape\n",
        "shape = df_data.shape\n",
        "print(f\"The shape of the data is: {shape}\")\n",
        "\n",
        "# How many rows and columns ? \n",
        "print(f\"Given the shape of the data ({shape}), we can see that it has 4324 rows and 9 columns\")\n",
        "print(f\"Column names of the data:\\n {df_data.columns}\")"
      ]
    },
    {
      "cell_type": "code",
      "execution_count": null,
      "metadata": {
        "id": "0dw2hd9UlPmP"
      },
      "outputs": [
        {
          "name": "stdout",
          "output_type": "stream",
          "text": [
            "Does the date have duplicates: No\n"
          ]
        }
      ],
      "source": [
        "# Nan values or duplicates\n",
        "data_has_duplicates = \"Yes\" if df_data.duplicated().any() else \"No\"\n",
        "print(f\"Does the date have duplicates: {data_has_duplicates}\")"
      ]
    },
    {
      "cell_type": "markdown",
      "metadata": {},
      "source": [
        "Code shows **No** duplicates, let us check for **NaN** values"
      ]
    },
    {
      "cell_type": "code",
      "execution_count": 14,
      "metadata": {},
      "outputs": [
        {
          "name": "stdout",
          "output_type": "stream",
          "text": [
            "Does the data have NaN values: Yes\n"
          ]
        }
      ],
      "source": [
        "data_has_nan_values = \"Yes\" if df_data.isna().any().any() else \"No\"\n",
        "print(f\"Does the data have NaN values: {data_has_nan_values}\")"
      ]
    },
    {
      "cell_type": "markdown",
      "metadata": {},
      "source": [
        "Seems the data does have **NaN** values, let us see them"
      ]
    },
    {
      "cell_type": "code",
      "execution_count": 15,
      "metadata": {},
      "outputs": [
        {
          "name": "stdout",
          "output_type": "stream",
          "text": [
            "NaN values:\n",
            "Unnamed: 0.1         0\n",
            "Unnamed: 0           0\n",
            "Organisation         0\n",
            "Location             0\n",
            "Date                 0\n",
            "Detail               0\n",
            "Rocket_Status        0\n",
            "Price             3360\n",
            "Mission_Status       0\n",
            "dtype: int64\n"
          ]
        }
      ],
      "source": [
        "print(f\"NaN values:\\n{df_data.isna().sum()}\")"
      ]
    },
    {
      "cell_type": "markdown",
      "metadata": {},
      "source": [
        "They are in the price column. Let us see"
      ]
    },
    {
      "cell_type": "code",
      "execution_count": null,
      "metadata": {},
      "outputs": [
        {
          "name": "stdout",
          "output_type": "stream",
          "text": [
            "NaN values:\n",
            "Unnamed: 0.1      0\n",
            "Unnamed: 0        0\n",
            "Organisation      0\n",
            "Location          0\n",
            "Date              0\n",
            "Detail            0\n",
            "Rocket_Status     0\n",
            "Price             0\n",
            "Mission_Status    0\n",
            "dtype: int64\n"
          ]
        },
        {
          "data": {
            "text/plain": [
              "0        50.0\n",
              "1       29.75\n",
              "2           0\n",
              "3        65.0\n",
              "4       145.0\n",
              "        ...  \n",
              "4319        0\n",
              "4320        0\n",
              "4321        0\n",
              "4322        0\n",
              "4323        0\n",
              "Name: Price, Length: 4324, dtype: object"
            ]
          },
          "execution_count": 18,
          "metadata": {},
          "output_type": "execute_result"
        }
      ],
      "source": [
        "df_data[\"Price\"][:5]\n",
        "\n",
        "# Change to 0\n",
        "df_data[\"Price\"] = df_data[\"Price\"].fillna(0)\n",
        "\n",
        "# Check again\n",
        "print(f\"NaN values:\\n{df_data.isna().sum()}\")"
      ]
    },
    {
      "cell_type": "markdown",
      "metadata": {},
      "source": [
        "Now there are no more **NaN** values"
      ]
    },
    {
      "cell_type": "markdown",
      "metadata": {
        "id": "KUN30y6ja-p9",
        "papermill": {
          "duration": 0.05406,
          "end_time": "2020-10-20T21:34:04.149973",
          "exception": false,
          "start_time": "2020-10-20T21:34:04.095913",
          "status": "completed"
        },
        "tags": []
      },
      "source": [
        "## Data Cleaning - Check for Missing Values and Duplicates\n",
        "\n",
        "Consider removing columns containing junk data. "
      ]
    },
    {
      "cell_type": "code",
      "execution_count": null,
      "metadata": {
        "id": "wWQvnJb0k2Ig"
      },
      "outputs": [],
      "source": []
    },
    {
      "cell_type": "code",
      "execution_count": null,
      "metadata": {
        "id": "SfxVooCYk2As"
      },
      "outputs": [],
      "source": []
    },
    {
      "cell_type": "markdown",
      "metadata": {
        "id": "QHon_T5sa-p_",
        "papermill": {
          "duration": 0.036712,
          "end_time": "2020-10-20T21:34:05.227032",
          "exception": false,
          "start_time": "2020-10-20T21:34:05.190320",
          "status": "completed"
        },
        "tags": []
      },
      "source": [
        "## Descriptive Statistics"
      ]
    },
    {
      "cell_type": "code",
      "execution_count": 22,
      "metadata": {
        "id": "Fh1-libjkJIK"
      },
      "outputs": [
        {
          "data": {
            "text/html": [
              "<div>\n",
              "<style scoped>\n",
              "    .dataframe tbody tr th:only-of-type {\n",
              "        vertical-align: middle;\n",
              "    }\n",
              "\n",
              "    .dataframe tbody tr th {\n",
              "        vertical-align: top;\n",
              "    }\n",
              "\n",
              "    .dataframe thead th {\n",
              "        text-align: right;\n",
              "    }\n",
              "</style>\n",
              "<table border=\"1\" class=\"dataframe\">\n",
              "  <thead>\n",
              "    <tr style=\"text-align: right;\">\n",
              "      <th></th>\n",
              "      <th>Unnamed: 0.1</th>\n",
              "      <th>Unnamed: 0</th>\n",
              "      <th>Organisation</th>\n",
              "      <th>Location</th>\n",
              "      <th>Date</th>\n",
              "      <th>Detail</th>\n",
              "      <th>Rocket_Status</th>\n",
              "      <th>Price</th>\n",
              "      <th>Mission_Status</th>\n",
              "    </tr>\n",
              "  </thead>\n",
              "  <tbody>\n",
              "    <tr>\n",
              "      <th>4319</th>\n",
              "      <td>4319</td>\n",
              "      <td>4319</td>\n",
              "      <td>US Navy</td>\n",
              "      <td>LC-18A, Cape Canaveral AFS, Florida, USA</td>\n",
              "      <td>Wed Feb 05, 1958 07:33 UTC</td>\n",
              "      <td>Vanguard | Vanguard TV3BU</td>\n",
              "      <td>StatusRetired</td>\n",
              "      <td>0</td>\n",
              "      <td>Failure</td>\n",
              "    </tr>\n",
              "    <tr>\n",
              "      <th>4320</th>\n",
              "      <td>4320</td>\n",
              "      <td>4320</td>\n",
              "      <td>AMBA</td>\n",
              "      <td>LC-26A, Cape Canaveral AFS, Florida, USA</td>\n",
              "      <td>Sat Feb 01, 1958 03:48 UTC</td>\n",
              "      <td>Juno I | Explorer 1</td>\n",
              "      <td>StatusRetired</td>\n",
              "      <td>0</td>\n",
              "      <td>Success</td>\n",
              "    </tr>\n",
              "    <tr>\n",
              "      <th>4321</th>\n",
              "      <td>4321</td>\n",
              "      <td>4321</td>\n",
              "      <td>US Navy</td>\n",
              "      <td>LC-18A, Cape Canaveral AFS, Florida, USA</td>\n",
              "      <td>Fri Dec 06, 1957 16:44 UTC</td>\n",
              "      <td>Vanguard | Vanguard TV3</td>\n",
              "      <td>StatusRetired</td>\n",
              "      <td>0</td>\n",
              "      <td>Failure</td>\n",
              "    </tr>\n",
              "    <tr>\n",
              "      <th>4322</th>\n",
              "      <td>4322</td>\n",
              "      <td>4322</td>\n",
              "      <td>RVSN USSR</td>\n",
              "      <td>Site 1/5, Baikonur Cosmodrome, Kazakhstan</td>\n",
              "      <td>Sun Nov 03, 1957 02:30 UTC</td>\n",
              "      <td>Sputnik 8K71PS | Sputnik-2</td>\n",
              "      <td>StatusRetired</td>\n",
              "      <td>0</td>\n",
              "      <td>Success</td>\n",
              "    </tr>\n",
              "    <tr>\n",
              "      <th>4323</th>\n",
              "      <td>4323</td>\n",
              "      <td>4323</td>\n",
              "      <td>RVSN USSR</td>\n",
              "      <td>Site 1/5, Baikonur Cosmodrome, Kazakhstan</td>\n",
              "      <td>Fri Oct 04, 1957 19:28 UTC</td>\n",
              "      <td>Sputnik 8K71PS | Sputnik-1</td>\n",
              "      <td>StatusRetired</td>\n",
              "      <td>0</td>\n",
              "      <td>Success</td>\n",
              "    </tr>\n",
              "  </tbody>\n",
              "</table>\n",
              "</div>"
            ],
            "text/plain": [
              "      Unnamed: 0.1  Unnamed: 0 Organisation  \\\n",
              "4319          4319        4319      US Navy   \n",
              "4320          4320        4320         AMBA   \n",
              "4321          4321        4321      US Navy   \n",
              "4322          4322        4322    RVSN USSR   \n",
              "4323          4323        4323    RVSN USSR   \n",
              "\n",
              "                                       Location                        Date  \\\n",
              "4319   LC-18A, Cape Canaveral AFS, Florida, USA  Wed Feb 05, 1958 07:33 UTC   \n",
              "4320   LC-26A, Cape Canaveral AFS, Florida, USA  Sat Feb 01, 1958 03:48 UTC   \n",
              "4321   LC-18A, Cape Canaveral AFS, Florida, USA  Fri Dec 06, 1957 16:44 UTC   \n",
              "4322  Site 1/5, Baikonur Cosmodrome, Kazakhstan  Sun Nov 03, 1957 02:30 UTC   \n",
              "4323  Site 1/5, Baikonur Cosmodrome, Kazakhstan  Fri Oct 04, 1957 19:28 UTC   \n",
              "\n",
              "                          Detail  Rocket_Status Price Mission_Status  \n",
              "4319   Vanguard | Vanguard TV3BU  StatusRetired     0        Failure  \n",
              "4320         Juno I | Explorer 1  StatusRetired     0        Success  \n",
              "4321     Vanguard | Vanguard TV3  StatusRetired     0        Failure  \n",
              "4322  Sputnik 8K71PS | Sputnik-2  StatusRetired     0        Success  \n",
              "4323  Sputnik 8K71PS | Sputnik-1  StatusRetired     0        Success  "
            ]
          },
          "execution_count": 22,
          "metadata": {},
          "output_type": "execute_result"
        }
      ],
      "source": [
        "df_data.tail()"
      ]
    },
    {
      "cell_type": "code",
      "execution_count": 23,
      "metadata": {
        "id": "dGZa5HdbkJBT"
      },
      "outputs": [
        {
          "data": {
            "text/html": [
              "<div>\n",
              "<style scoped>\n",
              "    .dataframe tbody tr th:only-of-type {\n",
              "        vertical-align: middle;\n",
              "    }\n",
              "\n",
              "    .dataframe tbody tr th {\n",
              "        vertical-align: top;\n",
              "    }\n",
              "\n",
              "    .dataframe thead th {\n",
              "        text-align: right;\n",
              "    }\n",
              "</style>\n",
              "<table border=\"1\" class=\"dataframe\">\n",
              "  <thead>\n",
              "    <tr style=\"text-align: right;\">\n",
              "      <th></th>\n",
              "      <th>Unnamed: 0.1</th>\n",
              "      <th>Unnamed: 0</th>\n",
              "      <th>Organisation</th>\n",
              "      <th>Location</th>\n",
              "      <th>Date</th>\n",
              "      <th>Detail</th>\n",
              "      <th>Rocket_Status</th>\n",
              "      <th>Price</th>\n",
              "      <th>Mission_Status</th>\n",
              "    </tr>\n",
              "  </thead>\n",
              "  <tbody>\n",
              "    <tr>\n",
              "      <th>0</th>\n",
              "      <td>0</td>\n",
              "      <td>0</td>\n",
              "      <td>SpaceX</td>\n",
              "      <td>LC-39A, Kennedy Space Center, Florida, USA</td>\n",
              "      <td>Fri Aug 07, 2020 05:12 UTC</td>\n",
              "      <td>Falcon 9 Block 5 | Starlink V1 L9 &amp; BlackSky</td>\n",
              "      <td>StatusActive</td>\n",
              "      <td>50.0</td>\n",
              "      <td>Success</td>\n",
              "    </tr>\n",
              "    <tr>\n",
              "      <th>1</th>\n",
              "      <td>1</td>\n",
              "      <td>1</td>\n",
              "      <td>CASC</td>\n",
              "      <td>Site 9401 (SLS-2), Jiuquan Satellite Launch Ce...</td>\n",
              "      <td>Thu Aug 06, 2020 04:01 UTC</td>\n",
              "      <td>Long March 2D | Gaofen-9 04 &amp; Q-SAT</td>\n",
              "      <td>StatusActive</td>\n",
              "      <td>29.75</td>\n",
              "      <td>Success</td>\n",
              "    </tr>\n",
              "    <tr>\n",
              "      <th>2</th>\n",
              "      <td>2</td>\n",
              "      <td>2</td>\n",
              "      <td>SpaceX</td>\n",
              "      <td>Pad A, Boca Chica, Texas, USA</td>\n",
              "      <td>Tue Aug 04, 2020 23:57 UTC</td>\n",
              "      <td>Starship Prototype | 150 Meter Hop</td>\n",
              "      <td>StatusActive</td>\n",
              "      <td>0</td>\n",
              "      <td>Success</td>\n",
              "    </tr>\n",
              "    <tr>\n",
              "      <th>3</th>\n",
              "      <td>3</td>\n",
              "      <td>3</td>\n",
              "      <td>Roscosmos</td>\n",
              "      <td>Site 200/39, Baikonur Cosmodrome, Kazakhstan</td>\n",
              "      <td>Thu Jul 30, 2020 21:25 UTC</td>\n",
              "      <td>Proton-M/Briz-M | Ekspress-80 &amp; Ekspress-103</td>\n",
              "      <td>StatusActive</td>\n",
              "      <td>65.0</td>\n",
              "      <td>Success</td>\n",
              "    </tr>\n",
              "    <tr>\n",
              "      <th>4</th>\n",
              "      <td>4</td>\n",
              "      <td>4</td>\n",
              "      <td>ULA</td>\n",
              "      <td>SLC-41, Cape Canaveral AFS, Florida, USA</td>\n",
              "      <td>Thu Jul 30, 2020 11:50 UTC</td>\n",
              "      <td>Atlas V 541 | Perseverance</td>\n",
              "      <td>StatusActive</td>\n",
              "      <td>145.0</td>\n",
              "      <td>Success</td>\n",
              "    </tr>\n",
              "  </tbody>\n",
              "</table>\n",
              "</div>"
            ],
            "text/plain": [
              "   Unnamed: 0.1  Unnamed: 0 Organisation  \\\n",
              "0             0           0       SpaceX   \n",
              "1             1           1         CASC   \n",
              "2             2           2       SpaceX   \n",
              "3             3           3    Roscosmos   \n",
              "4             4           4          ULA   \n",
              "\n",
              "                                            Location  \\\n",
              "0         LC-39A, Kennedy Space Center, Florida, USA   \n",
              "1  Site 9401 (SLS-2), Jiuquan Satellite Launch Ce...   \n",
              "2                      Pad A, Boca Chica, Texas, USA   \n",
              "3       Site 200/39, Baikonur Cosmodrome, Kazakhstan   \n",
              "4           SLC-41, Cape Canaveral AFS, Florida, USA   \n",
              "\n",
              "                         Date                                        Detail  \\\n",
              "0  Fri Aug 07, 2020 05:12 UTC  Falcon 9 Block 5 | Starlink V1 L9 & BlackSky   \n",
              "1  Thu Aug 06, 2020 04:01 UTC           Long March 2D | Gaofen-9 04 & Q-SAT   \n",
              "2  Tue Aug 04, 2020 23:57 UTC            Starship Prototype | 150 Meter Hop   \n",
              "3  Thu Jul 30, 2020 21:25 UTC  Proton-M/Briz-M | Ekspress-80 & Ekspress-103   \n",
              "4  Thu Jul 30, 2020 11:50 UTC                    Atlas V 541 | Perseverance   \n",
              "\n",
              "  Rocket_Status  Price Mission_Status  \n",
              "0  StatusActive   50.0        Success  \n",
              "1  StatusActive  29.75        Success  \n",
              "2  StatusActive      0        Success  \n",
              "3  StatusActive   65.0        Success  \n",
              "4  StatusActive  145.0        Success  "
            ]
          },
          "execution_count": 23,
          "metadata": {},
          "output_type": "execute_result"
        }
      ],
      "source": [
        "df_data.head()"
      ]
    },
    {
      "cell_type": "code",
      "execution_count": 31,
      "metadata": {},
      "outputs": [
        {
          "data": {
            "text/plain": [
              "0      2020-08-07 05:12:00+00:00\n",
              "1      2020-08-06 04:01:00+00:00\n",
              "2      2020-08-04 23:57:00+00:00\n",
              "3      2020-07-30 21:25:00+00:00\n",
              "4      2020-07-30 11:50:00+00:00\n",
              "                  ...           \n",
              "4319   1958-02-05 07:33:00+00:00\n",
              "4320   1958-02-01 03:48:00+00:00\n",
              "4321   1957-12-06 16:44:00+00:00\n",
              "4322   1957-11-03 02:30:00+00:00\n",
              "4323   1957-10-04 19:28:00+00:00\n",
              "Name: Date, Length: 4324, dtype: datetime64[ns, UTC]"
            ]
          },
          "execution_count": 31,
          "metadata": {},
          "output_type": "execute_result"
        }
      ],
      "source": [
        "# Change date\n",
        "df_data['Date'] = pd.to_datetime(df_data['Date'], format='%a %b %d, %Y %H:%M %Z', errors='coerce')\n",
        "df_data[\"Date\"]"
      ]
    },
    {
      "cell_type": "markdown",
      "metadata": {
        "id": "cgCjcpeUkKPW"
      },
      "source": [
        "# Number of Launches per Company\n",
        "\n",
        "Create a chart that shows the number of space mission launches by organisation."
      ]
    },
    {
      "cell_type": "code",
      "execution_count": 35,
      "metadata": {
        "id": "rxvcIrtskxYB"
      },
      "outputs": [
        {
          "name": "stdout",
          "output_type": "stream",
          "text": [
            "Number of launches per company: \n",
            "Organisation\n",
            "RVSN USSR           1777\n",
            "Arianespace          279\n",
            "General Dynamics     251\n",
            "CASC                 251\n",
            "NASA                 203\n",
            "VKS RF               201\n",
            "US Air Force         161\n",
            "ULA                  140\n",
            "Boeing               136\n",
            "Martin Marietta      114\n",
            "SpaceX               100\n",
            "MHI                   84\n",
            "Northrop              83\n",
            "Lockheed              79\n",
            "ISRO                  76\n",
            "Roscosmos             55\n",
            "ILS                   46\n",
            "Sea Launch            36\n",
            "ISAS                  30\n",
            "Kosmotras             22\n",
            "US Navy               17\n",
            "Rocket Lab            13\n",
            "ISA                   13\n",
            "Eurockot              13\n",
            "ESA                   13\n",
            "Blue Origin           12\n",
            "IAI                   11\n",
            "ExPace                10\n",
            "ASI                    9\n",
            "CNES                   8\n",
            "AMBA                   8\n",
            "JAXA                   7\n",
            "Land Launch            7\n",
            "MITT                   7\n",
            "UT                     5\n",
            "CASIC                  5\n",
            "KCST                   5\n",
            "Exos                   4\n",
            "CECLES                 4\n",
            "Arm??e de l'Air        4\n",
            "SRC                    3\n",
            "KARI                   3\n",
            "AEB                    3\n",
            "RAE                    2\n",
            "Yuzhmash               2\n",
            "OKB-586                2\n",
            "Virgin Orbit           1\n",
            "IRGC                   1\n",
            "OneSpace               1\n",
            "Landspace              1\n",
            "i-Space                1\n",
            "Sandia                 1\n",
            "Starsem                1\n",
            "Khrunichev             1\n",
            "Douglas                1\n",
            "EER                    1\n",
            "Name: count, dtype: int64\n"
          ]
        }
      ],
      "source": [
        "number_of_launches_per_company = df_data[\"Organisation\"].value_counts()\n",
        "print(f\"Number of launches per company: \\n{number_of_launches_per_company}\")"
      ]
    },
    {
      "cell_type": "markdown",
      "metadata": {},
      "source": [
        "Let us visualize it"
      ]
    },
    {
      "cell_type": "code",
      "execution_count": 40,
      "metadata": {
        "id": "qgneHUbWkw5v"
      },
      "outputs": [
        {
          "data": {
            "image/png": "[encoded data removed]",
            "text/plain": [
              "<Figure size 1200x600 with 1 Axes>"
            ]
          },
          "metadata": {},
          "output_type": "display_data"
        }
      ],
      "source": [
        "top_n = number_of_launches_per_company.head(20) # top 20 companies with the most launches\n",
        "plt.figure(figsize=(12, 6))\n",
        "plt.title(\"Number of launches per company\")\n",
        "plt.xlabel(\"Company\")\n",
        "plt.ylabel(\"Number of launches\")\n",
        "plt.xticks(rotation=45, ha='right')\n",
        "plt.tight_layout()\n",
        "plt.bar(top_n.index, top_n.values, color='skyblue')\n",
        "plt.show()\n"
      ]
    },
    {
      "cell_type": "markdown",
      "metadata": {
        "id": "7Gwteht2kR_h"
      },
      "source": [
        "# Number of Active versus Retired Rockets\n",
        "\n",
        "How many rockets are active compared to those that are decomissioned? "
      ]
    },
    {
      "cell_type": "code",
      "execution_count": 43,
      "metadata": {
        "id": "SxmOWS9cmTq6"
      },
      "outputs": [
        {
          "name": "stdout",
          "output_type": "stream",
          "text": [
            "Active vs not active rockets: \n",
            "Rocket_Status\n",
            "StatusRetired    3534\n",
            "StatusActive      790\n",
            "Name: count, dtype: int64\n",
            "Retired: 3534\n",
            "Active: 790\n"
          ]
        }
      ],
      "source": [
        "active_vs_decomissioned = df_data[\"Rocket_Status\"].value_counts()\n",
        "print(f\"Active vs not active rockets: \\n{active_vs_decomissioned}\")\n",
        "print(f\"Retired: {active_vs_decomissioned[\"StatusRetired\"]}\")\n",
        "print(f\"Active: {active_vs_decomissioned[\"StatusActive\"]}\")"
      ]
    },
    {
      "cell_type": "code",
      "execution_count": 45,
      "metadata": {
        "id": "ydj0-OZ6mToH"
      },
      "outputs": [
        {
          "data": {
            "image/png": "[encoded data removed]",
            "text/plain": [
              "<Figure size 1200x600 with 1 Axes>"
            ]
          },
          "metadata": {},
          "output_type": "display_data"
        }
      ],
      "source": [
        "# Make a bar chart\n",
        "plt.figure(figsize=(12, 6))\n",
        "plt.title(\"Active vs Decomissioned rockets\")\n",
        "plt.xlabel(\"Status\")\n",
        "plt.ylabel(\"Number of rockets\")\n",
        "plt.xticks(rotation=45, ha=\"right\")\n",
        "plt.bar(active_vs_decomissioned.index, active_vs_decomissioned.values, color=\"green\")\n",
        "plt.tight_layout()\n",
        "plt.show()"
      ]
    },
    {
      "cell_type": "markdown",
      "metadata": {
        "id": "y9WtP5xWkYkp"
      },
      "source": [
        "# Distribution of Mission Status\n",
        "\n",
        "How many missions were successful?\n",
        "How many missions failed?"
      ]
    },
    {
      "cell_type": "code",
      "execution_count": null,
      "metadata": {
        "id": "83kY1alqmUhb"
      },
      "outputs": [],
      "source": []
    },
    {
      "cell_type": "code",
      "execution_count": null,
      "metadata": {
        "id": "bdmXcaopmUeZ"
      },
      "outputs": [],
      "source": []
    },
    {
      "cell_type": "markdown",
      "metadata": {
        "id": "jgTCihuoa-qH",
        "papermill": {
          "duration": 0.03854,
          "end_time": "2020-10-20T21:34:05.968626",
          "exception": false,
          "start_time": "2020-10-20T21:34:05.930086",
          "status": "completed"
        },
        "tags": []
      },
      "source": [
        "# How Expensive are the Launches? \n",
        "\n",
        "Create a histogram and visualise the distribution. The price column is given in USD millions (careful of missing values). "
      ]
    },
    {
      "cell_type": "code",
      "execution_count": null,
      "metadata": {
        "id": "PLOMhzZFnSCO"
      },
      "outputs": [],
      "source": []
    },
    {
      "cell_type": "code",
      "execution_count": null,
      "metadata": {
        "id": "ru0IcY4nnSFU"
      },
      "outputs": [],
      "source": []
    },
    {
      "cell_type": "markdown",
      "metadata": {
        "id": "QiNtigQDne3E"
      },
      "source": [
        "# Use a Choropleth Map to Show the Number of Launches by Country\n",
        "\n",
        "* Create a choropleth map using [the plotly documentation](https://plotly.com/python/choropleth-maps/)\n",
        "* Experiment with [plotly's available colours](https://plotly.com/python/builtin-colorscales/). I quite like the sequential colour `matter` on this map. \n",
        "* You'll need to extract a `country` feature as well as change the country names that no longer exist.\n",
        "\n",
        "Wrangle the Country Names\n",
        "\n",
        "You'll need to use a 3 letter country code for each country. You might have to change some country names.\n",
        "\n",
        "* Russia is the Russian Federation\n",
        "* New Mexico should be USA\n",
        "* Yellow Sea refers to China\n",
        "* Shahrud Missile Test Site should be Iran\n",
        "* Pacific Missile Range Facility should be USA\n",
        "* Barents Sea should be Russian Federation\n",
        "* Gran Canaria should be USA\n",
        "\n",
        "\n",
        "You can use the iso3166 package to convert the country names to Alpha3 format."
      ]
    },
    {
      "cell_type": "code",
      "execution_count": null,
      "metadata": {
        "id": "Y46-4GHrozhF"
      },
      "outputs": [],
      "source": []
    },
    {
      "cell_type": "code",
      "execution_count": null,
      "metadata": {
        "id": "ESGRWiX6ozZG"
      },
      "outputs": [],
      "source": []
    },
    {
      "cell_type": "markdown",
      "metadata": {
        "id": "F3pwYSUlo_AK"
      },
      "source": [
        "# Use a Choropleth Map to Show the Number of Failures by Country\n"
      ]
    },
    {
      "cell_type": "code",
      "execution_count": null,
      "metadata": {
        "id": "8BH4ICtro9I0"
      },
      "outputs": [],
      "source": []
    },
    {
      "cell_type": "code",
      "execution_count": null,
      "metadata": {
        "id": "sfw-q7Obo9GM"
      },
      "outputs": [],
      "source": []
    },
    {
      "cell_type": "markdown",
      "metadata": {
        "id": "9LqcqSrKa-qN",
        "papermill": {
          "duration": 0.039343,
          "end_time": "2020-10-20T21:34:06.591694",
          "exception": false,
          "start_time": "2020-10-20T21:34:06.552351",
          "status": "completed"
        },
        "tags": []
      },
      "source": [
        "# Create a Plotly Sunburst Chart of the countries, organisations, and mission status. "
      ]
    },
    {
      "cell_type": "code",
      "execution_count": null,
      "metadata": {
        "id": "MwUfpoByo3_J"
      },
      "outputs": [],
      "source": []
    },
    {
      "cell_type": "code",
      "execution_count": null,
      "metadata": {
        "id": "-ZwZkx1ro4X9"
      },
      "outputs": [],
      "source": []
    },
    {
      "cell_type": "code",
      "execution_count": null,
      "metadata": {
        "id": "VfTGp2hLo4Ok"
      },
      "outputs": [],
      "source": []
    },
    {
      "cell_type": "markdown",
      "metadata": {
        "id": "70pG1BCZa-qY",
        "papermill": {
          "duration": 0.062712,
          "end_time": "2020-10-20T21:34:07.951200",
          "exception": false,
          "start_time": "2020-10-20T21:34:07.888488",
          "status": "completed"
        },
        "tags": []
      },
      "source": [
        "# Analyse the Total Amount of Money Spent by Organisation on Space Missions"
      ]
    },
    {
      "cell_type": "code",
      "execution_count": null,
      "metadata": {
        "id": "IaJYxwEVpKHy"
      },
      "outputs": [],
      "source": []
    },
    {
      "cell_type": "code",
      "execution_count": null,
      "metadata": {
        "id": "orIFf-appPDL"
      },
      "outputs": [],
      "source": []
    },
    {
      "cell_type": "code",
      "execution_count": null,
      "metadata": {
        "id": "86OMPfpEpO7R"
      },
      "outputs": [],
      "source": []
    },
    {
      "cell_type": "markdown",
      "metadata": {
        "id": "DpsWkPxzpPXs"
      },
      "source": [
        "# Analyse the Amount of Money Spent by Organisation per Launch"
      ]
    },
    {
      "cell_type": "code",
      "execution_count": null,
      "metadata": {
        "id": "opYJ6GiRpTk5"
      },
      "outputs": [],
      "source": []
    },
    {
      "cell_type": "code",
      "execution_count": null,
      "metadata": {
        "id": "VEkHzAk2pTvj"
      },
      "outputs": [],
      "source": []
    },
    {
      "cell_type": "code",
      "execution_count": null,
      "metadata": {
        "id": "R5rFf501pKXD"
      },
      "outputs": [],
      "source": []
    },
    {
      "cell_type": "markdown",
      "metadata": {
        "id": "yRa1BbPoa-qf",
        "papermill": {
          "duration": 0.042662,
          "end_time": "2020-10-20T21:34:09.943196",
          "exception": false,
          "start_time": "2020-10-20T21:34:09.900534",
          "status": "completed"
        },
        "tags": []
      },
      "source": [
        "# Chart the Number of Launches per Year"
      ]
    },
    {
      "cell_type": "code",
      "execution_count": null,
      "metadata": {
        "id": "_9FohVh3pcAJ"
      },
      "outputs": [],
      "source": []
    },
    {
      "cell_type": "code",
      "execution_count": null,
      "metadata": {
        "id": "b2pggcZBpb4x"
      },
      "outputs": [],
      "source": []
    },
    {
      "cell_type": "markdown",
      "metadata": {
        "id": "NomJVLi3tIaM"
      },
      "source": [
        "# Chart the Number of Launches Month-on-Month until the Present\n",
        "\n",
        "Which month has seen the highest number of launches in all time? Superimpose a rolling average on the month on month time series chart. "
      ]
    },
    {
      "cell_type": "code",
      "execution_count": null,
      "metadata": {
        "id": "H1N2aBs5tH9z"
      },
      "outputs": [],
      "source": []
    },
    {
      "cell_type": "code",
      "execution_count": null,
      "metadata": {
        "id": "pfw0aX1lpdRv"
      },
      "outputs": [],
      "source": []
    },
    {
      "cell_type": "markdown",
      "metadata": {
        "id": "t-avMIZoa-qh",
        "papermill": {
          "duration": 0.044409,
          "end_time": "2020-10-20T21:34:10.162592",
          "exception": false,
          "start_time": "2020-10-20T21:34:10.118183",
          "status": "completed"
        },
        "tags": []
      },
      "source": [
        "# Launches per Month: Which months are most popular and least popular for launches?\n",
        "\n",
        "Some months have better weather than others. Which time of year seems to be best for space missions?"
      ]
    },
    {
      "cell_type": "code",
      "execution_count": null,
      "metadata": {
        "id": "zmtp5uBHppFG"
      },
      "outputs": [],
      "source": []
    },
    {
      "cell_type": "code",
      "execution_count": null,
      "metadata": {
        "id": "fnk2m_cpppJo"
      },
      "outputs": [],
      "source": []
    },
    {
      "cell_type": "markdown",
      "metadata": {
        "id": "dPQ_N_sfa-qo",
        "papermill": {
          "duration": 0.067915,
          "end_time": "2020-10-20T21:34:11.122539",
          "exception": false,
          "start_time": "2020-10-20T21:34:11.054624",
          "status": "completed"
        },
        "tags": []
      },
      "source": [
        "# How has the Launch Price varied Over Time? \n",
        "\n",
        "Create a line chart that shows the average price of rocket launches over time. "
      ]
    },
    {
      "cell_type": "code",
      "execution_count": null,
      "metadata": {
        "id": "hFc-2M5-qCrv"
      },
      "outputs": [],
      "source": []
    },
    {
      "cell_type": "code",
      "execution_count": null,
      "metadata": {
        "id": "ggYFiAsEqC6J"
      },
      "outputs": [],
      "source": []
    },
    {
      "cell_type": "markdown",
      "metadata": {
        "id": "8OYrWyiOa-qs",
        "papermill": {
          "duration": 0.047152,
          "end_time": "2020-10-20T21:34:11.681371",
          "exception": false,
          "start_time": "2020-10-20T21:34:11.634219",
          "status": "completed"
        },
        "tags": []
      },
      "source": [
        "# Chart the Number of Launches over Time by the Top 10 Organisations. \n",
        "\n",
        "How has the dominance of launches changed over time between the different players? "
      ]
    },
    {
      "cell_type": "code",
      "execution_count": null,
      "metadata": {
        "id": "RcsrPPpAqVFj"
      },
      "outputs": [],
      "source": []
    },
    {
      "cell_type": "code",
      "execution_count": null,
      "metadata": {
        "id": "1IgfafiyqWEe"
      },
      "outputs": [],
      "source": []
    },
    {
      "cell_type": "code",
      "execution_count": null,
      "metadata": {
        "id": "akCDKT8CqVjG"
      },
      "outputs": [],
      "source": []
    },
    {
      "cell_type": "markdown",
      "metadata": {
        "id": "6Cm8_ch6a-q7",
        "papermill": {
          "duration": 0.052399,
          "end_time": "2020-10-20T21:34:13.756781",
          "exception": false,
          "start_time": "2020-10-20T21:34:13.704382",
          "status": "completed"
        },
        "tags": []
      },
      "source": [
        "# Cold War Space Race: USA vs USSR\n",
        "\n",
        "The cold war lasted from the start of the dataset up until 1991. "
      ]
    },
    {
      "cell_type": "code",
      "execution_count": null,
      "metadata": {
        "id": "AcE_U8csrICL"
      },
      "outputs": [],
      "source": []
    },
    {
      "cell_type": "code",
      "execution_count": null,
      "metadata": {
        "id": "cOe_t4OmrHr9"
      },
      "outputs": [],
      "source": []
    },
    {
      "cell_type": "markdown",
      "metadata": {
        "id": "Os-3A5vLa-q9",
        "papermill": {
          "duration": 0.054318,
          "end_time": "2020-10-20T21:34:14.089604",
          "exception": false,
          "start_time": "2020-10-20T21:34:14.035286",
          "status": "completed"
        },
        "tags": []
      },
      "source": [
        "## Create a Plotly Pie Chart comparing the total number of launches of the USSR and the USA\n",
        "\n",
        "Hint: Remember to include former Soviet Republics like Kazakhstan when analysing the total number of launches. "
      ]
    },
    {
      "cell_type": "code",
      "execution_count": null,
      "metadata": {
        "id": "1irc6_W9rD59"
      },
      "outputs": [],
      "source": []
    },
    {
      "cell_type": "code",
      "execution_count": null,
      "metadata": {
        "id": "OhhuLQycrEE-"
      },
      "outputs": [],
      "source": []
    },
    {
      "cell_type": "markdown",
      "metadata": {
        "id": "0C29Zz4xa-rA",
        "papermill": {
          "duration": 0.052921,
          "end_time": "2020-10-20T21:34:14.340085",
          "exception": false,
          "start_time": "2020-10-20T21:34:14.287164",
          "status": "completed"
        },
        "tags": []
      },
      "source": [
        "## Create a Chart that Shows the Total Number of Launches Year-On-Year by the Two Superpowers"
      ]
    },
    {
      "cell_type": "code",
      "execution_count": null,
      "metadata": {
        "id": "9ISKvOiCrS73"
      },
      "outputs": [],
      "source": []
    },
    {
      "cell_type": "code",
      "execution_count": null,
      "metadata": {
        "id": "oCc7VTzGrTK-"
      },
      "outputs": [],
      "source": []
    },
    {
      "cell_type": "markdown",
      "metadata": {
        "id": "eWv4iZmra-rE",
        "papermill": {
          "duration": 0.079311,
          "end_time": "2020-10-20T21:34:14.933058",
          "exception": false,
          "start_time": "2020-10-20T21:34:14.853747",
          "status": "completed"
        },
        "tags": []
      },
      "source": [
        "## Chart the Total Number of Mission Failures Year on Year."
      ]
    },
    {
      "cell_type": "code",
      "execution_count": null,
      "metadata": {
        "id": "I-Zss5-Mre-4"
      },
      "outputs": [],
      "source": []
    },
    {
      "cell_type": "code",
      "execution_count": null,
      "metadata": {
        "id": "7Ps9Iq_crfYl"
      },
      "outputs": [],
      "source": []
    },
    {
      "cell_type": "markdown",
      "metadata": {
        "id": "XNp-NkrJriEF"
      },
      "source": [
        "## Chart the Percentage of Failures over Time\n",
        "\n",
        "Did failures go up or down over time? Did the countries get better at minimising risk and improving their chances of success over time? "
      ]
    },
    {
      "cell_type": "code",
      "execution_count": null,
      "metadata": {
        "id": "Kj3-zsI0rhOS"
      },
      "outputs": [],
      "source": []
    },
    {
      "cell_type": "code",
      "execution_count": null,
      "metadata": {
        "id": "nxnnzx89rwvH"
      },
      "outputs": [],
      "source": []
    },
    {
      "cell_type": "code",
      "execution_count": null,
      "metadata": {
        "id": "_TPWaaJ5r1Fz"
      },
      "outputs": [],
      "source": []
    },
    {
      "cell_type": "markdown",
      "metadata": {
        "id": "S5aOC7bGr2OX"
      },
      "source": [
        "# For Every Year Show which Country was in the Lead in terms of Total Number of Launches up to and including including 2020)\n",
        "\n",
        "Do the results change if we only look at the number of successful launches? "
      ]
    },
    {
      "cell_type": "code",
      "execution_count": null,
      "metadata": {
        "id": "_h0grIXKsOz_"
      },
      "outputs": [],
      "source": []
    },
    {
      "cell_type": "code",
      "execution_count": null,
      "metadata": {
        "id": "zgVysedmsOp4"
      },
      "outputs": [],
      "source": []
    },
    {
      "cell_type": "markdown",
      "metadata": {
        "id": "jQcqBfJ8serG"
      },
      "source": [
        "# Create a Year-on-Year Chart Showing the Organisation Doing the Most Number of Launches\n",
        "\n",
        "Which organisation was dominant in the 1970s and 1980s? Which organisation was dominant in 2018, 2019 and 2020? "
      ]
    },
    {
      "cell_type": "code",
      "execution_count": null,
      "metadata": {
        "id": "jc9ImQEWsztG"
      },
      "outputs": [],
      "source": []
    },
    {
      "cell_type": "code",
      "execution_count": null,
      "metadata": {
        "id": "r5frxzwlsz5W"
      },
      "outputs": [],
      "source": []
    },
    {
      "cell_type": "code",
      "execution_count": null,
      "metadata": {
        "id": "8vHKpuc5a-rc",
        "papermill": {
          "duration": 0.092403,
          "end_time": "2020-10-20T21:34:26.709168",
          "exception": false,
          "start_time": "2020-10-20T21:34:26.616765",
          "status": "completed"
        },
        "tags": []
      },
      "outputs": [],
      "source": []
    }
  ],
  "metadata": {
    "colab": {
      "name": "Space Missions Analysis (start).ipynb",
      "provenance": []
    },
    "kernelspec": {
      "display_name": "Python 3",
      "language": "python",
      "name": "python3"
    },
    "language_info": {
      "codemirror_mode": {
        "name": "ipython",
        "version": 3
      },
      "file_extension": ".py",
      "mimetype": "text/x-python",
      "name": "python",
      "nbconvert_exporter": "python",
      "pygments_lexer": "ipython3",
      "version": "3.13.2"
    },
    "papermill": {
      "duration": 28.468597,
      "end_time": "2020-10-20T21:34:26.910951",
      "environment_variables": {},
      "exception": null,
      "input_path": "__notebook__.ipynb",
      "output_path": "__notebook__.ipynb",
      "parameters": {},
      "start_time": "2020-10-20T21:33:58.442354",
      "version": "2.1.0"
    }
  },
  "nbformat": 4,
  "nbformat_minor": 0
}
